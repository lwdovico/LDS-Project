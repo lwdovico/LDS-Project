{
 "cells": [
  {
   "cell_type": "markdown",
   "id": "cdee7801",
   "metadata": {},
   "source": [
    "# PREPROCESSING\n",
    "As external library used we only ***re*** to split according to a regular expression pattern and ***pycountry_convert*** to fetch the countries and continents"
   ]
  },
  {
   "cell_type": "markdown",
   "id": "8cf0e0dd",
   "metadata": {},
   "source": [
    "### Importing the Dataset"
   ]
  },
  {
   "cell_type": "code",
   "execution_count": 1,
   "id": "4a814410",
   "metadata": {},
   "outputs": [],
   "source": [
    "#function to import the csv file into python\n",
    "def import_csv(file_name):\n",
    "    \n",
    "    with open(file_name) as f:\n",
    "        ds = f.readlines()\n",
    "        \n",
    "    return ds"
   ]
  },
  {
   "cell_type": "markdown",
   "id": "05e0ad64",
   "metadata": {},
   "source": [
    "### Adjusting the rows"
   ]
  },
  {
   "cell_type": "code",
   "execution_count": 2,
   "id": "02178460",
   "metadata": {},
   "outputs": [],
   "source": [
    "import re\n",
    "\n",
    "#function to clean and split a string from the csv format to a list of columns\n",
    "def adjust_row(string):\n",
    "    #splitting elements in the list when encountering a comma or a group delimited by quotes\n",
    "    splitted_string = re.split(r',|\"([^\"]*)\"', string.rstrip('\\n'))\n",
    "    \n",
    "    #I have some None elements because I matched two expression and the second (within quotes) return mostly None\n",
    "    #when it doesn't return None it returns empty string delimiting the match (because I am splitting)\n",
    "    #thus I filter None and remove all this stuff\n",
    "    filtered_row = list(filter(None, splitted_string))\n",
    "    \n",
    "    return filtered_row"
   ]
  },
  {
   "cell_type": "markdown",
   "id": "77c750a3",
   "metadata": {},
   "source": [
    "### Getting a clean list from the CSV"
   ]
  },
  {
   "cell_type": "code",
   "execution_count": 3,
   "id": "426a4cbf",
   "metadata": {},
   "outputs": [],
   "source": [
    "#function to get a list of lists from a csv dataset\n",
    "def list_from_csv(ds, header):\n",
    "    new_rows = list()\n",
    "\n",
    "    for row in ds[1:]:\n",
    "        #clean the row\n",
    "        adjusted_row = adjust_row(row)\n",
    "        #check if the columns per row corresponds to the header's columns\n",
    "        assert len(adjusted_row) == len(header), f'{adjusted_row}\\n\\nThe length of the row must be equal to the length of the header!'\n",
    "\n",
    "        new_rows.append(adjusted_row)\n",
    "    return new_rows"
   ]
  },
  {
   "cell_type": "markdown",
   "id": "24f264b1",
   "metadata": {},
   "source": [
    "### Function to import and process everything"
   ]
  },
  {
   "cell_type": "code",
   "execution_count": 4,
   "id": "819fd01a",
   "metadata": {},
   "outputs": [],
   "source": [
    "#wrapping the functions above to read the csv properly, it returns the header and the rows of the dataset\n",
    "def read_csv(file_name):\n",
    "    ds = import_csv(file_name)\n",
    "    header = adjust_row(ds[0])\n",
    "    fixed_rows = list_from_csv(ds, header)\n",
    "    return header, fixed_rows"
   ]
  },
  {
   "cell_type": "markdown",
   "id": "f149b7a1",
   "metadata": {},
   "source": [
    "### Creating the column index from the header"
   ]
  },
  {
   "cell_type": "code",
   "execution_count": 5,
   "id": "fcf9dc67",
   "metadata": {
    "scrolled": true
   },
   "outputs": [],
   "source": [
    "#function to get the index of the columns\n",
    "def header_idx(header):\n",
    "    #to retrieve the index of the column from its name\n",
    "    header_dict = dict([(feat, n) for n, feat in enumerate(header)])\n",
    "    return header_dict"
   ]
  },
  {
   "cell_type": "markdown",
   "id": "bac8c043",
   "metadata": {},
   "source": [
    "### List the column values from the index of the column"
   ]
  },
  {
   "cell_type": "code",
   "execution_count": 6,
   "id": "01bc066a",
   "metadata": {},
   "outputs": [],
   "source": [
    "#function to extract a single column from a list of lists by inputting the index\n",
    "def extract_col(rows, idx):\n",
    "    return [row[idx] for row in rows]"
   ]
  },
  {
   "cell_type": "markdown",
   "id": "ffa6f507",
   "metadata": {},
   "source": [
    "### Get the DataFrame into a Dictionary format"
   ]
  },
  {
   "cell_type": "code",
   "execution_count": 7,
   "id": "01e998dc",
   "metadata": {},
   "outputs": [],
   "source": [
    "#function to get a dictionary with keys the column name in the header\n",
    "#and as values the correspondeing columns (in a list format)\n",
    "\n",
    "def dict_from_header(header, rows_ds):\n",
    "    header_dict = header_idx(header) #get index from the header\n",
    "    dict_columns = dict()\n",
    "\n",
    "    #for every column get its index and extract its rows\n",
    "    for key in header_dict.keys():\n",
    "        idx = header_dict[key] #get index of col\n",
    "        dict_columns[key] = extract_col(rows_ds, idx) #extract column's values\n",
    "        \n",
    "    return dict_columns"
   ]
  },
  {
   "cell_type": "code",
   "execution_count": 8,
   "id": "355e8468",
   "metadata": {},
   "outputs": [],
   "source": [
    "#final wrapper to import and preprocess the csv directly into a dictionary\n",
    "#it can also return the header if needed\n",
    "\n",
    "def preprocess_csv_to_dict(file_name, get_header = False):\n",
    "    header, new_rows = read_csv(file_name) #preprocess and read the file\n",
    "    dict_columns = dict_from_header(header, new_rows) #getting the proper dataframe\n",
    "    \n",
    "    if get_header == True:\n",
    "        header_dict = header_idx(header) #to look at the index of the columns\n",
    "        return dict_columns, header_dict\n",
    "    \n",
    "    return dict_columns"
   ]
  },
  {
   "cell_type": "code",
   "execution_count": 9,
   "id": "6c9b7f76",
   "metadata": {},
   "outputs": [],
   "source": [
    "dict_columns = preprocess_csv_to_dict('answerdatacorrect.csv')"
   ]
  },
  {
   "cell_type": "markdown",
   "id": "aa7694a9",
   "metadata": {},
   "source": [
    "### Create Tables"
   ]
  },
  {
   "cell_type": "code",
   "execution_count": 10,
   "id": "a6562576",
   "metadata": {},
   "outputs": [],
   "source": [
    "#input the dataset in the dictionary format and the columns for which a table is requested\n",
    "#multiple coluns are accepted, in order to allow creating tables with multiple columns\n",
    "\n",
    "def unify_rows(dict_columns, *columns_to_merge):\n",
    "    merging = list()\n",
    "    \n",
    "    #for every column to merge\n",
    "    for col in columns_to_merge:\n",
    "        row_of_col = dict_columns[col] #get the rows\n",
    "        merging.append(row_of_col) #append the rows to a list\n",
    "    \n",
    "    return zip(*merging) #zip the list of lists"
   ]
  },
  {
   "cell_type": "code",
   "execution_count": 11,
   "id": "741dcf78",
   "metadata": {},
   "outputs": [],
   "source": [
    "#to create a table from multiple columns\n",
    "def gen_table(dict_columns, *columns):\n",
    "    table_records = list(unify_rows(dict_columns, *columns)) #get the table of records\n",
    "    return [columns] + table_records #returns the full table with the header and the records\n",
    "\n",
    "#it is the same as before but it accepts a list of columns instead of multiple column parameters\n",
    "def gen_table_from_list(dict_columns, columns):\n",
    "    table_records = list(unify_rows(dict_columns, *columns))\n",
    "    return [columns] + table_records\n",
    "\n",
    "#it gets the table of distinct elements and it returns it sorted\n",
    "def gen_table_distinct(dict_columns, *columns):\n",
    "    #here a set is created, then it is made as a list in order to sort it\n",
    "    table_records = sorted(list(set(unify_rows(dict_columns, *columns))))\n",
    "    #finally the header is added\n",
    "    return [columns] + table_records"
   ]
  },
  {
   "cell_type": "markdown",
   "id": "14c6b81b",
   "metadata": {},
   "source": [
    "## Geography Table (create Primary Keys and Write CSVs Functions)"
   ]
  },
  {
   "cell_type": "markdown",
   "id": "57590596",
   "metadata": {},
   "source": [
    "There is a perfect correspondence between RegionId and CountryCode, thus the RegionId is probably a CountryId instead, and I don't need it in the data I will upload"
   ]
  },
  {
   "cell_type": "code",
   "execution_count": 12,
   "id": "113c3ed2",
   "metadata": {},
   "outputs": [
    {
     "data": {
      "text/plain": [
       "[('RegionId', 'CountryCode'),\n",
       " ('1', 'au'),\n",
       " ('10', 'uk'),\n",
       " ('11', 'us'),\n",
       " ('2', 'be'),\n",
       " ('3', 'ca'),\n",
       " ('4', 'de'),\n",
       " ('5', 'es'),\n",
       " ('6', 'fr'),\n",
       " ('7', 'ie'),\n",
       " ('8', 'it'),\n",
       " ('9', 'nz')]"
      ]
     },
     "execution_count": 12,
     "metadata": {},
     "output_type": "execute_result"
    }
   ],
   "source": [
    "gen_table_distinct(dict_columns, 'RegionId', 'CountryCode')"
   ]
  },
  {
   "cell_type": "code",
   "execution_count": 13,
   "id": "d802c719",
   "metadata": {},
   "outputs": [],
   "source": [
    "temp_geo_tab = gen_table(dict_columns, 'Region', 'CountryCode')"
   ]
  },
  {
   "cell_type": "markdown",
   "id": "f12143b8",
   "metadata": {},
   "source": [
    "### Mapping Continents to the Country Code"
   ]
  },
  {
   "cell_type": "code",
   "execution_count": 14,
   "id": "4ca1f8be",
   "metadata": {},
   "outputs": [],
   "source": [
    "import pycountry_convert as pc\n",
    "\n",
    "#function to convert the alpha2 code to the continent\n",
    "def country_to_continent(country_alpha2):\n",
    "    country_alpha2 = country_alpha2.upper() #making the country code uppercase\n",
    "    \n",
    "    #correcting the uk to gb (as it is accepted by the library)\n",
    "    if country_alpha2 == 'UK':\n",
    "        country_alpha2 = 'GB'\n",
    "        \n",
    "    #get continent code from country code\n",
    "    country_continent_code = pc.country_alpha2_to_continent_code(country_alpha2)\n",
    "    #get continent name from continent code\n",
    "    country_continent_name = pc.convert_continent_code_to_continent_name(country_continent_code)\n",
    "    return country_continent_name"
   ]
  },
  {
   "cell_type": "code",
   "execution_count": 15,
   "id": "49657741",
   "metadata": {},
   "outputs": [],
   "source": [
    "country_codes = set([x[1] for x in temp_geo_tab[1:]])\n",
    "## {'au', 'be', 'ca', 'de', 'es', 'fr', 'ie', 'it', 'nz', 'uk', 'us'}\n",
    "map_country_to_cont = {cc : country_to_continent(cc) for cc in country_codes}\n",
    "## {'es': 'Europe', 'ie': 'Europe', 'ca': 'North America', ..., 'au': 'Oceania'}"
   ]
  },
  {
   "cell_type": "code",
   "execution_count": 16,
   "id": "f50a0bd5",
   "metadata": {},
   "outputs": [],
   "source": [
    "country_codes_list = [x[1] for x in temp_geo_tab[1:]]\n",
    "## ['es', 'fr', 'uk', ..., 'de', 'de', 'au']\n",
    "continent_column = list(map(lambda x: map_country_to_cont[x], country_codes_list))\n",
    "## ['Europe', 'Europe', 'Europe', ...,'Europe', 'Europe', 'Oceania']"
   ]
  },
  {
   "cell_type": "markdown",
   "id": "14160ac5",
   "metadata": {},
   "source": [
    "### Mapping Country Names to the Country Code"
   ]
  },
  {
   "cell_type": "code",
   "execution_count": 17,
   "id": "4116cdda",
   "metadata": {},
   "outputs": [],
   "source": [
    "def country_to_country_name(country_alpha2):\n",
    "    country_alpha2 = country_alpha2.upper() #making the country code uppercase\n",
    "    \n",
    "    #correcting the uk to gb (as it is accepted by the library)\n",
    "    if country_alpha2 == 'UK':\n",
    "        country_alpha2 = 'GB'\n",
    "        \n",
    "    #get country name from country code\n",
    "    country_name = pc.country_alpha2_to_country_name(country_alpha2)\n",
    "    return country_name"
   ]
  },
  {
   "cell_type": "code",
   "execution_count": 18,
   "id": "1c174bfb",
   "metadata": {},
   "outputs": [],
   "source": [
    "map_country_to_name = {cc : country_to_country_name(cc) for cc in country_codes}\n",
    "## {'us': 'United States', 'nz': 'New Zealand', 'fr': 'France', ...,'it': 'Italy', 'au': 'Australia'}"
   ]
  },
  {
   "cell_type": "code",
   "execution_count": 19,
   "id": "cad9e76a",
   "metadata": {},
   "outputs": [],
   "source": [
    "country_name_column = list(map(lambda x: map_country_to_name[x], country_codes_list))\n",
    "## ['Germany', 'United States', 'Ireland', ...,'Ireland', 'Germany', 'United Kingdom']"
   ]
  },
  {
   "cell_type": "markdown",
   "id": "13e34a6b",
   "metadata": {},
   "source": [
    "### Add the Continent and CountryName Columns to the DataFrame"
   ]
  },
  {
   "cell_type": "code",
   "execution_count": 20,
   "id": "4e1e1054",
   "metadata": {},
   "outputs": [],
   "source": [
    "dict_columns['Continents'] = continent_column\n",
    "dict_columns['CountryName'] = country_name_column\n",
    "\n",
    "#geography_table = gen_table(dict_columns, 'Region', 'CountryCode', 'Continents')\n",
    "#[('Region', 'CountryCode', 'Continents'), ('galicia', 'es', 'Europe'), ('upland france', 'fr', 'Europe'), ...]"
   ]
  },
  {
   "cell_type": "markdown",
   "id": "3a71d0ae",
   "metadata": {},
   "source": [
    "### Create Primary Key Table"
   ]
  },
  {
   "cell_type": "code",
   "execution_count": 21,
   "id": "e36ed843",
   "metadata": {},
   "outputs": [],
   "source": [
    "#input the table and the primary key column's name\n",
    "#it adds the primary key to the table as its first column\n",
    "\n",
    "def set_primary_key(table, name_primary_key):\n",
    "    \n",
    "    #get the primary key column (with header the input name) by ranging across the rows\n",
    "    id_col = [name_primary_key] + [str(i) for i in range(1, len(table)+1)]\n",
    "    #zipping the primary key and the previous table, it has to be unzipped though\n",
    "    table_to_unzip = list(zip(id_col, table))\n",
    "    #get the number of columns (length of a row)\n",
    "    len_rows = len(table[0])\n",
    "    \n",
    "    #the output\n",
    "    outres = list()\n",
    "\n",
    "    #for each row in the table\n",
    "    for row in table_to_unzip:\n",
    "        #get the first element (the primary key)\n",
    "        unzipped = [row[0]]\n",
    "        \n",
    "        #loop across the second element with the original columns\n",
    "        for n in range(len_rows):\n",
    "            #add the columns to the unzipped table\n",
    "            unzipped.append(row[1][n])\n",
    "            \n",
    "        #add the current row to the output\n",
    "        outres.append(tuple(unzipped))\n",
    "        \n",
    "    return outres"
   ]
  },
  {
   "cell_type": "code",
   "execution_count": 22,
   "id": "453f0de5",
   "metadata": {},
   "outputs": [],
   "source": [
    "def primary_key_from_cols(table, name_primary_key, *idx):\n",
    "    \n",
    "    primary_keys = list()\n",
    "    \n",
    "    for row in table[1:]:\n",
    "        temp_key = row[idx[0]].replace(' ', '-')\n",
    "        for i in idx[1:]:\n",
    "            temp_key += f'-{row[i]}'    \n",
    "        primary_keys.append(temp_key)\n",
    "        \n",
    "    id_col = [name_primary_key] + primary_keys\n",
    "        \n",
    "    table_to_unzip = list(zip(id_col, table))\n",
    "    \n",
    "    len_rows = len(table[0])\n",
    "    \n",
    "    outres = list()\n",
    "\n",
    "    for row in table_to_unzip:\n",
    "        unzipped = [row[0]]\n",
    "        for n in range(len_rows):\n",
    "            unzipped.append(row[1][n])\n",
    "        outres.append(tuple(unzipped))\n",
    "        \n",
    "    return outres"
   ]
  },
  {
   "cell_type": "code",
   "execution_count": 23,
   "id": "d12e51e7",
   "metadata": {},
   "outputs": [
    {
     "data": {
      "text/plain": [
       "[('geoid', 'Region', 'CountryCode'),\n",
       " ('1', 'mecklenburg-vorpommern', 'de'),\n",
       " ('2', 'south-east usa', 'us'),\n",
       " ('3', 'connaught', 'ie'),\n",
       " ('4', 'north italy', 'it')]"
      ]
     },
     "execution_count": 23,
     "metadata": {},
     "output_type": "execute_result"
    }
   ],
   "source": [
    "set_primary_key(temp_geo_tab[:5], 'geoid')"
   ]
  },
  {
   "cell_type": "code",
   "execution_count": 24,
   "id": "b6d917c2",
   "metadata": {},
   "outputs": [
    {
     "data": {
      "text/plain": [
       "[('geoid', 'Region', 'CountryCode'),\n",
       " ('mecklenburg-vorpommern-de', 'mecklenburg-vorpommern', 'de'),\n",
       " ('south-east-usa-us', 'south-east usa', 'us'),\n",
       " ('connaught-ie', 'connaught', 'ie'),\n",
       " ('north-italy-it', 'north italy', 'it')]"
      ]
     },
     "execution_count": 24,
     "metadata": {},
     "output_type": "execute_result"
    }
   ],
   "source": [
    "primary_key_from_cols(temp_geo_tab[:5], 'geoid', 0, 1)"
   ]
  },
  {
   "cell_type": "markdown",
   "id": "2002a920",
   "metadata": {},
   "source": [
    "### Writing the CSV"
   ]
  },
  {
   "cell_type": "code",
   "execution_count": 25,
   "id": "bb53cde9",
   "metadata": {},
   "outputs": [],
   "source": [
    "#it makes the csv to a list of strings (from list of lists)\n",
    "def make_string_csv(table):\n",
    "    output = list()\n",
    "    \n",
    "    #for each row join the columns\n",
    "    for row in table:\n",
    "        row = list(row) #make list from tuple\n",
    "        output.append(','.join(row)+'\\n') #join list of cols and add commas and new line\n",
    "        \n",
    "    return output\n",
    "\n",
    "#input a name of the file and the table to save\n",
    "def create_csv(name_file, table):\n",
    "    \n",
    "    #open the file to write\n",
    "    file_opened = open(name_file, 'w')\n",
    "\n",
    "    #write each row\n",
    "    for row in make_string_csv(table):\n",
    "        file_opened.write(row)\n",
    "\n",
    "    #close the file\n",
    "    file_opened.close()\n",
    "    \n",
    "    return"
   ]
  },
  {
   "cell_type": "markdown",
   "id": "8a01445b",
   "metadata": {},
   "source": [
    "### Saving the Geography Final Table"
   ]
  },
  {
   "cell_type": "code",
   "execution_count": 26,
   "id": "fc5ceaff",
   "metadata": {},
   "outputs": [],
   "source": [
    "geography_table = gen_table_distinct(dict_columns, 'Region', 'CountryCode', 'CountryName', 'Continents')\n",
    "geography_table = set_primary_key(geography_table, 'GeoId')\n",
    "create_csv('Geography.csv', geography_table)"
   ]
  },
  {
   "cell_type": "markdown",
   "id": "18a29b93",
   "metadata": {},
   "source": [
    "### Get DataFrame Length"
   ]
  },
  {
   "cell_type": "code",
   "execution_count": 27,
   "id": "04808028",
   "metadata": {},
   "outputs": [],
   "source": [
    "#get the length of the dataframe by extracting and counting elements in the first column\n",
    "def get_len_df(dict_df):\n",
    "    return len(dict_df[list(dict_columns.keys())[0]])"
   ]
  },
  {
   "cell_type": "markdown",
   "id": "e9fb2cc4",
   "metadata": {},
   "source": [
    "## Computing the IsCorrect Measure"
   ]
  },
  {
   "cell_type": "code",
   "execution_count": 28,
   "id": "ec6abd76",
   "metadata": {},
   "outputs": [
    {
     "data": {
      "text/plain": [
       "538835"
      ]
     },
     "execution_count": 28,
     "metadata": {},
     "output_type": "execute_result"
    }
   ],
   "source": [
    "len_df = get_len_df(dict_columns)\n",
    "len_df"
   ]
  },
  {
   "cell_type": "code",
   "execution_count": 29,
   "id": "9b12e488",
   "metadata": {},
   "outputs": [
    {
     "data": {
      "text/plain": [
       "dict_keys(['QuestionId', 'UserId', 'AnswerId', 'CorrectAnswer', 'AnswerValue', 'Gender', 'DateOfBirth', 'PremiumPupil', 'DateAnswered', 'Confidence', 'GroupId', 'QuizId', 'SchemeOfWorkId', 'SubjectId', 'RegionId', 'Region', 'CountryCode', 'Continents', 'CountryName'])"
      ]
     },
     "execution_count": 29,
     "metadata": {},
     "output_type": "execute_result"
    }
   ],
   "source": [
    "dict_columns.keys()"
   ]
  },
  {
   "cell_type": "code",
   "execution_count": 30,
   "id": "819d1150",
   "metadata": {},
   "outputs": [
    {
     "data": {
      "text/plain": [
       "[('4', '2'),\n",
       " ('4', '4'),\n",
       " ('4', '4'),\n",
       " ('4', '2'),\n",
       " ('4', '2'),\n",
       " ('4', '4'),\n",
       " ('4', '4'),\n",
       " ('4', '4'),\n",
       " ('4', '4'),\n",
       " ('4', '4')]"
      ]
     },
     "execution_count": 30,
     "metadata": {},
     "output_type": "execute_result"
    }
   ],
   "source": [
    "list(zip(dict_columns['CorrectAnswer'], dict_columns['AnswerValue']))[15:25]"
   ]
  },
  {
   "cell_type": "markdown",
   "id": "b47a1e88",
   "metadata": {},
   "source": [
    "With a loop through the length of the list checking if the rows with the same index have identical values and return not a boolean but 0 or 1"
   ]
  },
  {
   "cell_type": "code",
   "execution_count": 31,
   "id": "4cbe737a",
   "metadata": {},
   "outputs": [],
   "source": [
    "#it checks if the answer value is correct and it adds 0 if not or 1 if it is\n",
    "iscorrect = list()\n",
    "\n",
    "for n in range(len_df):\n",
    "    first_col = dict_columns['CorrectAnswer'][n]\n",
    "    second_col = dict_columns['AnswerValue'][n]\n",
    "    \n",
    "    boolean_val = first_col == second_col\n",
    "    iscorrect.append(str(int(boolean_val)))"
   ]
  },
  {
   "cell_type": "code",
   "execution_count": 32,
   "id": "ae6d88fe",
   "metadata": {
    "scrolled": true
   },
   "outputs": [
    {
     "data": {
      "text/plain": [
       "['1', '1', '1', '1', '1', '1', '0', '1', '0', '1', '0', '1']"
      ]
     },
     "execution_count": 32,
     "metadata": {},
     "output_type": "execute_result"
    }
   ],
   "source": [
    "iscorrect[50:62]"
   ]
  },
  {
   "cell_type": "code",
   "execution_count": 33,
   "id": "c4bf55c5",
   "metadata": {},
   "outputs": [
    {
     "data": {
      "text/plain": [
       "True"
      ]
     },
     "execution_count": 33,
     "metadata": {},
     "output_type": "execute_result"
    }
   ],
   "source": [
    "len(iscorrect) == len_df"
   ]
  },
  {
   "cell_type": "markdown",
   "id": "44effaa1",
   "metadata": {},
   "source": [
    "### Adding IsCorrect to the DataFrame"
   ]
  },
  {
   "cell_type": "code",
   "execution_count": 34,
   "id": "0be61770",
   "metadata": {},
   "outputs": [],
   "source": [
    "dict_columns['IsCorrect'] = iscorrect"
   ]
  },
  {
   "cell_type": "markdown",
   "id": "c6e5f081",
   "metadata": {},
   "source": [
    "## Subject Table"
   ]
  },
  {
   "cell_type": "code",
   "execution_count": 35,
   "id": "e8fcfa42",
   "metadata": {},
   "outputs": [],
   "source": [
    "#create a new column for the subjectid\n",
    "format_sub_col_to_list = list()\n",
    "\n",
    "for x in dict_columns['SubjectId']:\n",
    "    #make the string a list\n",
    "    adjust_split = x.strip('][').split(', ')\n",
    "    \n",
    "    #append the values to the new column as integer\n",
    "    format_sub_col_to_list.append([int(sub_id) for sub_id in adjust_split])"
   ]
  },
  {
   "cell_type": "code",
   "execution_count": 36,
   "id": "4af7fdc8",
   "metadata": {},
   "outputs": [
    {
     "data": {
      "text/plain": [
       "[[3, 101, 115, 342],\n",
       " [3, 101, 115, 342],\n",
       " [3, 101, 115, 342],\n",
       " [3, 101, 115, 342],\n",
       " [3, 101, 115, 342]]"
      ]
     },
     "execution_count": 36,
     "metadata": {},
     "output_type": "execute_result"
    }
   ],
   "source": [
    "format_sub_col_to_list[:5]"
   ]
  },
  {
   "cell_type": "code",
   "execution_count": 37,
   "id": "b95a5c41",
   "metadata": {},
   "outputs": [
    {
     "data": {
      "text/plain": [
       "[3, 32, 36, 39, 44, 49, 59, 165, 222, 230, 233]"
      ]
     },
     "execution_count": 37,
     "metadata": {},
     "output_type": "execute_result"
    }
   ],
   "source": [
    "max(format_sub_col_to_list, key=lambda x : len(x))"
   ]
  },
  {
   "cell_type": "code",
   "execution_count": 38,
   "id": "ad5e3598",
   "metadata": {},
   "outputs": [],
   "source": [
    "#get the csv of the subject metadata to a dictionary\n",
    "meta = preprocess_csv_to_dict('subject_metadata.csv')"
   ]
  },
  {
   "cell_type": "code",
   "execution_count": 39,
   "id": "386efbf5",
   "metadata": {},
   "outputs": [
    {
     "data": {
      "text/plain": [
       "dict_keys(['ï»¿SubjectId', 'Name', 'ParentId', 'Level'])"
      ]
     },
     "execution_count": 39,
     "metadata": {},
     "output_type": "execute_result"
    }
   ],
   "source": [
    "meta.keys()"
   ]
  },
  {
   "cell_type": "code",
   "execution_count": 40,
   "id": "7c0a4150",
   "metadata": {},
   "outputs": [],
   "source": [
    "#fixing the wrong naming of the first column\n",
    "meta['SubjectId'] = meta['ï»¿SubjectId']\n",
    "del meta['ï»¿SubjectId']"
   ]
  },
  {
   "cell_type": "code",
   "execution_count": 41,
   "id": "0fc32a94",
   "metadata": {},
   "outputs": [],
   "source": [
    "#make the a dictionary to call the subject description, parent and level from its single subject code\n",
    "subject_caller = dict(zip([int(x) for x in meta['SubjectId']], \n",
    "                          list(zip(meta['Name'], meta['ParentId'], [int(x) for x in meta['Level']]))))"
   ]
  },
  {
   "cell_type": "code",
   "execution_count": 42,
   "id": "08fc97c1",
   "metadata": {},
   "outputs": [
    {
     "data": {
      "text/plain": [
       "{3: ('Maths', 'NULL', 0),\n",
       " 32: ('Number', '3', 1),\n",
       " 33: ('BIDMAS', '144', 3),\n",
       " 34: ('Upper and Lower Bounds', '141', 3),\n",
       " 35: ('Calculator Use', '32', 2),\n",
       " 36: ('Decimals', '32', 2),\n",
       " 37: ('Factors, Multiples and Primes', '32', 2),\n",
       " 38: ('Fractions, Decimals and Percentage Equivalence', '32', 2),\n",
       " 39: ('Fractions', '32', 2),\n",
       " 40: ('Indices, Powers and Roots', '32', 2),\n",
       " 41: ('Basic Money', '331', 3),\n",
       " 42: ('Negative Numbers', '32', 2),\n",
       " 44: ('Percentages', '32', 2),\n",
       " 45: ('Proportion', '32', 2),\n",
       " 46: ('Ratio', '32', 2),\n",
       " 47: ('Standard Form', '40', 3),\n",
       " 48: ('Surds', '32', 2),\n",
       " 49: ('Algebra', '3', 1),\n",
       " 50: ('Expanding Single Brackets', '152', 3),\n",
       " 51: ('Expanding Double Brackets', '152', 3),\n",
       " 52: ('Factorising into a Single Bracket', '153', 3),\n",
       " 53: ('Factorising into a Double Bracket', '153', 3),\n",
       " 54: ('Straight Line Graphs', '49', 2),\n",
       " 55: ('Quadratic Graphs', '49', 2),\n",
       " 56: ('Graphs of Trigonometric Functions', '158', 3),\n",
       " 57: ('Cubics and Reciprocals', '158', 3),\n",
       " 58: ('Real Life Graphs', '158', 3),\n",
       " 59: ('Inequalities', '49', 2),\n",
       " 60: ('Rearranging Formula and Equations', '156', 3),\n",
       " 61: ('Sequences', '49', 2),\n",
       " 62: ('Writing and Simplifying Expressions', '49', 2),\n",
       " 63: ('Simultaneous Equations', '154', 3),\n",
       " 64: ('Linear Equations', '154', 3),\n",
       " 65: ('Quadratic Equations', '154', 3),\n",
       " 66: ('Solving Other Powers of x', '154', 3),\n",
       " 67: ('Substitution into Formula', '156', 3),\n",
       " 68: ('Transformation of Functions', '49', 2),\n",
       " 69: ('Trial and Improvement and Iterative Methods', '154', 3),\n",
       " 70: ('Writing Expressions', '62', 3),\n",
       " 71: ('Geometry and Measure', '3', 1),\n",
       " 72: ('3D Pythagoras', '271', 3),\n",
       " 73: ('Types, Naming and Estimating', '74', 3),\n",
       " 74: ('Angles', '71', 2),\n",
       " 75: ('Area of Simple Shapes', '178', 3),\n",
       " 76: ('Bearings', '74', 3),\n",
       " 77: ('Circles', '71', 2),\n",
       " 78: ('Circle Theorems', '74', 3),\n",
       " 79: ('Compound Measures', '71', 2),\n",
       " 80: ('Congruency in Triangles', '272', 3),\n",
       " 81: ('Co-ordinates', '49', 2),\n",
       " 83: ('Construction, Loci and Scale Drawing', '71', 2),\n",
       " 84: ('Properties of Polygons', '174', 3),\n",
       " 85: ('Nets', '176', 3),\n",
       " 86: ('Perimeter', '178', 3),\n",
       " 87: ('Plans and Elevations', '176', 3),\n",
       " 88: ('Properties of Quadrilaterals', '174', 3),\n",
       " 89: ('2D Pythagoras', '271', 3),\n",
       " 90: ('Length Scale Factors in Similar Shapes', '272', 3),\n",
       " 91: ('Symmetry', '71', 2),\n",
       " 92: ('Reflection', '278', 3),\n",
       " 93: ('Rotation', '278', 3),\n",
       " 94: ('Enlargement', '278', 3),\n",
       " 95: ('Translation and Vectors', '278', 3),\n",
       " 96: ('Combined Transformations', '278', 3),\n",
       " 97: ('Basic Trigonometry', '71', 2),\n",
       " 98: ('Units of Measurement', '71', 2),\n",
       " 99: ('Basic Vectors', '71', 2),\n",
       " 100: ('Volume and Surface Area', '71', 2),\n",
       " 101: ('Data and Statistics', '3', 1),\n",
       " 102: ('Averages (mean, median, mode) from a List of Data', '338', 3),\n",
       " 103: ('Averages and Range from Grouped Data', '338', 3),\n",
       " 104: ('Box Plots', '342', 3),\n",
       " 105: ('Cumulative Frequency Diagram', '342', 3),\n",
       " 106: ('Block Graphs and Bar Charts', '342', 3),\n",
       " 107: ('Histogram', '342', 3),\n",
       " 108: ('Pictogram', '342', 3),\n",
       " 109: ('Pie Chart', '342', 3),\n",
       " 110: ('Experimental Probability and Relative Frequency', '348', 3),\n",
       " 111: ('Probability of Single Events', '348', 3),\n",
       " 112: ('Tree Diagrams with Dependent Events', '348', 3),\n",
       " 113: ('Data Collection', '101', 2),\n",
       " 114: ('Sampling and Bias', '338', 3),\n",
       " 115: ('Scatter Diagram', '342', 3),\n",
       " 116: ('Stem and Leaf Diagram', '342', 3),\n",
       " 117: ('Time Series and Line Graphs', '342', 3),\n",
       " 118: ('Two Way Tables', '342', 3),\n",
       " 119: ('Advanced Pure', '3', 1),\n",
       " 120: ('Factor Theorem', '142', 3),\n",
       " 126: ('Differentiation', '119', 2),\n",
       " 128: ('Exponentials and Logarithms', '119', 2),\n",
       " 129: ('Integration', '119', 2),\n",
       " 130: ('Matrices', '119', 2),\n",
       " 131: ('Modulus Function', '146', 3),\n",
       " 137: ('Sequences and Series', '119', 2),\n",
       " 139: ('Advanced Trigonometry', '119', 2),\n",
       " 140: ('Advanced Vectors', '119', 2),\n",
       " 141: ('Rounding and Estimating', '32', 2),\n",
       " 142: ('Advanced Algebra', '119', 2),\n",
       " 144: ('Basic Arithmetic', '32', 2),\n",
       " 146: ('Functions', '119', 2),\n",
       " 149: ('Advanced Mechanics', '3', 1),\n",
       " 151: ('Advanced Statistics', '3', 1),\n",
       " 152: ('Expanding Brackets', '49', 2),\n",
       " 153: ('Factorising', '49', 2),\n",
       " 154: ('Solving Equations', '49', 2),\n",
       " 156: ('Formula', '49', 2),\n",
       " 157: ('Writing Formula', '156', 3),\n",
       " 158: ('Other Graphs', '49', 2),\n",
       " 159: ('Equation of a Circle', '158', 3),\n",
       " 160: ('Graphs of Exponentials and Other Powers of x', '158', 3),\n",
       " 163: ('Transformations of functions in the form y =', '68', 3),\n",
       " 164: ('Transformations of functions in the form f(x)', '68', 3),\n",
       " 165: ('Inequalities on Number Lines', '59', 3),\n",
       " 166: ('Solving Linear Inequalities', '59', 3),\n",
       " 167: ('Graphing Linear Inequalities (Shading Regions)', '59', 3),\n",
       " 168: ('Solving Quadratic Inequalities', '59', 3),\n",
       " 171: ('Linear Sequences (nth term)', '61', 3),\n",
       " 172: ('Quadratic Sequences', '61', 3),\n",
       " 173: ('Other Sequences', '61', 3),\n",
       " 174: ('2D Names and Properties of Shapes', '71', 2),\n",
       " 175: ('Properties of Triangles', '174', 3),\n",
       " 176: ('3D Shapes', '71', 2),\n",
       " 177: ('Names and Properties of 3D Shapes', '176', 3),\n",
       " 178: ('Perimeter and Area', '71', 2),\n",
       " 179: ('Compound Area', '178', 3),\n",
       " 180: ('Measuring Angles', '74', 3),\n",
       " 181: ('Basic Angle Facts (straight line, opposite, around a point, etc)',\n",
       "  '74',\n",
       "  3),\n",
       " 182: ('Angle Facts with Parallel Lines', '74', 3),\n",
       " 183: ('Angles in Polygons', '74', 3),\n",
       " 184: ('Parts of a Circle', '77', 3),\n",
       " 185: ('Circumference', '77', 3),\n",
       " 186: ('Area of a Circle', '77', 3),\n",
       " 187: ('Sectors of a Circle', '77', 3),\n",
       " 188: ('Surface Area of Prisms', '100', 3),\n",
       " 189: ('Volume of Prisms', '100', 3),\n",
       " 190: ('Construct Angle', '83', 3),\n",
       " 191: ('Construct Triangle', '83', 3),\n",
       " 192: ('Construct Angle and Line Bisectors', '83', 3),\n",
       " 193: ('Loci Scenarios', '83', 3),\n",
       " 195: ('Length Units', '98', 3),\n",
       " 196: ('Area Units', '98', 3),\n",
       " 197: ('Volume and Capacity Units', '98', 3),\n",
       " 198: ('Weight Units', '98', 3),\n",
       " 199: ('Temperature units', '98', 3),\n",
       " 200: ('Counting', '144', 3),\n",
       " 202: ('Place Value', '144', 3),\n",
       " 203: ('Mental Addition and Subtraction', '144', 3),\n",
       " 204: ('Mental Multiplication and Division', '144', 3),\n",
       " 205: ('Written Addition', '144', 3),\n",
       " 206: ('Written Subtraction', '144', 3),\n",
       " 207: ('Written Multiplication', '144', 3),\n",
       " 208: ('Written Division', '144', 3),\n",
       " 209: ('Time', '98', 3),\n",
       " 210: ('Ordering Negative Numbers', '42', 3),\n",
       " 211: ('Adding and Subtracting Negative Numbers', '42', 3),\n",
       " 212: ('Multiplying and Dividing Negative Numbers', '42', 3),\n",
       " 213: ('Rounding to the Nearest Whole (10, 100, etc)', '141', 3),\n",
       " 214: ('Rounding to Decimal Places', '141', 3),\n",
       " 215: ('Rounding to Significant Figures', '141', 3),\n",
       " 216: ('Estimation', '141', 3),\n",
       " 217: ('Basic Calculator Use', '35', 3),\n",
       " 218: ('Advanced Calculator Use', '35', 3),\n",
       " 219: ('Factors and Highest Common Factor', '37', 3),\n",
       " 220: ('Multiples and Lowest Common Multiple', '37', 3),\n",
       " 221: ('Prime Numbers and Prime Factors', '37', 3),\n",
       " 222: ('Ordering Decimals', '36', 3),\n",
       " 223: ('Adding and Subtracting with Decimals', '36', 3),\n",
       " 224: ('Multiplying and Dividing with Decimals', '36', 3),\n",
       " 225: ('Fractions of an Amount', '39', 3),\n",
       " 226: ('Equivalent Fractions', '39', 3),\n",
       " 227: ('Simplifying Fractions', '39', 3),\n",
       " 228: ('Ordering Fractions', '39', 3),\n",
       " 229: ('Converting Mixed Number and Improper Fractions', '39', 3),\n",
       " 230: ('Adding and Subtracting Fractions', '39', 3),\n",
       " 231: ('Multiplying Fractions', '39', 3),\n",
       " 232: ('Dividing Fractions', '39', 3),\n",
       " 233: ('Percentages of an Amount', '44', 3),\n",
       " 234: ('Percentage Increase and Decrease', '44', 3),\n",
       " 235: ('Reverse Percentages (Original Amount)', '44', 3),\n",
       " 236: ('Repeated Percentages and Compound Interest', '44', 3),\n",
       " 237: ('Converting between Fractions and Decimals', '38', 3),\n",
       " 238: ('Converting between Fractions and Percentages', '38', 3),\n",
       " 239: ('Converting between Decimals and Percentages', '38', 3),\n",
       " 240: ('Simplifying and Equivalent Ratios', '46', 3),\n",
       " 241: ('Sharing in a Ratio', '46', 3),\n",
       " 242: ('Find Missing Quantities', '46', 3),\n",
       " 243: ('Direct Proportion', '45', 3),\n",
       " 244: ('Indirect (Inverse) Proportion', '45', 3),\n",
       " 245: ('Squares, Cubes, etc', '40', 3),\n",
       " 246: ('Square Roots, Cube Roots, etc', '40', 3),\n",
       " 247: ('Laws of Indices', '40', 3),\n",
       " 248: ('Simplifying Surds', '48', 3),\n",
       " 249: ('Operations with Surds', '48', 3),\n",
       " 250: ('Rationalising the Denominator', '48', 3),\n",
       " 251: ('Simplifying Expressions by Collecting Like Terms', '62', 3),\n",
       " 252: ('Multiplying Terms', '62', 3),\n",
       " 253: ('Dividing Terms', '62', 3),\n",
       " 254: ('Difference of Two Squares', '153', 3),\n",
       " 255: ('Algebraic Fractions', '49', 2),\n",
       " 256: ('Completing the Square', '153', 3),\n",
       " 257: ('Plotting Lines from Tables of Values', '54', 3),\n",
       " 258: ('Horizontal and Vertical Lines', '54', 3),\n",
       " 259: ('Finding the Equation of a Line', '54', 3),\n",
       " 260: ('Finding the Gradient and Intercept of a Line from the Equation',\n",
       "  '54',\n",
       "  3),\n",
       " 261: ('Gradient as change in y over change in x', '54', 3),\n",
       " 262: ('Parallel Lines', '54', 3),\n",
       " 263: ('Perpendicular Lines', '54', 3),\n",
       " 264: ('Graphical Solution of Simultaneous Equations', '54', 3),\n",
       " 265: ('Plotting Quadratics from Tables of Values', '55', 3),\n",
       " 266: ('Sketching from Factorised Form', '55', 3),\n",
       " 267: ('Sketching from Completing the Square Form', '55', 3),\n",
       " 268: ('Graphical Solution of Quadratic Equations', '55', 3),\n",
       " 269: ('Speed, Distance, Time', '79', 3),\n",
       " 270: ('Density', '79', 3),\n",
       " 271: ('Pythagoras', '71', 2),\n",
       " 272: ('Similarity and Congruency', '71', 2),\n",
       " 273: ('Length, Area and Volume Scale Factors', '272', 3),\n",
       " 274: ('Congruency in Other Shapes', '272', 3),\n",
       " 275: ('Line Symmetry', '91', 3),\n",
       " 276: ('Rotational Symmetry', '91', 3),\n",
       " 277: ('3D Plane Symmetry', '91', 3),\n",
       " 278: ('Transformations', '71', 2),\n",
       " 279: ('Right-angled Triangles (SOHCAHTOA)', '97', 3),\n",
       " 280: ('Non Right-angled Triangles (Sine and Cosine Rules)', '97', 3),\n",
       " 281: ('Area of Non Right-angled Triangles', '97', 3),\n",
       " 282: ('Exact Values of Trigonometric Ratios', '97', 3),\n",
       " 283: ('Add and Subtract Vectors', '99', 3),\n",
       " 284: ('Vector Geometry', '99', 3),\n",
       " 298: ('Kinematics', '149', 2),\n",
       " 313: ('Advanced Measures of Variation', '151', 2),\n",
       " 315: ('Permutations and Combinations', '151', 2),\n",
       " 317: ('Regression', '151', 2),\n",
       " 331: ('Money', '32', 2),\n",
       " 332: ('Currency Conversions', '331', 3),\n",
       " 334: ('Writing Ratios', '46', 3),\n",
       " 335: ('Expanding Triple Brackets and more', '152', 3),\n",
       " 336: ('Tally Charts', '113', 3),\n",
       " 337: ('Types of Data and Questionnaires', '113', 3),\n",
       " 338: ('Data Processing', '101', 2),\n",
       " 339: ('Range and Interquartile Range from a List of Data', '338', 3),\n",
       " 340: ('Averages and Range from Frequency Table', '338', 3),\n",
       " 341: ('Interpreting and Comparing Data using Averages and Range', '338', 3),\n",
       " 342: ('Data Representation', '101', 2),\n",
       " 343: ('Frequency Diagram and Frequency Polygon', '342', 3),\n",
       " 344: ('Venn Diagrams', '342', 3),\n",
       " 348: ('Probability', '101', 2),\n",
       " 349: ('Combined Events', '348', 3),\n",
       " 350: ('Tree Diagrams with Independent Events', '348', 3),\n",
       " 351: ('Using the Probability Addition Formula', '348', 3),\n",
       " 352: ('Using the Conditional Probability Formula', '348', 3),\n",
       " 353: ('Probability with Venn Diagrams', '348', 3),\n",
       " 354: ('Algebraic Division', '142', 3),\n",
       " 355: ('Remainder Theorem', '142', 3),\n",
       " 361: ('Arithmetic Sequences', '137', 3),\n",
       " 365: ('Recurrence Relations', '137', 3),\n",
       " 366: ('Sigma Notation', '137', 3),\n",
       " 367: ('Summing Series', '137', 3),\n",
       " 369: ('Basic dy/dx', '126', 3),\n",
       " 370: ('Differentiation from First Principals', '126', 3),\n",
       " 371: ('Finding the Gradient', '126', 3),\n",
       " 372: ('Finding Maximums and Minimums', '126', 3),\n",
       " 374: ('Increasing and Decreasing Functions', '126', 3),\n",
       " 375: ('Equations of Tangents', '126', 3),\n",
       " 376: ('Equations of Normals', '126', 3),\n",
       " 377: ('Second Order Derivative', '126', 3),\n",
       " 388: ('Basic Indefinite Integration', '129', 3),\n",
       " 406: ('Naming Co-ordinates in 2D', '81', 3),\n",
       " 407: ('Naming Co-ordinates in 3D', '81', 3),\n",
       " 408: ('Midpoint Between Two Co-ordinates', '81', 3),\n",
       " 409: ('Gradient Between Two Co-ordinates', '81', 3),\n",
       " 410: ('Distance Between Two Co-ordinates', '81', 3),\n",
       " 411: ('Radians', '119', 2),\n",
       " 412: ('Converting Between Degrees and Radians', '411', 3),\n",
       " 416: ('Solving Basic Trigonometric Equations', '139', 3),\n",
       " 417: ('Basic Trigonometric Identities', '139', 3),\n",
       " 418: ('Reciprocal Trigonometric Identities', '139', 3),\n",
       " 430: ('Laws of Logarithms', '128', 3),\n",
       " 431: ('Solving Equations with Exps and Logs', '128', 3),\n",
       " 432: ('Graphs of Exp and Log Functions', '128', 3),\n",
       " 434: ('Function Notation', '146', 3),\n",
       " 435: ('Domain and Range', '146', 3),\n",
       " 436: ('Inverse Functions', '146', 3),\n",
       " 437: ('Composite Functions', '146', 3),\n",
       " 439: ('Angles in Triangles', '74', 3),\n",
       " 441: ('Addition and Subtraction of Vectors', '140', 3),\n",
       " 442: ('Position Vectors and Geometrical Applications', '140', 3),\n",
       " 446: ('Addition and Subtraction of Matrices', '130', 3),\n",
       " 447: ('Multiplication of Matrices', '130', 3),\n",
       " 448: ('Transformations of Matrices', '130', 3),\n",
       " 451: ('Roots of Polynomials', '119', 2),\n",
       " 453: ('Cubic Equations', '451', 3),\n",
       " 462: ('Co-ordinate Geometry Problems (tangents, normals)', '126', 3),\n",
       " 474: ('Standard Deviation and Variance from Discrete Data', '313', 3),\n",
       " 480: ('Factorial Notation', '315', 3),\n",
       " 487: ('Regression Equation', '317', 3),\n",
       " 539: ('Velocity-Time Graphs', '298', 3),\n",
       " 540: ('Displacement-Time Graphs', '298', 3),\n",
       " 649: ('Function Machines', '154', 3),\n",
       " 654: ('Relating Quadratic Graphs to the Discriminant', '55', 3),\n",
       " 655: ('Missing Lengths', '178', 3),\n",
       " 656: ('Co-ordinate Geometry with Straight Lines', '54', 3),\n",
       " 657: ('Isometric Drawings', '176', 3),\n",
       " 692: ('Physics', '1642', 1),\n",
       " 698: ('Forces and Motion', '692', 2),\n",
       " 700: ('Speed and Distance-Time graphs', '698', 3),\n",
       " 1059: ('Best Value', '46', 3),\n",
       " 1076: ('Solving Trigonometric Equations', '154', 3),\n",
       " 1077: ('Simplifying Algebraic Fractions', '255', 3),\n",
       " 1078: ('Adding and Subtracting Algebraic Fractions', '255', 3),\n",
       " 1079: ('Multiplying and Dividing Algebraic Fractions', '255', 3),\n",
       " 1080: ('Solving Equations with Algebraic Fractions', '255', 3),\n",
       " 1081: ('Algebraic Proof', '62', 3),\n",
       " 1082: ('Recurring Decimals to Fractions', '38', 3),\n",
       " 1156: ('Maths-Others', '3', 1),\n",
       " 1157: ('Number-Others', '32', 2),\n",
       " 1158: ('Calculator Use-Others', '35', 3),\n",
       " 1159: ('Decimals-Others', '36', 3),\n",
       " 1160: ('Factors, Multiples and Primes-Others', '37', 3),\n",
       " 1161: ('Fractions, Decimals and Percentage Equivalence-Others', '38', 3),\n",
       " 1162: ('Fractions-Others', '39', 3),\n",
       " 1163: ('Indices, Powers and Roots-Others', '40', 3),\n",
       " 1164: ('Negative Numbers-Others', '42', 3),\n",
       " 1165: ('Percentages-Others', '44', 3),\n",
       " 1166: ('Proportion-Others', '45', 3),\n",
       " 1167: ('Ratio-Others', '46', 3),\n",
       " 1168: ('Surds-Others', '48', 3),\n",
       " 1169: ('Algebra-Others', '49', 2),\n",
       " 1170: ('Straight Line Graphs-Others', '54', 3),\n",
       " 1171: ('Quadratic Graphs-Others', '55', 3),\n",
       " 1172: ('Inequalities-Others', '59', 3),\n",
       " 1173: ('Sequences-Others', '61', 3),\n",
       " 1174: ('Writing and Simplifying Expressions-Others', '62', 3),\n",
       " 1175: ('Transformation of Functions-Others', '68', 3),\n",
       " 1176: ('Geometry and Measure-Others', '71', 2),\n",
       " 1177: ('Angles-Others', '74', 3),\n",
       " 1178: ('Circles-Others', '77', 3),\n",
       " 1179: ('Compound Measures-Others', '79', 3),\n",
       " 1180: ('Co-ordinates-Others', '81', 3),\n",
       " 1181: ('Construction, Loci and Scale Drawing-Others', '83', 3),\n",
       " 1182: ('Symmetry-Others', '91', 3),\n",
       " 1183: ('Basic Trigonometry-Others', '97', 3),\n",
       " 1184: ('Units of Measurement-Others', '98', 3),\n",
       " 1185: ('Basic Vectors-Others', '99', 3),\n",
       " 1186: ('Volume and Surface Area-Others', '100', 3),\n",
       " 1187: ('Data and Statistics-Others', '101', 2),\n",
       " 1188: ('Data Collection-Others', '113', 3),\n",
       " 1189: ('Advanced Pure-Others', '119', 2),\n",
       " 1200: ('Advanced Vectors-Others', '140', 3),\n",
       " 1201: ('Rounding and Estimating-Others', '141', 3),\n",
       " 1202: ('Advanced Algebra-Others', '142', 3),\n",
       " 1203: ('Basic Arithmetic-Others', '144', 3),\n",
       " 1204: ('Functions-Others', '146', 3),\n",
       " 1207: ('Advanced Statistics-Others', '151', 2),\n",
       " 1208: ('Expanding Brackets-Others', '152', 3),\n",
       " 1209: ('Factorising-Others', '153', 3),\n",
       " 1210: ('Solving Equations-Others', '154', 3),\n",
       " 1211: ('Formula-Others', '156', 3),\n",
       " 1212: ('Other Graphs-Others', '158', 3),\n",
       " 1213: ('2D Names and Properties of Shapes-Others', '174', 3),\n",
       " 1214: ('3D Shapes-Others', '176', 3),\n",
       " 1215: ('Perimeter and Area-Others', '178', 3),\n",
       " 1216: ('Algebraic Fractions-Others', '255', 3),\n",
       " 1217: ('Pythagoras-Others', '271', 3),\n",
       " 1218: ('Similarity and Congruency-Others', '272', 3),\n",
       " 1219: ('Transformations-Others', '278', 3),\n",
       " 1263: ('Money-Others', '331', 3),\n",
       " 1264: ('Data Processing-Others', '338', 3),\n",
       " 1265: ('Data Representation-Others', '342', 3),\n",
       " 1266: ('Probability-Others', '348', 3),\n",
       " 1636: ('Systematic Listing Strategies', '144', 3),\n",
       " 1642: ('Science', 'NULL', 0),\n",
       " 1647: ('Scale Drawing and Maps', '46', 3),\n",
       " 1648: ('Surface Area of Non-Prisms', '100', 3),\n",
       " 1649: ('Volume of Non-Prisms', '100', 3),\n",
       " 1650: ('Frequency Trees', '342', 3),\n",
       " 1651: ('3D Trigonometry', '97', 3),\n",
       " 1675: ('Limiting Values of Sequences', '137', 3),\n",
       " 1676: ('Roman Numerals', '144', 3),\n",
       " 1750: ('Pressure', '79', 3),\n",
       " 1975: ('Combining Operations', '144', 3),\n",
       " 1976: ('Frequency tables', '113', 3),\n",
       " 1977: ('Mixed operation Negative Numbers', '42', 3),\n",
       " 1980: ('Types of number', '32', 2),\n",
       " 1982: ('Mixed operation Fractions', '39', 3),\n",
       " 1983: ('Drawing Axes', '54', 3),\n",
       " 1985: ('Reading Scales', '98', 3),\n",
       " 1987: ('Sorting Shapes', '174', 3),\n",
       " 1988: ('Labelling Shapes', '174', 3)}"
      ]
     },
     "execution_count": 42,
     "metadata": {},
     "output_type": "execute_result"
    }
   ],
   "source": [
    "subject_caller"
   ]
  },
  {
   "cell_type": "markdown",
   "id": "f773de5c",
   "metadata": {},
   "source": [
    "### Reorder subject lists according to level"
   ]
  },
  {
   "cell_type": "code",
   "execution_count": 43,
   "id": "6f100c84",
   "metadata": {},
   "outputs": [],
   "source": [
    "#reordering the original list according to the parent levels (ascending order)\n",
    "new_formatted_subject_col = list()\n",
    "for row in format_sub_col_to_list:\n",
    "    #sorting the rows according to the level (third element of the value in the dict)\n",
    "    new_row = sorted(row, key=lambda x: subject_caller[x][2])\n",
    "    new_formatted_subject_col.append(new_row)"
   ]
  },
  {
   "cell_type": "code",
   "execution_count": 44,
   "id": "9a340f2f",
   "metadata": {},
   "outputs": [
    {
     "data": {
      "text/plain": [
       "[[3, 101, 342, 115],\n",
       " [3, 101, 342, 115],\n",
       " [3, 101, 342, 115],\n",
       " [3, 101, 342, 115],\n",
       " [3, 101, 342, 115],\n",
       " [3, 101, 342, 115],\n",
       " [3, 101, 342, 115],\n",
       " [3, 101, 342, 115],\n",
       " [3, 101, 342, 115],\n",
       " [3, 101, 342, 115],\n",
       " [3, 101, 342, 115],\n",
       " [3, 101, 342, 115],\n",
       " [3, 101, 342, 115],\n",
       " [3, 101, 342, 115],\n",
       " [3, 101, 342, 115],\n",
       " [3, 101, 342, 115],\n",
       " [3, 101, 342, 115],\n",
       " [3, 101, 342, 115],\n",
       " [3, 101, 342, 115],\n",
       " [3, 101, 342, 115],\n",
       " [3, 101, 342, 115],\n",
       " [3, 101, 342, 115],\n",
       " [3, 101, 342, 115],\n",
       " [3, 101, 342, 115],\n",
       " [3, 101, 342, 115],\n",
       " [3, 101, 342, 115],\n",
       " [3, 101, 342, 115],\n",
       " [3, 101, 342, 115],\n",
       " [3, 101, 342, 115],\n",
       " [3, 101, 342, 115],\n",
       " [3, 101, 342, 115],\n",
       " [3, 101, 342, 115],\n",
       " [3, 101, 342, 115],\n",
       " [3, 101, 342, 115],\n",
       " [3, 101, 342, 115],\n",
       " [3, 101, 342, 115],\n",
       " [3, 71, 271, 89],\n",
       " [3, 71, 271, 89],\n",
       " [3, 71, 271, 89],\n",
       " [3, 71, 271, 89],\n",
       " [3, 71, 271, 89],\n",
       " [3, 71, 271, 89],\n",
       " [3, 71, 271, 89],\n",
       " [3, 71, 271, 89],\n",
       " [3, 71, 271, 89],\n",
       " [3, 71, 271, 89],\n",
       " [3, 71, 271, 89],\n",
       " [3, 71, 271, 89],\n",
       " [3, 71, 271, 89],\n",
       " [3, 71, 271, 89],\n",
       " [3, 71, 271, 89],\n",
       " [3, 71, 271, 89],\n",
       " [3, 71, 271, 89],\n",
       " [3, 71, 271, 89],\n",
       " [3, 71, 271, 89],\n",
       " [3, 71, 271, 89],\n",
       " [3, 71, 271, 89],\n",
       " [3, 71, 271, 89],\n",
       " [3, 71, 271, 89],\n",
       " [3, 71, 271, 89],\n",
       " [3, 71, 271, 89],\n",
       " [3, 71, 271, 89],\n",
       " [3, 71, 271, 89],\n",
       " [3, 71, 271, 89],\n",
       " [3, 71, 271, 89],\n",
       " [3, 71, 271, 89],\n",
       " [3, 71, 271, 89],\n",
       " [3, 71, 271, 89],\n",
       " [3, 71, 271, 89],\n",
       " [3, 71, 271, 89],\n",
       " [3, 71, 271, 89],\n",
       " [3, 71, 271, 89],\n",
       " [3, 71, 271, 89],\n",
       " [3, 71, 271, 89],\n",
       " [3, 71, 271, 89],\n",
       " [3, 71, 271, 89],\n",
       " [3, 71, 271, 89],\n",
       " [3, 71, 271, 89],\n",
       " [3, 71, 271, 89],\n",
       " [3, 71, 271, 89],\n",
       " [3, 71, 271, 89],\n",
       " [3, 71, 271, 89],\n",
       " [3, 71, 271, 89],\n",
       " [3, 71, 271, 89],\n",
       " [3, 71, 271, 89],\n",
       " [3, 71, 271, 89],\n",
       " [3, 71, 271, 89],\n",
       " [3, 71, 271, 89],\n",
       " [3, 71, 271, 89],\n",
       " [3, 71, 271, 89],\n",
       " [3, 71, 271, 89],\n",
       " [3, 71, 271, 89],\n",
       " [3, 71, 271, 89],\n",
       " [3, 71, 271, 89],\n",
       " [3, 71, 271, 89],\n",
       " [3, 71, 271, 89],\n",
       " [3, 71, 271, 89],\n",
       " [3, 71, 271, 89],\n",
       " [3, 71, 271, 89],\n",
       " [3, 71, 271, 89],\n",
       " [3, 71, 271, 89],\n",
       " [3, 71, 271, 89],\n",
       " [3, 71, 271, 89],\n",
       " [3, 71, 271, 89],\n",
       " [3, 71, 271, 89],\n",
       " [3, 71, 271, 89],\n",
       " [3, 71, 271, 89],\n",
       " [3, 71, 271, 89],\n",
       " [3, 71, 271, 89],\n",
       " [3, 71, 271, 89],\n",
       " [3, 71, 271, 89],\n",
       " [3, 71, 271, 89],\n",
       " [3, 71, 271, 89],\n",
       " [3, 71, 271, 89],\n",
       " [3, 71, 271, 89],\n",
       " [3, 71, 271, 89],\n",
       " [3, 71, 271, 89],\n",
       " [3, 71, 271, 89],\n",
       " [3, 71, 271, 89],\n",
       " [3, 71, 271, 89],\n",
       " [3, 71, 74, 439],\n",
       " [3, 71, 74, 439],\n",
       " [3, 71, 74, 439],\n",
       " [3, 71, 74, 439],\n",
       " [3, 71, 74, 439],\n",
       " [3, 71, 74, 439],\n",
       " [3, 71, 74, 439],\n",
       " [3, 71, 74, 439],\n",
       " [3, 71, 74, 439],\n",
       " [3, 71, 74, 439],\n",
       " [3, 71, 74, 439],\n",
       " [3, 71, 74, 439],\n",
       " [3, 71, 74, 439],\n",
       " [3, 71, 74, 439],\n",
       " [3, 71, 74, 439],\n",
       " [3, 71, 74, 439],\n",
       " [3, 71, 74, 439],\n",
       " [3, 71, 74, 439],\n",
       " [3, 71, 74, 439],\n",
       " [3, 71, 74, 439],\n",
       " [3, 71, 74, 439],\n",
       " [3, 71, 74, 439],\n",
       " [3, 71, 74, 439],\n",
       " [3, 71, 74, 439],\n",
       " [3, 71, 74, 439],\n",
       " [3, 71, 74, 439],\n",
       " [3, 71, 74, 439],\n",
       " [3, 71, 74, 439],\n",
       " [3, 71, 74, 439],\n",
       " [3, 71, 74, 439],\n",
       " [3, 71, 74, 439],\n",
       " [3, 71, 74, 439],\n",
       " [3, 71, 74, 439],\n",
       " [3, 71, 74, 439],\n",
       " [3, 71, 74, 439],\n",
       " [3, 71, 74, 439],\n",
       " [3, 71, 74, 439],\n",
       " [3, 71, 74, 439],\n",
       " [3, 71, 74, 439],\n",
       " [3, 71, 74, 439],\n",
       " [3, 71, 74, 439],\n",
       " [3, 71, 74, 439],\n",
       " [3, 71, 74, 439],\n",
       " [3, 71, 74, 439],\n",
       " [3, 71, 74, 439],\n",
       " [3, 71, 74, 439],\n",
       " [3, 71, 74, 439],\n",
       " [3, 71, 74, 439],\n",
       " [3, 71, 74, 439],\n",
       " [3, 71, 74, 439],\n",
       " [3, 71, 74, 439],\n",
       " [3, 71, 74, 439],\n",
       " [3, 71, 74, 439],\n",
       " [3, 71, 74, 439],\n",
       " [3, 71, 74, 439],\n",
       " [3, 71, 74, 439],\n",
       " [3, 71, 74, 439],\n",
       " [3, 71, 74, 439],\n",
       " [3, 71, 74, 439],\n",
       " [3, 71, 74, 439],\n",
       " [3, 71, 74, 439],\n",
       " [3, 71, 74, 439],\n",
       " [3, 71, 74, 439],\n",
       " [3, 71, 74, 439],\n",
       " [3, 71, 74, 439],\n",
       " [3, 71, 74, 439],\n",
       " [3, 71, 74, 439],\n",
       " [3, 71, 74, 439],\n",
       " [3, 71, 74, 439],\n",
       " [3, 71, 74, 439],\n",
       " [3, 71, 74, 439],\n",
       " [3, 71, 74, 439],\n",
       " [3, 71, 74, 439],\n",
       " [3, 71, 74, 439],\n",
       " [3, 71, 74, 439],\n",
       " [3, 71, 74, 439],\n",
       " [3, 71, 74, 439],\n",
       " [3, 71, 74, 439],\n",
       " [3, 71, 74, 439],\n",
       " [3, 71, 74, 439],\n",
       " [3, 71, 74, 439],\n",
       " [3, 71, 74, 439],\n",
       " [3, 71, 74, 439],\n",
       " [3, 71, 74, 439],\n",
       " [3, 71, 74, 439],\n",
       " [3, 71, 74, 439],\n",
       " [3, 71, 74, 439],\n",
       " [3, 71, 74, 439],\n",
       " [3, 71, 74, 439],\n",
       " [3, 71, 74, 439],\n",
       " [3, 71, 74, 439],\n",
       " [3, 71, 77, 185],\n",
       " [3, 71, 77, 185],\n",
       " [3, 71, 77, 185],\n",
       " [3, 71, 77, 185],\n",
       " [3, 71, 77, 185],\n",
       " [3, 71, 77, 185],\n",
       " [3, 71, 77, 185],\n",
       " [3, 71, 77, 185],\n",
       " [3, 71, 77, 185],\n",
       " [3, 71, 77, 185],\n",
       " [3, 71, 77, 185],\n",
       " [3, 71, 77, 185],\n",
       " [3, 71, 77, 185],\n",
       " [3, 71, 77, 185],\n",
       " [3, 71, 77, 185],\n",
       " [3, 71, 77, 185],\n",
       " [3, 71, 77, 185],\n",
       " [3, 71, 77, 185],\n",
       " [3, 71, 77, 185],\n",
       " [3, 71, 77, 185],\n",
       " [3, 71, 77, 185],\n",
       " [3, 71, 77, 185],\n",
       " [3, 71, 77, 185],\n",
       " [3, 71, 77, 185],\n",
       " [3, 71, 77, 185],\n",
       " [3, 71, 77, 185],\n",
       " [3, 71, 77, 185],\n",
       " [3, 71, 77, 185],\n",
       " [3, 71, 77, 185],\n",
       " [3, 71, 77, 185],\n",
       " [3, 71, 77, 185],\n",
       " [3, 71, 77, 185],\n",
       " [3, 71, 77, 185],\n",
       " [3, 71, 77, 185],\n",
       " [3, 71, 77, 185],\n",
       " [3, 71, 77, 185],\n",
       " [3, 71, 77, 185],\n",
       " [3, 71, 77, 185],\n",
       " [3, 71, 77, 185],\n",
       " [3, 71, 77, 185],\n",
       " [3, 71, 77, 185],\n",
       " [3, 71, 77, 185],\n",
       " [3, 71, 77, 185],\n",
       " [3, 71, 77, 185],\n",
       " [3, 71, 77, 185],\n",
       " [3, 71, 77, 185],\n",
       " [3, 71, 77, 185],\n",
       " [3, 71, 77, 185],\n",
       " [3, 71, 77, 185],\n",
       " [3, 71, 77, 185],\n",
       " [3, 71, 77, 185],\n",
       " [3, 71, 77, 185],\n",
       " [3, 71, 77, 185],\n",
       " [3, 71, 77, 185],\n",
       " [3, 71, 77, 185],\n",
       " [3, 71, 77, 185],\n",
       " [3, 71, 77, 185],\n",
       " [3, 71, 271, 89],\n",
       " [3, 71, 271, 89],\n",
       " [3, 71, 271, 89],\n",
       " [3, 71, 271, 89],\n",
       " [3, 71, 271, 89],\n",
       " [3, 71, 271, 89],\n",
       " [3, 71, 271, 89],\n",
       " [3, 71, 271, 89],\n",
       " [3, 71, 271, 89],\n",
       " [3, 71, 271, 89],\n",
       " [3, 71, 271, 89],\n",
       " [3, 71, 271, 89],\n",
       " [3, 71, 271, 89],\n",
       " [3, 71, 271, 89],\n",
       " [3, 71, 271, 89],\n",
       " [3, 71, 271, 89],\n",
       " [3, 71, 271, 89],\n",
       " [3, 71, 271, 89],\n",
       " [3, 71, 271, 89],\n",
       " [3, 71, 271, 89],\n",
       " [3, 71, 271, 89],\n",
       " [3, 71, 271, 89],\n",
       " [3, 71, 271, 89],\n",
       " [3, 71, 271, 89],\n",
       " [3, 71, 271, 89],\n",
       " [3, 71, 271, 89],\n",
       " [3, 71, 271, 89],\n",
       " [3, 71, 271, 89],\n",
       " [3, 71, 271, 89],\n",
       " [3, 71, 271, 89],\n",
       " [3, 71, 271, 89],\n",
       " [3, 71, 271, 89],\n",
       " [3, 71, 271, 89],\n",
       " [3, 71, 271, 89],\n",
       " [3, 71, 271, 89],\n",
       " [3, 71, 271, 89],\n",
       " [3, 71, 271, 89],\n",
       " [3, 71, 271, 89],\n",
       " [3, 71, 271, 89],\n",
       " [3, 71, 271, 89],\n",
       " [3, 71, 271, 89],\n",
       " [3, 71, 271, 89],\n",
       " [3, 71, 271, 89],\n",
       " [3, 71, 271, 89],\n",
       " [3, 71, 271, 89],\n",
       " [3, 71, 271, 89],\n",
       " [3, 71, 271, 89],\n",
       " [3, 71, 271, 89],\n",
       " [3, 71, 77, 185],\n",
       " [3, 71, 77, 185],\n",
       " [3, 71, 77, 185],\n",
       " [3, 71, 77, 185],\n",
       " [3, 71, 77, 185],\n",
       " [3, 71, 77, 185],\n",
       " [3, 71, 77, 185],\n",
       " [3, 71, 77, 185],\n",
       " [3, 71, 77, 185],\n",
       " [3, 71, 77, 185],\n",
       " [3, 71, 77, 185],\n",
       " [3, 71, 77, 185],\n",
       " [3, 71, 77, 185],\n",
       " [3, 71, 77, 185],\n",
       " [3, 71, 77, 185],\n",
       " [3, 71, 77, 185],\n",
       " [3, 71, 77, 185],\n",
       " [3, 71, 77, 185],\n",
       " [3, 71, 77, 185],\n",
       " [3, 71, 77, 185],\n",
       " [3, 71, 77, 185],\n",
       " [3, 71, 77, 185],\n",
       " [3, 71, 77, 185],\n",
       " [3, 71, 77, 185],\n",
       " [3, 71, 77, 185],\n",
       " [3, 71, 77, 185],\n",
       " [3, 71, 77, 185],\n",
       " [3, 71, 77, 185],\n",
       " [3, 71, 77, 185],\n",
       " [3, 71, 77, 185],\n",
       " [3, 71, 77, 185],\n",
       " [3, 71, 77, 185],\n",
       " [3, 71, 77, 185],\n",
       " [3, 71, 77, 185],\n",
       " [3, 71, 77, 185],\n",
       " [3, 71, 77, 185],\n",
       " [3, 71, 77, 185],\n",
       " [3, 71, 77, 185],\n",
       " [3, 71, 77, 185],\n",
       " [3, 71, 77, 185],\n",
       " [3, 71, 77, 185],\n",
       " [3, 71, 77, 185],\n",
       " [3, 71, 77, 185],\n",
       " [3, 71, 77, 185],\n",
       " [3, 71, 77, 185],\n",
       " [3, 71, 77, 185],\n",
       " [3, 71, 77, 185],\n",
       " [3, 71, 77, 185],\n",
       " [3, 71, 77, 185],\n",
       " [3, 71, 77, 185],\n",
       " [3, 71, 77, 185],\n",
       " [3, 71, 77, 185],\n",
       " [3, 71, 77, 185],\n",
       " [3, 71, 77, 185],\n",
       " [3, 71, 77, 185],\n",
       " [3, 71, 77, 185],\n",
       " [3, 71, 77, 185],\n",
       " [3, 71, 77, 185],\n",
       " [3, 71, 77, 185],\n",
       " [3, 71, 77, 185],\n",
       " [3, 71, 77, 185],\n",
       " [3, 71, 77, 185],\n",
       " [3, 71, 77, 185],\n",
       " [3, 71, 77, 185],\n",
       " [3, 71, 77, 185],\n",
       " [3, 71, 77, 185],\n",
       " [3, 71, 77, 185],\n",
       " [3, 71, 77, 185],\n",
       " [3, 71, 77, 185],\n",
       " [3, 71, 77, 185],\n",
       " [3, 71, 77, 185],\n",
       " [3, 71, 77, 185],\n",
       " [3, 71, 77, 185],\n",
       " [3, 71, 77, 185],\n",
       " [3, 71, 77, 185],\n",
       " [3, 71, 77, 185],\n",
       " [3, 71, 77, 185],\n",
       " [3, 71, 77, 185],\n",
       " [3, 71, 77, 185],\n",
       " [3, 71, 77, 185],\n",
       " [3, 71, 77, 185],\n",
       " [3, 71, 77, 185],\n",
       " [3, 71, 77, 185],\n",
       " [3, 71, 77, 185],\n",
       " [3, 71, 77, 185],\n",
       " [3, 71, 77, 185],\n",
       " [3, 71, 77, 185],\n",
       " [3, 71, 77, 185],\n",
       " [3, 71, 77, 185],\n",
       " [3, 71, 77, 185],\n",
       " [3, 71, 77, 185],\n",
       " [3, 71, 77, 185],\n",
       " [3, 71, 77, 185],\n",
       " [3, 71, 77, 185],\n",
       " [3, 71, 77, 185],\n",
       " [3, 71, 77, 185],\n",
       " [3, 71, 77, 185],\n",
       " [3, 71, 77, 185],\n",
       " [3, 71, 77, 185],\n",
       " [3, 71, 77, 185],\n",
       " [3, 71, 77, 185],\n",
       " [3, 71, 77, 185],\n",
       " [3, 71, 77, 185],\n",
       " [3, 71, 77, 185],\n",
       " [3, 71, 77, 185],\n",
       " [3, 71, 77, 185],\n",
       " [3, 71, 77, 185],\n",
       " [3, 71, 77, 185],\n",
       " [3, 71, 77, 185],\n",
       " [3, 71, 77, 185],\n",
       " [3, 71, 77, 185],\n",
       " [3, 71, 77, 185],\n",
       " [3, 71, 77, 185],\n",
       " [3, 71, 77, 185],\n",
       " [3, 71, 77, 185],\n",
       " [3, 71, 77, 185],\n",
       " [3, 71, 77, 185],\n",
       " [3, 71, 77, 185],\n",
       " [3, 71, 77, 185],\n",
       " [3, 71, 77, 185],\n",
       " [3, 71, 77, 185],\n",
       " [3, 71, 77, 185],\n",
       " [3, 71, 74, 181],\n",
       " [3, 71, 74, 181],\n",
       " [3, 71, 74, 181],\n",
       " [3, 71, 74, 181],\n",
       " [3, 71, 74, 181],\n",
       " [3, 71, 74, 181],\n",
       " [3, 71, 74, 181],\n",
       " [3, 71, 74, 181],\n",
       " [3, 71, 74, 181],\n",
       " [3, 71, 74, 181],\n",
       " [3, 71, 74, 181],\n",
       " [3, 71, 74, 181],\n",
       " [3, 71, 74, 181],\n",
       " [3, 71, 74, 181],\n",
       " [3, 71, 74, 181],\n",
       " [3, 71, 74, 181],\n",
       " [3, 71, 74, 181],\n",
       " [3, 71, 74, 181],\n",
       " [3, 71, 74, 181],\n",
       " [3, 71, 74, 181],\n",
       " [3, 71, 74, 181],\n",
       " [3, 71, 74, 181],\n",
       " [3, 71, 74, 181],\n",
       " [3, 71, 74, 181],\n",
       " [3, 71, 74, 181],\n",
       " [3, 71, 74, 181],\n",
       " [3, 71, 74, 181],\n",
       " [3, 71, 74, 181],\n",
       " [3, 71, 74, 181],\n",
       " [3, 71, 74, 181],\n",
       " [3, 71, 74, 181],\n",
       " [3, 71, 74, 181],\n",
       " [3, 71, 74, 181],\n",
       " [3, 71, 74, 181],\n",
       " [3, 71, 74, 181],\n",
       " [3, 71, 74, 181],\n",
       " [3, 71, 74, 181],\n",
       " [3, 71, 74, 181],\n",
       " [3, 71, 74, 181],\n",
       " [3, 71, 74, 181],\n",
       " [3, 71, 74, 181],\n",
       " [3, 71, 74, 181],\n",
       " [3, 71, 74, 181],\n",
       " [3, 71, 74, 181],\n",
       " [3, 71, 74, 181],\n",
       " [3, 71, 74, 181],\n",
       " [3, 71, 74, 181],\n",
       " [3, 71, 74, 181],\n",
       " [3, 71, 74, 181],\n",
       " [3, 71, 74, 181],\n",
       " [3, 71, 74, 181],\n",
       " [3, 71, 74, 181],\n",
       " [3, 71, 74, 181],\n",
       " [3, 71, 74, 181],\n",
       " [3, 71, 74, 181],\n",
       " [3, 71, 74, 181],\n",
       " [3, 71, 74, 181],\n",
       " [3, 71, 74, 181],\n",
       " [3, 71, 74, 181],\n",
       " [3, 71, 74, 181],\n",
       " [3, 71, 74, 181],\n",
       " [3, 71, 74, 181],\n",
       " [3, 71, 74, 181],\n",
       " [3, 71, 74, 181],\n",
       " [3, 71, 74, 181],\n",
       " [3, 71, 74, 181],\n",
       " [3, 71, 74, 181],\n",
       " [3, 71, 74, 181],\n",
       " [3, 71, 74, 181],\n",
       " [3, 71, 74, 181],\n",
       " [3, 71, 74, 181],\n",
       " [3, 71, 74, 181],\n",
       " [3, 71, 74, 181],\n",
       " [3, 71, 74, 181],\n",
       " [3, 71, 74, 181],\n",
       " [3, 71, 74, 181],\n",
       " [3, 71, 74, 181],\n",
       " [3, 71, 74, 181],\n",
       " [3, 71, 74, 181],\n",
       " [3, 71, 74, 181],\n",
       " [3, 71, 74, 181],\n",
       " [3, 71, 74, 181],\n",
       " [3, 71, 74, 181],\n",
       " [3, 71, 74, 181],\n",
       " [3, 71, 74, 181],\n",
       " [3, 71, 74, 181],\n",
       " [3, 71, 74, 181],\n",
       " [3, 71, 74, 181],\n",
       " [3, 71, 74, 181],\n",
       " [3, 71, 74, 181],\n",
       " [3, 71, 74, 181],\n",
       " [3, 71, 74, 181],\n",
       " [3, 71, 74, 181],\n",
       " [3, 71, 74, 181],\n",
       " [3, 71, 74, 181],\n",
       " [3, 71, 74, 181],\n",
       " [3, 71, 74, 181],\n",
       " [3, 71, 74, 181],\n",
       " [3, 71, 74, 181],\n",
       " [3, 71, 74, 181],\n",
       " [3, 71, 74, 181],\n",
       " [3, 71, 74, 181],\n",
       " [3, 71, 74, 181],\n",
       " [3, 71, 74, 181],\n",
       " [3, 71, 74, 181],\n",
       " [3, 71, 74, 181],\n",
       " [3, 71, 74, 181],\n",
       " [3, 71, 74, 181],\n",
       " [3, 71, 74, 181],\n",
       " [3, 71, 74, 181],\n",
       " [3, 71, 74, 181],\n",
       " [3, 71, 74, 181],\n",
       " [3, 71, 74, 181],\n",
       " [3, 71, 74, 181],\n",
       " [3, 71, 74, 181],\n",
       " [3, 71, 74, 181],\n",
       " [3, 71, 74, 181],\n",
       " [3, 71, 74, 181],\n",
       " [3, 71, 74, 181],\n",
       " [3, 71, 74, 181],\n",
       " [3, 71, 74, 181],\n",
       " [3, 71, 74, 181],\n",
       " [3, 71, 74, 181],\n",
       " [3, 71, 74, 181],\n",
       " [3, 71, 74, 181],\n",
       " [3, 71, 74, 181],\n",
       " [3, 71, 74, 181],\n",
       " [3, 71, 74, 181],\n",
       " [3, 71, 74, 181],\n",
       " [3, 71, 74, 181],\n",
       " [3, 71, 74, 181],\n",
       " [3, 71, 74, 181],\n",
       " [3, 71, 74, 181],\n",
       " [3, 71, 74, 181],\n",
       " [3, 71, 74, 181],\n",
       " [3, 71, 74, 181],\n",
       " [3, 71, 74, 181],\n",
       " [3, 71, 74, 181],\n",
       " [3, 71, 74, 181],\n",
       " [3, 71, 74, 181],\n",
       " [3, 71, 74, 181],\n",
       " [3, 71, 74, 181],\n",
       " [3, 71, 74, 181],\n",
       " [3, 71, 74, 181],\n",
       " [3, 71, 74, 181],\n",
       " [3, 71, 74, 181],\n",
       " [3, 71, 74, 181],\n",
       " [3, 71, 74, 181],\n",
       " [3, 71, 74, 181],\n",
       " [3, 71, 74, 181],\n",
       " [3, 71, 74, 181],\n",
       " [3, 71, 74, 181],\n",
       " [3, 71, 74, 181],\n",
       " [3, 71, 74, 181],\n",
       " [3, 71, 74, 181],\n",
       " [3, 71, 74, 181],\n",
       " [3, 71, 74, 181],\n",
       " [3, 71, 74, 181],\n",
       " [3, 71, 74, 181],\n",
       " [3, 71, 74, 181],\n",
       " [3, 71, 74, 181],\n",
       " [3, 71, 74, 181],\n",
       " [3, 71, 74, 181],\n",
       " [3, 71, 74, 181],\n",
       " [3, 71, 74, 181],\n",
       " [3, 71, 74, 181],\n",
       " [3, 71, 74, 181],\n",
       " [3, 71, 74, 181],\n",
       " [3, 71, 74, 181],\n",
       " [3, 71, 74, 181],\n",
       " [3, 71, 74, 181],\n",
       " [3, 101, 342, 115],\n",
       " [3, 101, 342, 115],\n",
       " [3, 101, 342, 115],\n",
       " [3, 101, 342, 115],\n",
       " [3, 101, 342, 115],\n",
       " [3, 101, 342, 115],\n",
       " [3, 101, 342, 115],\n",
       " [3, 101, 342, 115],\n",
       " [3, 101, 342, 115],\n",
       " [3, 101, 342, 115],\n",
       " [3, 101, 342, 115],\n",
       " [3, 101, 342, 115],\n",
       " [3, 101, 342, 115],\n",
       " [3, 101, 342, 115],\n",
       " [3, 101, 342, 115],\n",
       " [3, 101, 342, 115],\n",
       " [3, 101, 342, 115],\n",
       " [3, 101, 342, 115],\n",
       " [3, 101, 342, 115],\n",
       " [3, 101, 342, 115],\n",
       " [3, 101, 342, 115],\n",
       " [3, 101, 342, 115],\n",
       " [3, 101, 342, 115],\n",
       " [3, 101, 342, 115],\n",
       " [3, 101, 342, 115],\n",
       " [3, 101, 342, 115],\n",
       " [3, 101, 342, 115],\n",
       " [3, 101, 342, 115],\n",
       " [3, 101, 342, 115],\n",
       " [3, 101, 342, 115],\n",
       " [3, 101, 342, 115],\n",
       " [3, 101, 342, 115],\n",
       " [3, 101, 342, 115],\n",
       " [3, 101, 342, 115],\n",
       " [3, 101, 342, 115],\n",
       " [3, 101, 342, 115],\n",
       " [3, 101, 342, 115],\n",
       " [3, 101, 342, 115],\n",
       " [3, 101, 342, 115],\n",
       " [3, 101, 342, 115],\n",
       " [3, 101, 342, 115],\n",
       " [3, 101, 342, 115],\n",
       " [3, 101, 342, 115],\n",
       " [3, 101, 342, 115],\n",
       " [3, 101, 342, 115],\n",
       " [3, 101, 342, 115],\n",
       " [3, 101, 342, 115],\n",
       " [3, 101, 342, 115],\n",
       " [3, 101, 342, 115],\n",
       " [3, 101, 342, 115],\n",
       " [3, 101, 342, 115],\n",
       " [3, 101, 342, 115],\n",
       " [3, 101, 342, 115],\n",
       " [3, 101, 342, 115],\n",
       " [3, 101, 342, 115],\n",
       " [3, 101, 342, 115],\n",
       " [3, 101, 342, 115],\n",
       " [3, 101, 342, 115],\n",
       " [3, 101, 342, 115],\n",
       " [3, 101, 342, 115],\n",
       " [3, 101, 342, 115],\n",
       " [3, 101, 342, 115],\n",
       " [3, 101, 342, 115],\n",
       " [3, 101, 342, 115],\n",
       " [3, 101, 342, 115],\n",
       " [3, 101, 342, 115],\n",
       " [3, 101, 342, 115],\n",
       " [3, 101, 342, 115],\n",
       " [3, 101, 342, 115],\n",
       " [3, 49, 156, 67],\n",
       " [3, 49, 156, 67],\n",
       " [3, 49, 156, 67],\n",
       " [3, 49, 156, 67],\n",
       " [3, 49, 156, 67],\n",
       " [3, 49, 156, 67],\n",
       " [3, 49, 156, 67],\n",
       " [3, 49, 156, 67],\n",
       " [3, 49, 156, 67],\n",
       " [3, 49, 156, 67],\n",
       " [3, 49, 156, 67],\n",
       " [3, 49, 156, 67],\n",
       " [3, 49, 156, 67],\n",
       " [3, 49, 156, 67],\n",
       " [3, 49, 156, 67],\n",
       " [3, 49, 156, 67],\n",
       " [3, 49, 156, 67],\n",
       " [3, 49, 156, 67],\n",
       " [3, 49, 156, 67],\n",
       " [3, 49, 156, 67],\n",
       " [3, 49, 156, 67],\n",
       " [3, 49, 156, 67],\n",
       " [3, 49, 156, 67],\n",
       " [3, 49, 156, 67],\n",
       " [3, 49, 156, 67],\n",
       " [3, 49, 156, 67],\n",
       " [3, 49, 156, 67],\n",
       " [3, 49, 156, 67],\n",
       " [3, 49, 156, 67],\n",
       " [3, 49, 156, 67],\n",
       " [3, 49, 156, 67],\n",
       " [3, 49, 156, 67],\n",
       " [3, 49, 156, 67],\n",
       " [3, 49, 156, 67],\n",
       " [3, 49, 156, 67],\n",
       " [3, 49, 156, 67],\n",
       " [3, 49, 156, 67],\n",
       " [3, 49, 156, 67],\n",
       " [3, 49, 156, 67],\n",
       " [3, 49, 156, 67],\n",
       " [3, 49, 156, 67],\n",
       " [3, 49, 156, 67],\n",
       " [3, 49, 156, 67],\n",
       " [3, 49, 156, 67],\n",
       " [3, 49, 156, 67],\n",
       " [3, 49, 156, 67],\n",
       " [3, 49, 156, 67],\n",
       " [3, 49, 156, 67],\n",
       " [3, 49, 156, 67],\n",
       " [3, 49, 156, 67],\n",
       " [3, 71, 271, 89],\n",
       " [3, 71, 271, 89],\n",
       " [3, 71, 271, 89],\n",
       " [3, 71, 271, 89],\n",
       " [3, 71, 271, 89],\n",
       " [3, 71, 271, 89],\n",
       " [3, 71, 271, 89],\n",
       " [3, 71, 271, 89],\n",
       " [3, 71, 271, 89],\n",
       " [3, 71, 271, 89],\n",
       " [3, 71, 271, 89],\n",
       " [3, 71, 271, 89],\n",
       " [3, 71, 271, 89],\n",
       " [3, 71, 271, 89],\n",
       " [3, 71, 271, 89],\n",
       " [3, 71, 271, 89],\n",
       " [3, 71, 271, 89],\n",
       " [3, 71, 271, 89],\n",
       " [3, 71, 271, 89],\n",
       " [3, 71, 271, 89],\n",
       " [3, 71, 271, 89],\n",
       " [3, 71, 271, 89],\n",
       " [3, 71, 271, 89],\n",
       " [3, 71, 271, 89],\n",
       " [3, 71, 271, 89],\n",
       " [3, 71, 271, 89],\n",
       " [3, 71, 271, 89],\n",
       " [3, 71, 271, 89],\n",
       " [3, 71, 271, 89],\n",
       " [3, 71, 271, 89],\n",
       " [3, 71, 271, 89],\n",
       " [3, 71, 271, 89],\n",
       " [3, 71, 271, 89],\n",
       " [3, 71, 271, 89],\n",
       " [3, 71, 271, 89],\n",
       " [3, 71, 271, 89],\n",
       " [3, 71, 271, 89],\n",
       " [3, 71, 271, 89],\n",
       " [3, 71, 271, 89],\n",
       " [3, 71, 271, 89],\n",
       " [3, 32, 141, 214],\n",
       " [3, 32, 141, 214],\n",
       " [3, 32, 141, 214],\n",
       " [3, 32, 141, 214],\n",
       " [3, 32, 141, 214],\n",
       " [3, 32, 141, 214],\n",
       " [3, 32, 141, 214],\n",
       " [3, 32, 141, 214],\n",
       " [3, 32, 141, 214],\n",
       " [3, 32, 141, 214],\n",
       " [3, 32, 141, 214],\n",
       " [3, 32, 141, 214],\n",
       " [3, 32, 141, 214],\n",
       " [3, 32, 141, 214],\n",
       " [3, 32, 141, 214],\n",
       " [3, 32, 141, 214],\n",
       " [3, 32, 141, 214],\n",
       " [3, 32, 141, 214],\n",
       " [3, 32, 141, 214],\n",
       " [3, 32, 141, 214],\n",
       " [3, 32, 141, 214],\n",
       " [3, 32, 141, 214],\n",
       " [3, 32, 141, 214],\n",
       " [3, 32, 141, 214],\n",
       " [3, 32, 141, 214],\n",
       " [3, 32, 141, 214],\n",
       " [3, 32, 141, 214],\n",
       " [3, 32, 141, 214],\n",
       " [3, 32, 141, 214],\n",
       " [3, 32, 141, 214],\n",
       " [3, 32, 141, 214],\n",
       " [3, 32, 141, 214],\n",
       " [3, 32, 141, 214],\n",
       " [3, 32, 141, 214],\n",
       " [3, 32, 141, 214],\n",
       " [3, 32, 141, 214],\n",
       " [3, 32, 141, 214],\n",
       " [3, 32, 141, 214],\n",
       " [3, 32, 141, 214],\n",
       " [3, 32, 141, 214],\n",
       " [3, 32, 141, 214],\n",
       " [3, 32, 141, 214],\n",
       " [3, 32, 141, 214],\n",
       " [3, 32, 141, 214],\n",
       " [3, 32, 141, 214],\n",
       " [3, 32, 141, 214],\n",
       " [3, 32, 141, 214],\n",
       " [3, 32, 141, 214],\n",
       " [3, 32, 141, 214],\n",
       " [3, 32, 141, 214],\n",
       " [3, 32, 141, 214],\n",
       " [3, 32, 141, 214],\n",
       " [3, 32, 141, 214],\n",
       " [3, 32, 141, 214],\n",
       " [3, 32, 141, 214],\n",
       " [3, 32, 141, 214],\n",
       " [3, 32, 141, 214],\n",
       " [3, 32, 141, 214],\n",
       " [3, 32, 141, 214],\n",
       " [3, 32, 141, 214],\n",
       " [3, 32, 141, 214],\n",
       " [3, 32, 141, 214],\n",
       " [3, 32, 141, 214],\n",
       " [3, 32, 141, 214],\n",
       " [3, 32, 141, 214],\n",
       " [3, 32, 141, 214],\n",
       " [3, 32, 141, 214],\n",
       " [3, 32, 141, 214],\n",
       " [3, 32, 141, 214],\n",
       " [3, 32, 141, 214],\n",
       " [3, 32, 141, 214],\n",
       " [3, 71, 271, 89],\n",
       " [3, 71, 271, 89],\n",
       " [3, 71, 271, 89],\n",
       " [3, 71, 271, 89],\n",
       " [3, 71, 271, 89],\n",
       " [3, 71, 271, 89],\n",
       " [3, 71, 271, 89],\n",
       " [3, 71, 271, 89],\n",
       " [3, 71, 271, 89],\n",
       " [3, 71, 271, 89],\n",
       " [3, 71, 271, 89],\n",
       " [3, 71, 271, 89],\n",
       " [3, 71, 271, 89],\n",
       " [3, 71, 271, 89],\n",
       " [3, 71, 271, 89],\n",
       " [3, 71, 271, 89],\n",
       " [3, 71, 271, 89],\n",
       " [3, 71, 271, 89],\n",
       " [3, 71, 271, 89],\n",
       " [3, 71, 271, 89],\n",
       " [3, 71, 271, 89],\n",
       " [3, 71, 271, 89],\n",
       " [3, 71, 271, 89],\n",
       " [3, 71, 271, 89],\n",
       " [3, 71, 271, 89],\n",
       " [3, 71, 271, 89],\n",
       " [3, 71, 271, 89],\n",
       " [3, 71, 271, 89],\n",
       " [3, 71, 271, 89],\n",
       " [3, 71, 271, 89],\n",
       " [3, 71, 271, 89],\n",
       " [3, 71, 271, 89],\n",
       " [3, 71, 271, 89],\n",
       " [3, 71, 271, 89],\n",
       " [3, 71, 271, 89],\n",
       " [3, 71, 271, 89],\n",
       " [3, 71, 271, 89],\n",
       " [3, 71, 271, 89],\n",
       " [3, 71, 271, 89],\n",
       " [3, 71, 271, 89],\n",
       " [3, 71, 271, 89],\n",
       " [3, 71, 271, 89],\n",
       " [3, 71, 271, 89],\n",
       " [3, 71, 271, 89],\n",
       " [3, 71, 271, 89],\n",
       " [3, 71, 271, 89],\n",
       " [3, 71, 271, 89],\n",
       " [3, 71, 271, 89],\n",
       " [3, 71, 271, 89],\n",
       " [3, 71, 271, 89],\n",
       " [3, 71, 271, 89],\n",
       " [3, 71, 271, 89],\n",
       " [3, 71, 271, 89],\n",
       " [3, 71, 271, 89],\n",
       " [3, 71, 271, 89],\n",
       " [3, 71, 271, 89],\n",
       " [3, 71, 271, 89],\n",
       " [3, 71, 271, 89],\n",
       " [3, 71, 271, 89],\n",
       " [3, 71, 271, 89],\n",
       " [3, 71, 271, 89],\n",
       " [3, 71, 271, 89],\n",
       " [3, 71, 271, 89],\n",
       " [3, 71, 271, 89],\n",
       " [3, 71, 271, 89],\n",
       " [3, 71, 271, 89],\n",
       " [3, 71, 271, 89],\n",
       " [3, 71, 271, 89],\n",
       " [3, 71, 271, 89],\n",
       " [3, 71, 271, 89],\n",
       " [3, 71, 271, 89],\n",
       " [3, 71, 271, 89],\n",
       " [3, 71, 271, 89],\n",
       " [3, 71, 271, 89],\n",
       " [3, 71, 271, 89],\n",
       " [3, 71, 271, 89],\n",
       " [3, 71, 271, 89],\n",
       " [3, 71, 271, 89],\n",
       " [3, 71, 271, 89],\n",
       " [3, 71, 271, 89],\n",
       " [3, 71, 271, 89],\n",
       " [3, 71, 271, 89],\n",
       " [3, 71, 271, 89],\n",
       " [3, 71, 271, 89],\n",
       " [3, 71, 271, 89],\n",
       " [3, 71, 271, 89],\n",
       " [3, 71, 271, 89],\n",
       " [3, 71, 271, 89],\n",
       " [3, 71, 271, 89],\n",
       " [3, 71, 271, 89],\n",
       " [3, 71, 271, 89],\n",
       " [3, 49, 62, 70],\n",
       " [3, 49, 62, 70],\n",
       " [3, 49, 62, 70],\n",
       " [3, 49, 62, 70],\n",
       " [3, 49, 62, 70],\n",
       " [3, 49, 62, 70],\n",
       " [3, 49, 62, 70],\n",
       " [3, 49, 62, 70],\n",
       " [3, 49, 62, 70],\n",
       " [3, 49, 62, 70],\n",
       " [3, 49, 62, 70],\n",
       " [3, 49, 62, 70],\n",
       " [3, 49, 62, 70],\n",
       " [3, 49, 62, 70],\n",
       " [3, 49, 62, 70],\n",
       " [3, 49, 62, 70],\n",
       " [3, 49, 62, 70],\n",
       " [3, 49, 62, 70],\n",
       " [3, 49, 62, 70],\n",
       " [3, 49, 62, 70],\n",
       " [3, 49, 62, 70],\n",
       " [3, 49, 62, 70],\n",
       " [3, 49, 62, 70],\n",
       " [3, 49, 62, 70],\n",
       " [3, 49, 62, 70],\n",
       " [3, 49, 62, 70],\n",
       " [3, 49, 62, 70],\n",
       " [3, 49, 62, 70],\n",
       " [3, 49, 62, 70],\n",
       " [3, 49, 62, 70],\n",
       " [3, 49, 62, 70],\n",
       " [3, 49, 62, 70],\n",
       " [3, 49, 62, 70],\n",
       " [3, 49, 62, 70],\n",
       " [3, 49, 62, 70],\n",
       " [3, 49, 62, 70],\n",
       " [3, 49, 62, 70],\n",
       " [3, 49, 62, 70],\n",
       " [3, 49, 62, 70],\n",
       " [3, 49, 62, 70],\n",
       " [3, 49, 62, 70],\n",
       " [3, 49, 62, 70],\n",
       " [3, 49, 62, 70],\n",
       " [3, 49, 62, 70],\n",
       " [3, 49, 62, 70],\n",
       " [3, 49, 62, 70],\n",
       " [3, 49, 62, 70],\n",
       " [3, 49, 62, 70],\n",
       " [3, 49, 62, 70],\n",
       " [3, 49, 62, 70],\n",
       " [3, 49, 62, 70],\n",
       " [3, 49, 62, 70],\n",
       " [3, 49, 62, 70],\n",
       " [3, 49, 62, 70],\n",
       " [3, 49, 62, 70],\n",
       " [3, 49, 62, 70],\n",
       " [3, 49, 62, 70],\n",
       " [3, 49, 62, 70],\n",
       " [3, 49, 62, 70],\n",
       " [3, 49, 62, 70],\n",
       " [3, 49, 62, 70],\n",
       " [3, 101, 342, 115],\n",
       " [3, 101, 342, 115],\n",
       " [3, 101, 342, 115],\n",
       " [3, 101, 342, 115],\n",
       " [3, 101, 342, 115],\n",
       " [3, 101, 342, 115],\n",
       " [3, 101, 342, 115],\n",
       " [3, 101, 342, 115],\n",
       " [3, 101, 342, 115],\n",
       " ...]"
      ]
     },
     "execution_count": 44,
     "metadata": {},
     "output_type": "execute_result"
    }
   ],
   "source": [
    "new_formatted_subject_col"
   ]
  },
  {
   "cell_type": "markdown",
   "id": "bfdbb7d9",
   "metadata": {},
   "source": [
    "### Subject Description\n",
    "Writing only the level indicated in the SubjectId"
   ]
  },
  {
   "cell_type": "code",
   "execution_count": 45,
   "id": "469fea02",
   "metadata": {},
   "outputs": [],
   "source": [
    "description_column = list()\n",
    "\n",
    "for row in new_formatted_subject_col:\n",
    "    description_row = list()\n",
    "    \n",
    "    #for each subject in the subject id column\n",
    "    for col_val in row:\n",
    "        #unpack the values in the dictionary\n",
    "        description, parent, level = subject_caller[col_val]\n",
    "        \n",
    "        #adding the description of the each value to the row\n",
    "        new_row = f'{description} ({col_val})'\n",
    "        \n",
    "        #ppend the row to the description row\n",
    "        description_row.append(new_row)\n",
    "        \n",
    "    #append the new description to the new description column\n",
    "    description_column.append(description_row)"
   ]
  },
  {
   "cell_type": "code",
   "execution_count": 46,
   "id": "cf74a4d7",
   "metadata": {},
   "outputs": [
    {
     "data": {
      "text/plain": [
       "['Maths (3)',\n",
       " 'Number (32)',\n",
       " 'Algebra (49)',\n",
       " 'Decimals (36)',\n",
       " 'Fractions (39)',\n",
       " 'Percentages (44)',\n",
       " 'Inequalities (59)',\n",
       " 'Inequalities on Number Lines (165)',\n",
       " 'Ordering Decimals (222)',\n",
       " 'Adding and Subtracting Fractions (230)',\n",
       " 'Percentages of an Amount (233)']"
      ]
     },
     "execution_count": 46,
     "metadata": {},
     "output_type": "execute_result"
    }
   ],
   "source": [
    "max(description_column, key=lambda x: len(x))"
   ]
  },
  {
   "cell_type": "code",
   "execution_count": 47,
   "id": "0fd454c9",
   "metadata": {
    "scrolled": false
   },
   "outputs": [],
   "source": [
    "#adjusting the format of the description column to a single string\n",
    "\n",
    "subject_column = list()\n",
    "\n",
    "for row in description_column:\n",
    "    #get the first element and add the quotation mark\n",
    "    subjects = f'\"{row[0]}'\n",
    "    \n",
    "    #get the other elements and add them in sequence\n",
    "    for el in row[1:]:\n",
    "        subjects += f' - {el}'\n",
    "    \n",
    "    #add a last quotation mark to the end of the new row\n",
    "    subjects += '\"'\n",
    "    #append the new description to the final subject column\n",
    "    subject_column.append(subjects)"
   ]
  },
  {
   "cell_type": "code",
   "execution_count": 48,
   "id": "1521108b",
   "metadata": {
    "scrolled": false
   },
   "outputs": [
    {
     "data": {
      "text/plain": [
       "['\"Maths (3)',\n",
       " 'Number (32)',\n",
       " 'Algebra (49)',\n",
       " 'Decimals (36)',\n",
       " 'Fractions (39)',\n",
       " 'Percentages (44)',\n",
       " 'Inequalities (59)',\n",
       " 'Inequalities on Number Lines (165)',\n",
       " 'Ordering Decimals (222)',\n",
       " 'Adding and Subtracting Fractions (230)',\n",
       " 'Percentages of an Amount (233)\"']"
      ]
     },
     "execution_count": 48,
     "metadata": {},
     "output_type": "execute_result"
    }
   ],
   "source": [
    "max([x.split(' - ') for x in subject_column], key=lambda x: len(x))"
   ]
  },
  {
   "cell_type": "code",
   "execution_count": 49,
   "id": "21f67f97",
   "metadata": {
    "scrolled": true
   },
   "outputs": [
    {
     "data": {
      "text/plain": [
       "'\"Maths (3) - Number (32) - Decimals (36) - Fractions, Decimals and Percentage Equivalence (38) - Percentages (44) - Multiplying and Dividing with Decimals (224) - Percentages of an Amount (233) - Percentage Increase and Decrease (234) - Converting between Decimals and Percentages (239)\"'"
      ]
     },
     "execution_count": 49,
     "metadata": {},
     "output_type": "execute_result"
    }
   ],
   "source": [
    "max(subject_column, key=lambda x: len(x))"
   ]
  },
  {
   "cell_type": "code",
   "execution_count": 50,
   "id": "ebbc075f",
   "metadata": {},
   "outputs": [
    {
     "data": {
      "text/plain": [
       "287"
      ]
     },
     "execution_count": 50,
     "metadata": {},
     "output_type": "execute_result"
    }
   ],
   "source": [
    "len(max(subject_column, key=lambda x: len(x)))"
   ]
  },
  {
   "cell_type": "markdown",
   "id": "34530f09",
   "metadata": {},
   "source": [
    "### Storing to DF and Saving the Subject Table into a File"
   ]
  },
  {
   "cell_type": "code",
   "execution_count": 51,
   "id": "113a0e7f",
   "metadata": {},
   "outputs": [],
   "source": [
    "dict_columns['Description'] = subject_column"
   ]
  },
  {
   "cell_type": "code",
   "execution_count": 52,
   "id": "8c457a61",
   "metadata": {},
   "outputs": [],
   "source": [
    "subject_table = gen_table_distinct(dict_columns, 'Description')\n",
    "subject_table = set_primary_key(subject_table, 'SubjectId')\n",
    "create_csv('Subject.csv', subject_table)"
   ]
  },
  {
   "cell_type": "markdown",
   "id": "3d056cf5",
   "metadata": {},
   "source": [
    "## Dates"
   ]
  },
  {
   "cell_type": "code",
   "execution_count": 53,
   "id": "863ebbc1",
   "metadata": {},
   "outputs": [
    {
     "data": {
      "text/plain": [
       "dict_keys(['QuestionId', 'UserId', 'AnswerId', 'CorrectAnswer', 'AnswerValue', 'Gender', 'DateOfBirth', 'PremiumPupil', 'DateAnswered', 'Confidence', 'GroupId', 'QuizId', 'SchemeOfWorkId', 'SubjectId', 'RegionId', 'Region', 'CountryCode', 'Continents', 'CountryName', 'IsCorrect', 'Description'])"
      ]
     },
     "execution_count": 53,
     "metadata": {},
     "output_type": "execute_result"
    }
   ],
   "source": [
    "dict_columns.keys()"
   ]
  },
  {
   "cell_type": "markdown",
   "id": "ef518aa3",
   "metadata": {},
   "source": [
    "### Get Date Table"
   ]
  },
  {
   "cell_type": "code",
   "execution_count": 54,
   "id": "80e03925",
   "metadata": {},
   "outputs": [],
   "source": [
    "double_date = gen_table(dict_columns, 'DateOfBirth', 'DateAnswered')"
   ]
  },
  {
   "cell_type": "code",
   "execution_count": 55,
   "id": "4d09216c",
   "metadata": {
    "scrolled": true
   },
   "outputs": [
    {
     "data": {
      "text/plain": [
       "538836"
      ]
     },
     "execution_count": 55,
     "metadata": {},
     "output_type": "execute_result"
    }
   ],
   "source": [
    "len(double_date)"
   ]
  },
  {
   "cell_type": "code",
   "execution_count": 56,
   "id": "296a4830",
   "metadata": {},
   "outputs": [],
   "source": [
    "date_to_clean = dict_columns['DateAnswered']\n",
    "space_pointer = date_to_clean[0].find(' ') #get the space position to discard the time\n",
    "date_cleaned = [x[:space_pointer] for x in date_to_clean]"
   ]
  },
  {
   "cell_type": "code",
   "execution_count": 57,
   "id": "c5e11785",
   "metadata": {},
   "outputs": [],
   "source": [
    "#Concatenating the two date columns into one\n",
    "single_col_date = ['Dates'] + dict_columns['DateOfBirth'] + date_cleaned"
   ]
  },
  {
   "cell_type": "code",
   "execution_count": 58,
   "id": "df3a5619",
   "metadata": {},
   "outputs": [
    {
     "data": {
      "text/plain": [
       "1077671"
      ]
     },
     "execution_count": 58,
     "metadata": {},
     "output_type": "execute_result"
    }
   ],
   "source": [
    "len(single_col_date)"
   ]
  },
  {
   "cell_type": "markdown",
   "id": "1fca3695",
   "metadata": {},
   "source": [
    "### Adjust Dates"
   ]
  },
  {
   "cell_type": "code",
   "execution_count": 59,
   "id": "a8e4207a",
   "metadata": {},
   "outputs": [],
   "source": [
    "year, month, day, quarter = list(), list(), list(), list()\n",
    "\n",
    "dict_temp_quarter = {}\n",
    "\n",
    "#write a temporary dictionary for each month pertaining to a quarter\n",
    "for i in range(1, 5):\n",
    "    dict_temp_quarter[f'Q{i}'] = [3*i-j for j in range(2, -1, -1)]\n",
    "    #{'Q1': [1, 2, 3], 'Q2': [4, 5, 6], 'Q3': [7, 8, 9], 'Q4': [10, 11, 12]}\n",
    "    \n",
    "#reverse the previous dictionary unpacking each month into a key with its respective quarter\n",
    "dict_quarters = dict()\n",
    "for k, v in dict_temp_quarter.items():\n",
    "    for i in range(len(v)):\n",
    "        dict_quarters[v[i]] = k\n",
    "        #{1: 'Q1', 2: 'Q1', 3: 'Q1', \n",
    "        # 4: 'Q2', 5: 'Q2', 6: 'Q2', \n",
    "        # 7: 'Q3', 8: 'Q3', 9: 'Q3',\n",
    "        # 10: 'Q4', 11: 'Q4', 12: 'Q4'}\n",
    "\n",
    "for row in single_col_date[1:]:\n",
    "    #split the single date according to each dash -\n",
    "    splitted_date = row.split('-')\n",
    "    \n",
    "    #add the year to its own column\n",
    "    year.append(splitted_date[0])\n",
    "    #add the year-month to the month column\n",
    "    month.append(splitted_date[0]+'-'+splitted_date[1])\n",
    "    #add the full date to the day column\n",
    "    day.append(row)\n",
    "    #add the year-quarter to its column, the quarter is retrieved by dict_quarters[month]\n",
    "    quarter.append(splitted_date[0]+'-'+dict_quarters[int(splitted_date[1])])"
   ]
  },
  {
   "cell_type": "code",
   "execution_count": 60,
   "id": "c93e8fb2",
   "metadata": {},
   "outputs": [
    {
     "data": {
      "text/plain": [
       "1077670"
      ]
     },
     "execution_count": 60,
     "metadata": {},
     "output_type": "execute_result"
    }
   ],
   "source": [
    "len(year)"
   ]
  },
  {
   "cell_type": "markdown",
   "id": "27fd8399",
   "metadata": {},
   "source": [
    "### Compile new Date Table"
   ]
  },
  {
   "cell_type": "code",
   "execution_count": 61,
   "id": "7c3f18d9",
   "metadata": {},
   "outputs": [],
   "source": [
    "header_date = tuple(['Dates', 'Year', 'Month', 'Day', 'Quarter'])\n",
    "date_without_header = single_col_date[1:]\n",
    "data_date = sorted(list(set(zip(date_without_header, year, month, day, quarter))))\n",
    "\n",
    "date_table = [header_date]+data_date"
   ]
  },
  {
   "cell_type": "code",
   "execution_count": 62,
   "id": "e987737d",
   "metadata": {},
   "outputs": [
    {
     "data": {
      "text/plain": [
       "[('Dates', 'Year', 'Month', 'Day', 'Quarter'),\n",
       " ('2000-11-01', '2000', '2000-11', '2000-11-01', '2000-Q4'),\n",
       " ('2001-03-01', '2001', '2001-03', '2001-03-01', '2001-Q1'),\n",
       " ('2001-04-01', '2001', '2001-04', '2001-04-01', '2001-Q2'),\n",
       " ('2001-10-01', '2001', '2001-10', '2001-10-01', '2001-Q4'),\n",
       " ('2001-11-01', '2001', '2001-11', '2001-11-01', '2001-Q4'),\n",
       " ('2002-01-01', '2002', '2002-01', '2002-01-01', '2002-Q1'),\n",
       " ('2002-03-01', '2002', '2002-03', '2002-03-01', '2002-Q1'),\n",
       " ('2002-06-01', '2002', '2002-06', '2002-06-01', '2002-Q2'),\n",
       " ('2002-07-01', '2002', '2002-07', '2002-07-01', '2002-Q3'),\n",
       " ('2002-09-01', '2002', '2002-09', '2002-09-01', '2002-Q3'),\n",
       " ('2002-10-01', '2002', '2002-10', '2002-10-01', '2002-Q4'),\n",
       " ('2002-11-01', '2002', '2002-11', '2002-11-01', '2002-Q4'),\n",
       " ('2002-12-01', '2002', '2002-12', '2002-12-01', '2002-Q4'),\n",
       " ('2003-01-01', '2003', '2003-01', '2003-01-01', '2003-Q1'),\n",
       " ('2003-02-01', '2003', '2003-02', '2003-02-01', '2003-Q1'),\n",
       " ('2003-03-01', '2003', '2003-03', '2003-03-01', '2003-Q1'),\n",
       " ('2003-04-01', '2003', '2003-04', '2003-04-01', '2003-Q2'),\n",
       " ('2003-05-01', '2003', '2003-05', '2003-05-01', '2003-Q2'),\n",
       " ('2003-06-01', '2003', '2003-06', '2003-06-01', '2003-Q2'),\n",
       " ('2003-07-01', '2003', '2003-07', '2003-07-01', '2003-Q3'),\n",
       " ('2003-08-01', '2003', '2003-08', '2003-08-01', '2003-Q3'),\n",
       " ('2003-09-01', '2003', '2003-09', '2003-09-01', '2003-Q3'),\n",
       " ('2003-10-01', '2003', '2003-10', '2003-10-01', '2003-Q4'),\n",
       " ('2003-11-01', '2003', '2003-11', '2003-11-01', '2003-Q4'),\n",
       " ('2003-12-01', '2003', '2003-12', '2003-12-01', '2003-Q4'),\n",
       " ('2004-01-01', '2004', '2004-01', '2004-01-01', '2004-Q1'),\n",
       " ('2004-02-01', '2004', '2004-02', '2004-02-01', '2004-Q1'),\n",
       " ('2004-03-01', '2004', '2004-03', '2004-03-01', '2004-Q1'),\n",
       " ('2004-04-01', '2004', '2004-04', '2004-04-01', '2004-Q2'),\n",
       " ('2004-05-01', '2004', '2004-05', '2004-05-01', '2004-Q2'),\n",
       " ('2004-06-01', '2004', '2004-06', '2004-06-01', '2004-Q2'),\n",
       " ('2004-07-01', '2004', '2004-07', '2004-07-01', '2004-Q3'),\n",
       " ('2004-08-01', '2004', '2004-08', '2004-08-01', '2004-Q3'),\n",
       " ('2004-09-01', '2004', '2004-09', '2004-09-01', '2004-Q3'),\n",
       " ('2004-10-01', '2004', '2004-10', '2004-10-01', '2004-Q4'),\n",
       " ('2004-11-01', '2004', '2004-11', '2004-11-01', '2004-Q4'),\n",
       " ('2004-12-01', '2004', '2004-12', '2004-12-01', '2004-Q4'),\n",
       " ('2005-01-01', '2005', '2005-01', '2005-01-01', '2005-Q1'),\n",
       " ('2005-02-01', '2005', '2005-02', '2005-02-01', '2005-Q1'),\n",
       " ('2005-03-01', '2005', '2005-03', '2005-03-01', '2005-Q1'),\n",
       " ('2005-04-01', '2005', '2005-04', '2005-04-01', '2005-Q2'),\n",
       " ('2005-05-01', '2005', '2005-05', '2005-05-01', '2005-Q2'),\n",
       " ('2005-06-01', '2005', '2005-06', '2005-06-01', '2005-Q2'),\n",
       " ('2005-07-01', '2005', '2005-07', '2005-07-01', '2005-Q3'),\n",
       " ('2005-08-01', '2005', '2005-08', '2005-08-01', '2005-Q3'),\n",
       " ('2005-09-01', '2005', '2005-09', '2005-09-01', '2005-Q3'),\n",
       " ('2005-10-01', '2005', '2005-10', '2005-10-01', '2005-Q4'),\n",
       " ('2005-11-01', '2005', '2005-11', '2005-11-01', '2005-Q4'),\n",
       " ('2005-12-01', '2005', '2005-12', '2005-12-01', '2005-Q4'),\n",
       " ('2006-01-01', '2006', '2006-01', '2006-01-01', '2006-Q1'),\n",
       " ('2006-02-01', '2006', '2006-02', '2006-02-01', '2006-Q1'),\n",
       " ('2006-03-01', '2006', '2006-03', '2006-03-01', '2006-Q1'),\n",
       " ('2006-04-01', '2006', '2006-04', '2006-04-01', '2006-Q2'),\n",
       " ('2006-05-01', '2006', '2006-05', '2006-05-01', '2006-Q2'),\n",
       " ('2006-06-01', '2006', '2006-06', '2006-06-01', '2006-Q2'),\n",
       " ('2006-07-01', '2006', '2006-07', '2006-07-01', '2006-Q3'),\n",
       " ('2006-08-01', '2006', '2006-08', '2006-08-01', '2006-Q3'),\n",
       " ('2006-09-01', '2006', '2006-09', '2006-09-01', '2006-Q3'),\n",
       " ('2006-10-01', '2006', '2006-10', '2006-10-01', '2006-Q4'),\n",
       " ('2006-11-01', '2006', '2006-11', '2006-11-01', '2006-Q4'),\n",
       " ('2006-12-01', '2006', '2006-12', '2006-12-01', '2006-Q4'),\n",
       " ('2007-01-01', '2007', '2007-01', '2007-01-01', '2007-Q1'),\n",
       " ('2007-02-01', '2007', '2007-02', '2007-02-01', '2007-Q1'),\n",
       " ('2007-03-01', '2007', '2007-03', '2007-03-01', '2007-Q1'),\n",
       " ('2007-04-01', '2007', '2007-04', '2007-04-01', '2007-Q2'),\n",
       " ('2007-05-01', '2007', '2007-05', '2007-05-01', '2007-Q2'),\n",
       " ('2007-06-01', '2007', '2007-06', '2007-06-01', '2007-Q2'),\n",
       " ('2007-07-01', '2007', '2007-07', '2007-07-01', '2007-Q3'),\n",
       " ('2007-08-01', '2007', '2007-08', '2007-08-01', '2007-Q3'),\n",
       " ('2007-09-01', '2007', '2007-09', '2007-09-01', '2007-Q3'),\n",
       " ('2007-10-01', '2007', '2007-10', '2007-10-01', '2007-Q4'),\n",
       " ('2007-11-01', '2007', '2007-11', '2007-11-01', '2007-Q4'),\n",
       " ('2007-12-01', '2007', '2007-12', '2007-12-01', '2007-Q4'),\n",
       " ('2008-01-01', '2008', '2008-01', '2008-01-01', '2008-Q1'),\n",
       " ('2008-02-01', '2008', '2008-02', '2008-02-01', '2008-Q1'),\n",
       " ('2008-03-01', '2008', '2008-03', '2008-03-01', '2008-Q1'),\n",
       " ('2008-04-01', '2008', '2008-04', '2008-04-01', '2008-Q2'),\n",
       " ('2008-05-01', '2008', '2008-05', '2008-05-01', '2008-Q2'),\n",
       " ('2008-06-01', '2008', '2008-06', '2008-06-01', '2008-Q2'),\n",
       " ('2008-07-01', '2008', '2008-07', '2008-07-01', '2008-Q3'),\n",
       " ('2008-08-01', '2008', '2008-08', '2008-08-01', '2008-Q3'),\n",
       " ('2008-09-01', '2008', '2008-09', '2008-09-01', '2008-Q3'),\n",
       " ('2008-10-01', '2008', '2008-10', '2008-10-01', '2008-Q4'),\n",
       " ('2008-11-01', '2008', '2008-11', '2008-11-01', '2008-Q4'),\n",
       " ('2008-12-01', '2008', '2008-12', '2008-12-01', '2008-Q4'),\n",
       " ('2009-01-01', '2009', '2009-01', '2009-01-01', '2009-Q1'),\n",
       " ('2009-02-01', '2009', '2009-02', '2009-02-01', '2009-Q1'),\n",
       " ('2009-03-01', '2009', '2009-03', '2009-03-01', '2009-Q1'),\n",
       " ('2009-04-01', '2009', '2009-04', '2009-04-01', '2009-Q2'),\n",
       " ('2009-05-01', '2009', '2009-05', '2009-05-01', '2009-Q2'),\n",
       " ('2009-06-01', '2009', '2009-06', '2009-06-01', '2009-Q2'),\n",
       " ('2009-07-01', '2009', '2009-07', '2009-07-01', '2009-Q3'),\n",
       " ('2009-08-01', '2009', '2009-08', '2009-08-01', '2009-Q3'),\n",
       " ('2009-09-01', '2009', '2009-09', '2009-09-01', '2009-Q3'),\n",
       " ('2009-10-01', '2009', '2009-10', '2009-10-01', '2009-Q4'),\n",
       " ('2009-11-01', '2009', '2009-11', '2009-11-01', '2009-Q4'),\n",
       " ('2009-12-01', '2009', '2009-12', '2009-12-01', '2009-Q4'),\n",
       " ('2010-01-01', '2010', '2010-01', '2010-01-01', '2010-Q1'),\n",
       " ('2010-02-01', '2010', '2010-02', '2010-02-01', '2010-Q1'),\n",
       " ('2010-03-01', '2010', '2010-03', '2010-03-01', '2010-Q1'),\n",
       " ('2010-04-01', '2010', '2010-04', '2010-04-01', '2010-Q2'),\n",
       " ('2010-05-01', '2010', '2010-05', '2010-05-01', '2010-Q2'),\n",
       " ('2010-06-01', '2010', '2010-06', '2010-06-01', '2010-Q2'),\n",
       " ('2010-07-01', '2010', '2010-07', '2010-07-01', '2010-Q3'),\n",
       " ('2010-08-01', '2010', '2010-08', '2010-08-01', '2010-Q3'),\n",
       " ('2010-09-01', '2010', '2010-09', '2010-09-01', '2010-Q3'),\n",
       " ('2010-10-01', '2010', '2010-10', '2010-10-01', '2010-Q4'),\n",
       " ('2010-11-01', '2010', '2010-11', '2010-11-01', '2010-Q4'),\n",
       " ('2010-12-01', '2010', '2010-12', '2010-12-01', '2010-Q4'),\n",
       " ('2011-01-01', '2011', '2011-01', '2011-01-01', '2011-Q1'),\n",
       " ('2011-02-01', '2011', '2011-02', '2011-02-01', '2011-Q1'),\n",
       " ('2011-03-01', '2011', '2011-03', '2011-03-01', '2011-Q1'),\n",
       " ('2011-04-01', '2011', '2011-04', '2011-04-01', '2011-Q2'),\n",
       " ('2011-05-01', '2011', '2011-05', '2011-05-01', '2011-Q2'),\n",
       " ('2011-06-01', '2011', '2011-06', '2011-06-01', '2011-Q2'),\n",
       " ('2011-07-01', '2011', '2011-07', '2011-07-01', '2011-Q3'),\n",
       " ('2011-08-01', '2011', '2011-08', '2011-08-01', '2011-Q3'),\n",
       " ('2011-09-01', '2011', '2011-09', '2011-09-01', '2011-Q3'),\n",
       " ('2011-10-01', '2011', '2011-10', '2011-10-01', '2011-Q4'),\n",
       " ('2011-11-01', '2011', '2011-11', '2011-11-01', '2011-Q4'),\n",
       " ('2011-12-01', '2011', '2011-12', '2011-12-01', '2011-Q4'),\n",
       " ('2012-01-01', '2012', '2012-01', '2012-01-01', '2012-Q1'),\n",
       " ('2012-02-01', '2012', '2012-02', '2012-02-01', '2012-Q1'),\n",
       " ('2012-03-01', '2012', '2012-03', '2012-03-01', '2012-Q1'),\n",
       " ('2012-04-01', '2012', '2012-04', '2012-04-01', '2012-Q2'),\n",
       " ('2012-05-01', '2012', '2012-05', '2012-05-01', '2012-Q2'),\n",
       " ('2012-06-01', '2012', '2012-06', '2012-06-01', '2012-Q2'),\n",
       " ('2012-07-01', '2012', '2012-07', '2012-07-01', '2012-Q3'),\n",
       " ('2012-08-01', '2012', '2012-08', '2012-08-01', '2012-Q3'),\n",
       " ('2012-10-01', '2012', '2012-10', '2012-10-01', '2012-Q4'),\n",
       " ('2012-11-01', '2012', '2012-11', '2012-11-01', '2012-Q4'),\n",
       " ('2012-12-01', '2012', '2012-12', '2012-12-01', '2012-Q4'),\n",
       " ('2013-01-01', '2013', '2013-01', '2013-01-01', '2013-Q1'),\n",
       " ('2013-02-01', '2013', '2013-02', '2013-02-01', '2013-Q1'),\n",
       " ('2013-03-01', '2013', '2013-03', '2013-03-01', '2013-Q1'),\n",
       " ('2013-04-01', '2013', '2013-04', '2013-04-01', '2013-Q2'),\n",
       " ('2013-06-01', '2013', '2013-06', '2013-06-01', '2013-Q2'),\n",
       " ('2013-07-01', '2013', '2013-07', '2013-07-01', '2013-Q3'),\n",
       " ('2013-08-01', '2013', '2013-08', '2013-08-01', '2013-Q3'),\n",
       " ('2019-01-29', '2019', '2019-01', '2019-01-29', '2019-Q1'),\n",
       " ('2019-01-30', '2019', '2019-01', '2019-01-30', '2019-Q1'),\n",
       " ('2019-01-31', '2019', '2019-01', '2019-01-31', '2019-Q1'),\n",
       " ('2019-02-01', '2019', '2019-02', '2019-02-01', '2019-Q1'),\n",
       " ('2019-02-02', '2019', '2019-02', '2019-02-02', '2019-Q1'),\n",
       " ('2019-02-03', '2019', '2019-02', '2019-02-03', '2019-Q1'),\n",
       " ('2019-02-04', '2019', '2019-02', '2019-02-04', '2019-Q1'),\n",
       " ('2019-02-05', '2019', '2019-02', '2019-02-05', '2019-Q1'),\n",
       " ('2019-02-06', '2019', '2019-02', '2019-02-06', '2019-Q1'),\n",
       " ('2019-02-07', '2019', '2019-02', '2019-02-07', '2019-Q1'),\n",
       " ('2019-02-08', '2019', '2019-02', '2019-02-08', '2019-Q1'),\n",
       " ('2019-02-09', '2019', '2019-02', '2019-02-09', '2019-Q1'),\n",
       " ('2019-02-10', '2019', '2019-02', '2019-02-10', '2019-Q1'),\n",
       " ('2019-02-11', '2019', '2019-02', '2019-02-11', '2019-Q1'),\n",
       " ('2019-02-12', '2019', '2019-02', '2019-02-12', '2019-Q1'),\n",
       " ('2019-02-13', '2019', '2019-02', '2019-02-13', '2019-Q1'),\n",
       " ('2019-02-14', '2019', '2019-02', '2019-02-14', '2019-Q1'),\n",
       " ('2019-02-15', '2019', '2019-02', '2019-02-15', '2019-Q1'),\n",
       " ('2019-02-16', '2019', '2019-02', '2019-02-16', '2019-Q1'),\n",
       " ('2019-02-17', '2019', '2019-02', '2019-02-17', '2019-Q1'),\n",
       " ('2019-02-18', '2019', '2019-02', '2019-02-18', '2019-Q1'),\n",
       " ('2019-02-19', '2019', '2019-02', '2019-02-19', '2019-Q1'),\n",
       " ('2019-02-20', '2019', '2019-02', '2019-02-20', '2019-Q1'),\n",
       " ('2019-02-21', '2019', '2019-02', '2019-02-21', '2019-Q1'),\n",
       " ('2019-02-22', '2019', '2019-02', '2019-02-22', '2019-Q1'),\n",
       " ('2019-02-23', '2019', '2019-02', '2019-02-23', '2019-Q1'),\n",
       " ('2019-02-24', '2019', '2019-02', '2019-02-24', '2019-Q1'),\n",
       " ('2019-02-25', '2019', '2019-02', '2019-02-25', '2019-Q1'),\n",
       " ('2019-02-26', '2019', '2019-02', '2019-02-26', '2019-Q1'),\n",
       " ('2019-02-27', '2019', '2019-02', '2019-02-27', '2019-Q1'),\n",
       " ('2019-02-28', '2019', '2019-02', '2019-02-28', '2019-Q1'),\n",
       " ('2019-03-01', '2019', '2019-03', '2019-03-01', '2019-Q1'),\n",
       " ('2019-03-02', '2019', '2019-03', '2019-03-02', '2019-Q1'),\n",
       " ('2019-03-03', '2019', '2019-03', '2019-03-03', '2019-Q1'),\n",
       " ('2019-03-04', '2019', '2019-03', '2019-03-04', '2019-Q1'),\n",
       " ('2019-03-05', '2019', '2019-03', '2019-03-05', '2019-Q1'),\n",
       " ('2019-03-06', '2019', '2019-03', '2019-03-06', '2019-Q1'),\n",
       " ('2019-03-07', '2019', '2019-03', '2019-03-07', '2019-Q1'),\n",
       " ('2019-03-08', '2019', '2019-03', '2019-03-08', '2019-Q1'),\n",
       " ('2019-03-09', '2019', '2019-03', '2019-03-09', '2019-Q1'),\n",
       " ('2019-03-10', '2019', '2019-03', '2019-03-10', '2019-Q1'),\n",
       " ('2019-03-11', '2019', '2019-03', '2019-03-11', '2019-Q1'),\n",
       " ('2019-03-12', '2019', '2019-03', '2019-03-12', '2019-Q1'),\n",
       " ('2019-03-13', '2019', '2019-03', '2019-03-13', '2019-Q1'),\n",
       " ('2019-03-14', '2019', '2019-03', '2019-03-14', '2019-Q1'),\n",
       " ('2019-03-15', '2019', '2019-03', '2019-03-15', '2019-Q1'),\n",
       " ('2019-03-16', '2019', '2019-03', '2019-03-16', '2019-Q1'),\n",
       " ('2019-03-17', '2019', '2019-03', '2019-03-17', '2019-Q1'),\n",
       " ('2019-03-18', '2019', '2019-03', '2019-03-18', '2019-Q1'),\n",
       " ('2019-03-19', '2019', '2019-03', '2019-03-19', '2019-Q1'),\n",
       " ('2019-03-20', '2019', '2019-03', '2019-03-20', '2019-Q1'),\n",
       " ('2019-03-21', '2019', '2019-03', '2019-03-21', '2019-Q1'),\n",
       " ('2019-03-22', '2019', '2019-03', '2019-03-22', '2019-Q1'),\n",
       " ('2019-03-23', '2019', '2019-03', '2019-03-23', '2019-Q1'),\n",
       " ('2019-03-24', '2019', '2019-03', '2019-03-24', '2019-Q1'),\n",
       " ('2019-03-25', '2019', '2019-03', '2019-03-25', '2019-Q1'),\n",
       " ('2019-03-26', '2019', '2019-03', '2019-03-26', '2019-Q1'),\n",
       " ('2019-03-27', '2019', '2019-03', '2019-03-27', '2019-Q1'),\n",
       " ('2019-03-28', '2019', '2019-03', '2019-03-28', '2019-Q1'),\n",
       " ('2019-03-29', '2019', '2019-03', '2019-03-29', '2019-Q1'),\n",
       " ('2019-03-30', '2019', '2019-03', '2019-03-30', '2019-Q1'),\n",
       " ('2019-03-31', '2019', '2019-03', '2019-03-31', '2019-Q1'),\n",
       " ('2019-04-01', '2019', '2019-04', '2019-04-01', '2019-Q2'),\n",
       " ('2019-04-02', '2019', '2019-04', '2019-04-02', '2019-Q2'),\n",
       " ('2019-04-03', '2019', '2019-04', '2019-04-03', '2019-Q2'),\n",
       " ('2019-04-04', '2019', '2019-04', '2019-04-04', '2019-Q2'),\n",
       " ('2019-04-05', '2019', '2019-04', '2019-04-05', '2019-Q2'),\n",
       " ('2019-04-06', '2019', '2019-04', '2019-04-06', '2019-Q2'),\n",
       " ('2019-04-07', '2019', '2019-04', '2019-04-07', '2019-Q2'),\n",
       " ('2019-04-08', '2019', '2019-04', '2019-04-08', '2019-Q2'),\n",
       " ('2019-04-09', '2019', '2019-04', '2019-04-09', '2019-Q2'),\n",
       " ('2019-04-10', '2019', '2019-04', '2019-04-10', '2019-Q2'),\n",
       " ('2019-04-11', '2019', '2019-04', '2019-04-11', '2019-Q2'),\n",
       " ('2019-04-12', '2019', '2019-04', '2019-04-12', '2019-Q2'),\n",
       " ('2019-04-13', '2019', '2019-04', '2019-04-13', '2019-Q2'),\n",
       " ('2019-04-14', '2019', '2019-04', '2019-04-14', '2019-Q2'),\n",
       " ('2019-04-15', '2019', '2019-04', '2019-04-15', '2019-Q2'),\n",
       " ('2019-04-16', '2019', '2019-04', '2019-04-16', '2019-Q2'),\n",
       " ('2019-04-17', '2019', '2019-04', '2019-04-17', '2019-Q2'),\n",
       " ('2019-04-18', '2019', '2019-04', '2019-04-18', '2019-Q2'),\n",
       " ('2019-04-19', '2019', '2019-04', '2019-04-19', '2019-Q2'),\n",
       " ('2019-04-20', '2019', '2019-04', '2019-04-20', '2019-Q2'),\n",
       " ('2019-04-21', '2019', '2019-04', '2019-04-21', '2019-Q2'),\n",
       " ('2019-04-22', '2019', '2019-04', '2019-04-22', '2019-Q2'),\n",
       " ('2019-04-23', '2019', '2019-04', '2019-04-23', '2019-Q2'),\n",
       " ('2019-04-24', '2019', '2019-04', '2019-04-24', '2019-Q2'),\n",
       " ('2019-04-25', '2019', '2019-04', '2019-04-25', '2019-Q2'),\n",
       " ('2019-04-26', '2019', '2019-04', '2019-04-26', '2019-Q2'),\n",
       " ('2019-04-27', '2019', '2019-04', '2019-04-27', '2019-Q2'),\n",
       " ('2019-04-28', '2019', '2019-04', '2019-04-28', '2019-Q2'),\n",
       " ('2019-04-29', '2019', '2019-04', '2019-04-29', '2019-Q2'),\n",
       " ('2019-04-30', '2019', '2019-04', '2019-04-30', '2019-Q2'),\n",
       " ('2019-05-01', '2019', '2019-05', '2019-05-01', '2019-Q2'),\n",
       " ('2019-05-02', '2019', '2019-05', '2019-05-02', '2019-Q2'),\n",
       " ('2019-05-03', '2019', '2019-05', '2019-05-03', '2019-Q2'),\n",
       " ('2019-05-04', '2019', '2019-05', '2019-05-04', '2019-Q2'),\n",
       " ('2019-05-05', '2019', '2019-05', '2019-05-05', '2019-Q2'),\n",
       " ('2019-05-06', '2019', '2019-05', '2019-05-06', '2019-Q2'),\n",
       " ('2019-05-07', '2019', '2019-05', '2019-05-07', '2019-Q2'),\n",
       " ('2019-05-08', '2019', '2019-05', '2019-05-08', '2019-Q2'),\n",
       " ('2019-05-09', '2019', '2019-05', '2019-05-09', '2019-Q2'),\n",
       " ('2019-05-10', '2019', '2019-05', '2019-05-10', '2019-Q2'),\n",
       " ('2019-05-11', '2019', '2019-05', '2019-05-11', '2019-Q2'),\n",
       " ('2019-05-12', '2019', '2019-05', '2019-05-12', '2019-Q2'),\n",
       " ('2019-05-13', '2019', '2019-05', '2019-05-13', '2019-Q2'),\n",
       " ('2019-05-14', '2019', '2019-05', '2019-05-14', '2019-Q2'),\n",
       " ('2019-05-15', '2019', '2019-05', '2019-05-15', '2019-Q2'),\n",
       " ('2019-05-16', '2019', '2019-05', '2019-05-16', '2019-Q2'),\n",
       " ('2019-05-17', '2019', '2019-05', '2019-05-17', '2019-Q2'),\n",
       " ('2019-05-18', '2019', '2019-05', '2019-05-18', '2019-Q2'),\n",
       " ('2019-05-19', '2019', '2019-05', '2019-05-19', '2019-Q2'),\n",
       " ('2019-05-20', '2019', '2019-05', '2019-05-20', '2019-Q2'),\n",
       " ('2019-05-21', '2019', '2019-05', '2019-05-21', '2019-Q2'),\n",
       " ('2019-05-22', '2019', '2019-05', '2019-05-22', '2019-Q2'),\n",
       " ('2019-05-23', '2019', '2019-05', '2019-05-23', '2019-Q2'),\n",
       " ('2019-05-24', '2019', '2019-05', '2019-05-24', '2019-Q2'),\n",
       " ('2019-05-25', '2019', '2019-05', '2019-05-25', '2019-Q2'),\n",
       " ('2019-05-26', '2019', '2019-05', '2019-05-26', '2019-Q2'),\n",
       " ('2019-05-27', '2019', '2019-05', '2019-05-27', '2019-Q2'),\n",
       " ('2019-05-28', '2019', '2019-05', '2019-05-28', '2019-Q2'),\n",
       " ('2019-05-29', '2019', '2019-05', '2019-05-29', '2019-Q2'),\n",
       " ('2019-05-30', '2019', '2019-05', '2019-05-30', '2019-Q2'),\n",
       " ('2019-05-31', '2019', '2019-05', '2019-05-31', '2019-Q2'),\n",
       " ('2019-06-01', '2019', '2019-06', '2019-06-01', '2019-Q2'),\n",
       " ('2019-06-02', '2019', '2019-06', '2019-06-02', '2019-Q2'),\n",
       " ('2019-06-03', '2019', '2019-06', '2019-06-03', '2019-Q2'),\n",
       " ('2019-06-04', '2019', '2019-06', '2019-06-04', '2019-Q2'),\n",
       " ('2019-06-05', '2019', '2019-06', '2019-06-05', '2019-Q2'),\n",
       " ('2019-06-06', '2019', '2019-06', '2019-06-06', '2019-Q2'),\n",
       " ('2019-06-07', '2019', '2019-06', '2019-06-07', '2019-Q2'),\n",
       " ('2019-06-08', '2019', '2019-06', '2019-06-08', '2019-Q2'),\n",
       " ('2019-06-09', '2019', '2019-06', '2019-06-09', '2019-Q2'),\n",
       " ('2019-06-10', '2019', '2019-06', '2019-06-10', '2019-Q2'),\n",
       " ('2019-06-11', '2019', '2019-06', '2019-06-11', '2019-Q2'),\n",
       " ('2019-06-12', '2019', '2019-06', '2019-06-12', '2019-Q2'),\n",
       " ('2019-06-13', '2019', '2019-06', '2019-06-13', '2019-Q2'),\n",
       " ('2019-06-14', '2019', '2019-06', '2019-06-14', '2019-Q2'),\n",
       " ('2019-06-15', '2019', '2019-06', '2019-06-15', '2019-Q2'),\n",
       " ('2019-06-16', '2019', '2019-06', '2019-06-16', '2019-Q2'),\n",
       " ('2019-06-17', '2019', '2019-06', '2019-06-17', '2019-Q2'),\n",
       " ('2019-06-18', '2019', '2019-06', '2019-06-18', '2019-Q2'),\n",
       " ('2019-06-19', '2019', '2019-06', '2019-06-19', '2019-Q2'),\n",
       " ('2019-06-20', '2019', '2019-06', '2019-06-20', '2019-Q2'),\n",
       " ('2019-06-21', '2019', '2019-06', '2019-06-21', '2019-Q2'),\n",
       " ('2019-06-22', '2019', '2019-06', '2019-06-22', '2019-Q2'),\n",
       " ('2019-06-23', '2019', '2019-06', '2019-06-23', '2019-Q2'),\n",
       " ('2019-06-24', '2019', '2019-06', '2019-06-24', '2019-Q2'),\n",
       " ('2019-06-25', '2019', '2019-06', '2019-06-25', '2019-Q2'),\n",
       " ('2019-06-26', '2019', '2019-06', '2019-06-26', '2019-Q2'),\n",
       " ('2019-06-27', '2019', '2019-06', '2019-06-27', '2019-Q2'),\n",
       " ('2019-06-28', '2019', '2019-06', '2019-06-28', '2019-Q2'),\n",
       " ('2019-06-29', '2019', '2019-06', '2019-06-29', '2019-Q2'),\n",
       " ('2019-06-30', '2019', '2019-06', '2019-06-30', '2019-Q2'),\n",
       " ('2019-07-01', '2019', '2019-07', '2019-07-01', '2019-Q3'),\n",
       " ('2019-07-02', '2019', '2019-07', '2019-07-02', '2019-Q3'),\n",
       " ('2019-07-03', '2019', '2019-07', '2019-07-03', '2019-Q3'),\n",
       " ('2019-07-04', '2019', '2019-07', '2019-07-04', '2019-Q3'),\n",
       " ('2019-07-05', '2019', '2019-07', '2019-07-05', '2019-Q3'),\n",
       " ('2019-07-06', '2019', '2019-07', '2019-07-06', '2019-Q3'),\n",
       " ('2019-07-07', '2019', '2019-07', '2019-07-07', '2019-Q3'),\n",
       " ('2019-07-08', '2019', '2019-07', '2019-07-08', '2019-Q3'),\n",
       " ('2019-07-09', '2019', '2019-07', '2019-07-09', '2019-Q3'),\n",
       " ('2019-07-10', '2019', '2019-07', '2019-07-10', '2019-Q3'),\n",
       " ('2019-07-11', '2019', '2019-07', '2019-07-11', '2019-Q3'),\n",
       " ('2019-07-12', '2019', '2019-07', '2019-07-12', '2019-Q3'),\n",
       " ('2019-07-13', '2019', '2019-07', '2019-07-13', '2019-Q3'),\n",
       " ('2019-07-14', '2019', '2019-07', '2019-07-14', '2019-Q3'),\n",
       " ('2019-07-15', '2019', '2019-07', '2019-07-15', '2019-Q3'),\n",
       " ('2019-07-16', '2019', '2019-07', '2019-07-16', '2019-Q3'),\n",
       " ('2019-07-17', '2019', '2019-07', '2019-07-17', '2019-Q3'),\n",
       " ('2019-07-18', '2019', '2019-07', '2019-07-18', '2019-Q3'),\n",
       " ('2019-07-19', '2019', '2019-07', '2019-07-19', '2019-Q3'),\n",
       " ('2019-07-20', '2019', '2019-07', '2019-07-20', '2019-Q3'),\n",
       " ('2019-07-21', '2019', '2019-07', '2019-07-21', '2019-Q3'),\n",
       " ('2019-07-22', '2019', '2019-07', '2019-07-22', '2019-Q3'),\n",
       " ('2019-07-23', '2019', '2019-07', '2019-07-23', '2019-Q3'),\n",
       " ('2019-07-24', '2019', '2019-07', '2019-07-24', '2019-Q3'),\n",
       " ('2019-07-25', '2019', '2019-07', '2019-07-25', '2019-Q3'),\n",
       " ('2019-07-26', '2019', '2019-07', '2019-07-26', '2019-Q3'),\n",
       " ('2019-07-27', '2019', '2019-07', '2019-07-27', '2019-Q3'),\n",
       " ('2019-07-28', '2019', '2019-07', '2019-07-28', '2019-Q3'),\n",
       " ('2019-07-29', '2019', '2019-07', '2019-07-29', '2019-Q3'),\n",
       " ('2019-07-30', '2019', '2019-07', '2019-07-30', '2019-Q3'),\n",
       " ('2019-07-31', '2019', '2019-07', '2019-07-31', '2019-Q3'),\n",
       " ('2019-08-01', '2019', '2019-08', '2019-08-01', '2019-Q3'),\n",
       " ('2019-08-02', '2019', '2019-08', '2019-08-02', '2019-Q3'),\n",
       " ('2019-08-03', '2019', '2019-08', '2019-08-03', '2019-Q3'),\n",
       " ('2019-08-04', '2019', '2019-08', '2019-08-04', '2019-Q3'),\n",
       " ('2019-08-05', '2019', '2019-08', '2019-08-05', '2019-Q3'),\n",
       " ('2019-08-06', '2019', '2019-08', '2019-08-06', '2019-Q3'),\n",
       " ('2019-08-07', '2019', '2019-08', '2019-08-07', '2019-Q3'),\n",
       " ('2019-08-08', '2019', '2019-08', '2019-08-08', '2019-Q3'),\n",
       " ('2019-08-09', '2019', '2019-08', '2019-08-09', '2019-Q3'),\n",
       " ('2019-08-10', '2019', '2019-08', '2019-08-10', '2019-Q3'),\n",
       " ('2019-08-11', '2019', '2019-08', '2019-08-11', '2019-Q3'),\n",
       " ('2019-08-12', '2019', '2019-08', '2019-08-12', '2019-Q3'),\n",
       " ('2019-08-13', '2019', '2019-08', '2019-08-13', '2019-Q3'),\n",
       " ('2019-08-14', '2019', '2019-08', '2019-08-14', '2019-Q3'),\n",
       " ('2019-08-15', '2019', '2019-08', '2019-08-15', '2019-Q3'),\n",
       " ('2019-08-16', '2019', '2019-08', '2019-08-16', '2019-Q3'),\n",
       " ('2019-08-17', '2019', '2019-08', '2019-08-17', '2019-Q3'),\n",
       " ('2019-08-18', '2019', '2019-08', '2019-08-18', '2019-Q3'),\n",
       " ('2019-08-19', '2019', '2019-08', '2019-08-19', '2019-Q3'),\n",
       " ('2019-08-20', '2019', '2019-08', '2019-08-20', '2019-Q3'),\n",
       " ('2019-08-21', '2019', '2019-08', '2019-08-21', '2019-Q3'),\n",
       " ('2019-08-22', '2019', '2019-08', '2019-08-22', '2019-Q3'),\n",
       " ('2019-08-23', '2019', '2019-08', '2019-08-23', '2019-Q3'),\n",
       " ('2019-08-24', '2019', '2019-08', '2019-08-24', '2019-Q3'),\n",
       " ('2019-08-25', '2019', '2019-08', '2019-08-25', '2019-Q3'),\n",
       " ('2019-08-26', '2019', '2019-08', '2019-08-26', '2019-Q3'),\n",
       " ('2019-08-27', '2019', '2019-08', '2019-08-27', '2019-Q3'),\n",
       " ('2019-08-28', '2019', '2019-08', '2019-08-28', '2019-Q3'),\n",
       " ('2019-08-29', '2019', '2019-08', '2019-08-29', '2019-Q3'),\n",
       " ('2019-08-30', '2019', '2019-08', '2019-08-30', '2019-Q3'),\n",
       " ('2019-08-31', '2019', '2019-08', '2019-08-31', '2019-Q3'),\n",
       " ('2019-09-01', '2019', '2019-09', '2019-09-01', '2019-Q3'),\n",
       " ('2019-09-02', '2019', '2019-09', '2019-09-02', '2019-Q3'),\n",
       " ('2019-09-03', '2019', '2019-09', '2019-09-03', '2019-Q3'),\n",
       " ('2019-09-04', '2019', '2019-09', '2019-09-04', '2019-Q3'),\n",
       " ('2019-09-05', '2019', '2019-09', '2019-09-05', '2019-Q3'),\n",
       " ('2019-09-06', '2019', '2019-09', '2019-09-06', '2019-Q3'),\n",
       " ('2019-09-07', '2019', '2019-09', '2019-09-07', '2019-Q3'),\n",
       " ('2019-09-08', '2019', '2019-09', '2019-09-08', '2019-Q3'),\n",
       " ('2019-09-09', '2019', '2019-09', '2019-09-09', '2019-Q3'),\n",
       " ('2019-09-10', '2019', '2019-09', '2019-09-10', '2019-Q3'),\n",
       " ('2019-09-11', '2019', '2019-09', '2019-09-11', '2019-Q3'),\n",
       " ('2019-09-12', '2019', '2019-09', '2019-09-12', '2019-Q3'),\n",
       " ('2019-09-13', '2019', '2019-09', '2019-09-13', '2019-Q3'),\n",
       " ('2019-09-14', '2019', '2019-09', '2019-09-14', '2019-Q3'),\n",
       " ('2019-09-15', '2019', '2019-09', '2019-09-15', '2019-Q3'),\n",
       " ('2019-09-16', '2019', '2019-09', '2019-09-16', '2019-Q3'),\n",
       " ('2019-09-17', '2019', '2019-09', '2019-09-17', '2019-Q3'),\n",
       " ('2019-09-18', '2019', '2019-09', '2019-09-18', '2019-Q3'),\n",
       " ('2019-09-19', '2019', '2019-09', '2019-09-19', '2019-Q3'),\n",
       " ('2019-09-20', '2019', '2019-09', '2019-09-20', '2019-Q3'),\n",
       " ('2019-09-21', '2019', '2019-09', '2019-09-21', '2019-Q3'),\n",
       " ('2019-09-22', '2019', '2019-09', '2019-09-22', '2019-Q3'),\n",
       " ('2019-09-23', '2019', '2019-09', '2019-09-23', '2019-Q3'),\n",
       " ('2019-09-24', '2019', '2019-09', '2019-09-24', '2019-Q3'),\n",
       " ('2019-09-25', '2019', '2019-09', '2019-09-25', '2019-Q3'),\n",
       " ('2019-09-26', '2019', '2019-09', '2019-09-26', '2019-Q3'),\n",
       " ('2019-09-27', '2019', '2019-09', '2019-09-27', '2019-Q3'),\n",
       " ('2019-09-28', '2019', '2019-09', '2019-09-28', '2019-Q3'),\n",
       " ('2019-09-29', '2019', '2019-09', '2019-09-29', '2019-Q3'),\n",
       " ('2019-09-30', '2019', '2019-09', '2019-09-30', '2019-Q3'),\n",
       " ('2019-10-01', '2019', '2019-10', '2019-10-01', '2019-Q4'),\n",
       " ('2019-10-02', '2019', '2019-10', '2019-10-02', '2019-Q4'),\n",
       " ('2019-10-03', '2019', '2019-10', '2019-10-03', '2019-Q4'),\n",
       " ('2019-10-04', '2019', '2019-10', '2019-10-04', '2019-Q4'),\n",
       " ('2019-10-05', '2019', '2019-10', '2019-10-05', '2019-Q4'),\n",
       " ('2019-10-06', '2019', '2019-10', '2019-10-06', '2019-Q4'),\n",
       " ('2019-10-07', '2019', '2019-10', '2019-10-07', '2019-Q4'),\n",
       " ('2019-10-08', '2019', '2019-10', '2019-10-08', '2019-Q4'),\n",
       " ('2019-10-09', '2019', '2019-10', '2019-10-09', '2019-Q4'),\n",
       " ('2019-10-10', '2019', '2019-10', '2019-10-10', '2019-Q4'),\n",
       " ('2019-10-11', '2019', '2019-10', '2019-10-11', '2019-Q4'),\n",
       " ('2019-10-12', '2019', '2019-10', '2019-10-12', '2019-Q4'),\n",
       " ('2019-10-13', '2019', '2019-10', '2019-10-13', '2019-Q4'),\n",
       " ('2019-10-14', '2019', '2019-10', '2019-10-14', '2019-Q4'),\n",
       " ('2019-10-15', '2019', '2019-10', '2019-10-15', '2019-Q4'),\n",
       " ('2019-10-16', '2019', '2019-10', '2019-10-16', '2019-Q4'),\n",
       " ('2019-10-17', '2019', '2019-10', '2019-10-17', '2019-Q4'),\n",
       " ('2019-10-18', '2019', '2019-10', '2019-10-18', '2019-Q4'),\n",
       " ('2019-10-19', '2019', '2019-10', '2019-10-19', '2019-Q4'),\n",
       " ('2019-10-20', '2019', '2019-10', '2019-10-20', '2019-Q4'),\n",
       " ('2019-10-21', '2019', '2019-10', '2019-10-21', '2019-Q4'),\n",
       " ('2019-10-22', '2019', '2019-10', '2019-10-22', '2019-Q4'),\n",
       " ('2019-10-23', '2019', '2019-10', '2019-10-23', '2019-Q4'),\n",
       " ('2019-10-24', '2019', '2019-10', '2019-10-24', '2019-Q4'),\n",
       " ('2019-10-25', '2019', '2019-10', '2019-10-25', '2019-Q4'),\n",
       " ('2019-10-26', '2019', '2019-10', '2019-10-26', '2019-Q4'),\n",
       " ('2019-10-27', '2019', '2019-10', '2019-10-27', '2019-Q4'),\n",
       " ('2019-10-28', '2019', '2019-10', '2019-10-28', '2019-Q4'),\n",
       " ('2019-10-29', '2019', '2019-10', '2019-10-29', '2019-Q4'),\n",
       " ('2019-10-30', '2019', '2019-10', '2019-10-30', '2019-Q4'),\n",
       " ('2019-10-31', '2019', '2019-10', '2019-10-31', '2019-Q4'),\n",
       " ('2019-11-01', '2019', '2019-11', '2019-11-01', '2019-Q4'),\n",
       " ('2019-11-02', '2019', '2019-11', '2019-11-02', '2019-Q4'),\n",
       " ('2019-11-03', '2019', '2019-11', '2019-11-03', '2019-Q4'),\n",
       " ('2019-11-04', '2019', '2019-11', '2019-11-04', '2019-Q4'),\n",
       " ('2019-11-05', '2019', '2019-11', '2019-11-05', '2019-Q4'),\n",
       " ('2019-11-06', '2019', '2019-11', '2019-11-06', '2019-Q4'),\n",
       " ('2019-11-07', '2019', '2019-11', '2019-11-07', '2019-Q4'),\n",
       " ('2019-11-08', '2019', '2019-11', '2019-11-08', '2019-Q4'),\n",
       " ('2019-11-09', '2019', '2019-11', '2019-11-09', '2019-Q4'),\n",
       " ('2019-11-10', '2019', '2019-11', '2019-11-10', '2019-Q4'),\n",
       " ('2019-11-11', '2019', '2019-11', '2019-11-11', '2019-Q4'),\n",
       " ('2019-11-12', '2019', '2019-11', '2019-11-12', '2019-Q4'),\n",
       " ('2019-11-13', '2019', '2019-11', '2019-11-13', '2019-Q4'),\n",
       " ('2019-11-14', '2019', '2019-11', '2019-11-14', '2019-Q4'),\n",
       " ('2019-11-15', '2019', '2019-11', '2019-11-15', '2019-Q4'),\n",
       " ('2019-11-16', '2019', '2019-11', '2019-11-16', '2019-Q4'),\n",
       " ('2019-11-17', '2019', '2019-11', '2019-11-17', '2019-Q4'),\n",
       " ('2019-11-18', '2019', '2019-11', '2019-11-18', '2019-Q4'),\n",
       " ('2019-11-19', '2019', '2019-11', '2019-11-19', '2019-Q4'),\n",
       " ('2019-11-20', '2019', '2019-11', '2019-11-20', '2019-Q4'),\n",
       " ('2019-11-21', '2019', '2019-11', '2019-11-21', '2019-Q4'),\n",
       " ('2019-11-22', '2019', '2019-11', '2019-11-22', '2019-Q4'),\n",
       " ('2019-11-23', '2019', '2019-11', '2019-11-23', '2019-Q4'),\n",
       " ('2019-11-24', '2019', '2019-11', '2019-11-24', '2019-Q4'),\n",
       " ('2019-11-25', '2019', '2019-11', '2019-11-25', '2019-Q4'),\n",
       " ('2019-11-26', '2019', '2019-11', '2019-11-26', '2019-Q4'),\n",
       " ('2019-11-27', '2019', '2019-11', '2019-11-27', '2019-Q4'),\n",
       " ('2019-11-28', '2019', '2019-11', '2019-11-28', '2019-Q4'),\n",
       " ('2019-11-29', '2019', '2019-11', '2019-11-29', '2019-Q4'),\n",
       " ('2019-11-30', '2019', '2019-11', '2019-11-30', '2019-Q4'),\n",
       " ('2019-12-01', '2019', '2019-12', '2019-12-01', '2019-Q4'),\n",
       " ('2019-12-02', '2019', '2019-12', '2019-12-02', '2019-Q4'),\n",
       " ('2019-12-03', '2019', '2019-12', '2019-12-03', '2019-Q4'),\n",
       " ('2019-12-04', '2019', '2019-12', '2019-12-04', '2019-Q4'),\n",
       " ('2019-12-05', '2019', '2019-12', '2019-12-05', '2019-Q4'),\n",
       " ('2019-12-06', '2019', '2019-12', '2019-12-06', '2019-Q4'),\n",
       " ('2019-12-07', '2019', '2019-12', '2019-12-07', '2019-Q4'),\n",
       " ('2019-12-08', '2019', '2019-12', '2019-12-08', '2019-Q4'),\n",
       " ('2019-12-09', '2019', '2019-12', '2019-12-09', '2019-Q4'),\n",
       " ('2019-12-10', '2019', '2019-12', '2019-12-10', '2019-Q4'),\n",
       " ('2019-12-11', '2019', '2019-12', '2019-12-11', '2019-Q4'),\n",
       " ('2019-12-12', '2019', '2019-12', '2019-12-12', '2019-Q4'),\n",
       " ('2019-12-13', '2019', '2019-12', '2019-12-13', '2019-Q4'),\n",
       " ('2019-12-14', '2019', '2019-12', '2019-12-14', '2019-Q4'),\n",
       " ('2019-12-15', '2019', '2019-12', '2019-12-15', '2019-Q4'),\n",
       " ('2019-12-16', '2019', '2019-12', '2019-12-16', '2019-Q4'),\n",
       " ('2019-12-17', '2019', '2019-12', '2019-12-17', '2019-Q4'),\n",
       " ('2019-12-18', '2019', '2019-12', '2019-12-18', '2019-Q4'),\n",
       " ('2019-12-19', '2019', '2019-12', '2019-12-19', '2019-Q4'),\n",
       " ('2019-12-20', '2019', '2019-12', '2019-12-20', '2019-Q4'),\n",
       " ('2019-12-21', '2019', '2019-12', '2019-12-21', '2019-Q4'),\n",
       " ('2019-12-22', '2019', '2019-12', '2019-12-22', '2019-Q4'),\n",
       " ('2019-12-23', '2019', '2019-12', '2019-12-23', '2019-Q4'),\n",
       " ('2019-12-24', '2019', '2019-12', '2019-12-24', '2019-Q4'),\n",
       " ('2019-12-25', '2019', '2019-12', '2019-12-25', '2019-Q4'),\n",
       " ('2019-12-26', '2019', '2019-12', '2019-12-26', '2019-Q4'),\n",
       " ('2019-12-27', '2019', '2019-12', '2019-12-27', '2019-Q4'),\n",
       " ('2019-12-28', '2019', '2019-12', '2019-12-28', '2019-Q4'),\n",
       " ('2019-12-29', '2019', '2019-12', '2019-12-29', '2019-Q4'),\n",
       " ('2019-12-30', '2019', '2019-12', '2019-12-30', '2019-Q4'),\n",
       " ('2019-12-31', '2019', '2019-12', '2019-12-31', '2019-Q4'),\n",
       " ('2020-01-01', '2020', '2020-01', '2020-01-01', '2020-Q1'),\n",
       " ('2020-01-02', '2020', '2020-01', '2020-01-02', '2020-Q1'),\n",
       " ('2020-01-03', '2020', '2020-01', '2020-01-03', '2020-Q1'),\n",
       " ('2020-01-04', '2020', '2020-01', '2020-01-04', '2020-Q1'),\n",
       " ('2020-01-05', '2020', '2020-01', '2020-01-05', '2020-Q1'),\n",
       " ('2020-01-06', '2020', '2020-01', '2020-01-06', '2020-Q1'),\n",
       " ('2020-01-07', '2020', '2020-01', '2020-01-07', '2020-Q1'),\n",
       " ('2020-01-08', '2020', '2020-01', '2020-01-08', '2020-Q1'),\n",
       " ('2020-01-09', '2020', '2020-01', '2020-01-09', '2020-Q1'),\n",
       " ('2020-01-10', '2020', '2020-01', '2020-01-10', '2020-Q1'),\n",
       " ('2020-01-11', '2020', '2020-01', '2020-01-11', '2020-Q1'),\n",
       " ('2020-01-12', '2020', '2020-01', '2020-01-12', '2020-Q1'),\n",
       " ('2020-01-13', '2020', '2020-01', '2020-01-13', '2020-Q1'),\n",
       " ('2020-01-14', '2020', '2020-01', '2020-01-14', '2020-Q1'),\n",
       " ('2020-01-15', '2020', '2020-01', '2020-01-15', '2020-Q1'),\n",
       " ('2020-01-16', '2020', '2020-01', '2020-01-16', '2020-Q1'),\n",
       " ('2020-01-17', '2020', '2020-01', '2020-01-17', '2020-Q1'),\n",
       " ('2020-01-18', '2020', '2020-01', '2020-01-18', '2020-Q1'),\n",
       " ('2020-01-19', '2020', '2020-01', '2020-01-19', '2020-Q1'),\n",
       " ('2020-01-20', '2020', '2020-01', '2020-01-20', '2020-Q1'),\n",
       " ('2020-01-21', '2020', '2020-01', '2020-01-21', '2020-Q1'),\n",
       " ('2020-01-22', '2020', '2020-01', '2020-01-22', '2020-Q1'),\n",
       " ('2020-01-23', '2020', '2020-01', '2020-01-23', '2020-Q1'),\n",
       " ('2020-01-24', '2020', '2020-01', '2020-01-24', '2020-Q1'),\n",
       " ('2020-01-25', '2020', '2020-01', '2020-01-25', '2020-Q1'),\n",
       " ('2020-01-26', '2020', '2020-01', '2020-01-26', '2020-Q1'),\n",
       " ('2020-01-27', '2020', '2020-01', '2020-01-27', '2020-Q1'),\n",
       " ('2020-01-28', '2020', '2020-01', '2020-01-28', '2020-Q1'),\n",
       " ('2020-01-29', '2020', '2020-01', '2020-01-29', '2020-Q1'),\n",
       " ('2020-01-30', '2020', '2020-01', '2020-01-30', '2020-Q1'),\n",
       " ('2020-01-31', '2020', '2020-01', '2020-01-31', '2020-Q1'),\n",
       " ('2020-02-01', '2020', '2020-02', '2020-02-01', '2020-Q1'),\n",
       " ('2020-02-02', '2020', '2020-02', '2020-02-02', '2020-Q1'),\n",
       " ('2020-02-03', '2020', '2020-02', '2020-02-03', '2020-Q1'),\n",
       " ('2020-02-04', '2020', '2020-02', '2020-02-04', '2020-Q1'),\n",
       " ('2020-02-05', '2020', '2020-02', '2020-02-05', '2020-Q1'),\n",
       " ('2020-02-06', '2020', '2020-02', '2020-02-06', '2020-Q1'),\n",
       " ('2020-02-07', '2020', '2020-02', '2020-02-07', '2020-Q1'),\n",
       " ('2020-02-08', '2020', '2020-02', '2020-02-08', '2020-Q1'),\n",
       " ('2020-02-09', '2020', '2020-02', '2020-02-09', '2020-Q1'),\n",
       " ('2020-02-10', '2020', '2020-02', '2020-02-10', '2020-Q1'),\n",
       " ('2020-02-11', '2020', '2020-02', '2020-02-11', '2020-Q1'),\n",
       " ('2020-02-12', '2020', '2020-02', '2020-02-12', '2020-Q1'),\n",
       " ('2020-02-13', '2020', '2020-02', '2020-02-13', '2020-Q1'),\n",
       " ('2020-02-14', '2020', '2020-02', '2020-02-14', '2020-Q1'),\n",
       " ('2020-02-15', '2020', '2020-02', '2020-02-15', '2020-Q1'),\n",
       " ('2020-02-16', '2020', '2020-02', '2020-02-16', '2020-Q1'),\n",
       " ('2020-02-17', '2020', '2020-02', '2020-02-17', '2020-Q1'),\n",
       " ('2020-02-18', '2020', '2020-02', '2020-02-18', '2020-Q1'),\n",
       " ('2020-02-19', '2020', '2020-02', '2020-02-19', '2020-Q1'),\n",
       " ('2020-02-20', '2020', '2020-02', '2020-02-20', '2020-Q1'),\n",
       " ('2020-02-21', '2020', '2020-02', '2020-02-21', '2020-Q1'),\n",
       " ('2020-02-22', '2020', '2020-02', '2020-02-22', '2020-Q1'),\n",
       " ('2020-02-23', '2020', '2020-02', '2020-02-23', '2020-Q1'),\n",
       " ('2020-02-24', '2020', '2020-02', '2020-02-24', '2020-Q1'),\n",
       " ('2020-02-25', '2020', '2020-02', '2020-02-25', '2020-Q1'),\n",
       " ('2020-02-26', '2020', '2020-02', '2020-02-26', '2020-Q1'),\n",
       " ('2020-02-27', '2020', '2020-02', '2020-02-27', '2020-Q1'),\n",
       " ('2020-02-28', '2020', '2020-02', '2020-02-28', '2020-Q1'),\n",
       " ('2020-02-29', '2020', '2020-02', '2020-02-29', '2020-Q1'),\n",
       " ('2020-03-01', '2020', '2020-03', '2020-03-01', '2020-Q1'),\n",
       " ('2020-03-02', '2020', '2020-03', '2020-03-02', '2020-Q1'),\n",
       " ('2020-03-03', '2020', '2020-03', '2020-03-03', '2020-Q1'),\n",
       " ('2020-03-04', '2020', '2020-03', '2020-03-04', '2020-Q1'),\n",
       " ('2020-03-05', '2020', '2020-03', '2020-03-05', '2020-Q1'),\n",
       " ('2020-03-06', '2020', '2020-03', '2020-03-06', '2020-Q1'),\n",
       " ('2020-03-07', '2020', '2020-03', '2020-03-07', '2020-Q1'),\n",
       " ('2020-03-08', '2020', '2020-03', '2020-03-08', '2020-Q1'),\n",
       " ('2020-03-09', '2020', '2020-03', '2020-03-09', '2020-Q1'),\n",
       " ('2020-03-10', '2020', '2020-03', '2020-03-10', '2020-Q1'),\n",
       " ('2020-03-11', '2020', '2020-03', '2020-03-11', '2020-Q1'),\n",
       " ('2020-03-12', '2020', '2020-03', '2020-03-12', '2020-Q1'),\n",
       " ('2020-03-13', '2020', '2020-03', '2020-03-13', '2020-Q1'),\n",
       " ('2020-03-14', '2020', '2020-03', '2020-03-14', '2020-Q1'),\n",
       " ('2020-03-15', '2020', '2020-03', '2020-03-15', '2020-Q1'),\n",
       " ('2020-03-16', '2020', '2020-03', '2020-03-16', '2020-Q1'),\n",
       " ('2020-03-17', '2020', '2020-03', '2020-03-17', '2020-Q1'),\n",
       " ('2020-03-18', '2020', '2020-03', '2020-03-18', '2020-Q1'),\n",
       " ('2020-03-19', '2020', '2020-03', '2020-03-19', '2020-Q1'),\n",
       " ('2020-03-20', '2020', '2020-03', '2020-03-20', '2020-Q1'),\n",
       " ('2020-03-21', '2020', '2020-03', '2020-03-21', '2020-Q1'),\n",
       " ('2020-03-22', '2020', '2020-03', '2020-03-22', '2020-Q1'),\n",
       " ('2020-03-23', '2020', '2020-03', '2020-03-23', '2020-Q1'),\n",
       " ('2020-03-24', '2020', '2020-03', '2020-03-24', '2020-Q1'),\n",
       " ('2020-03-25', '2020', '2020-03', '2020-03-25', '2020-Q1'),\n",
       " ('2020-03-26', '2020', '2020-03', '2020-03-26', '2020-Q1'),\n",
       " ('2020-03-27', '2020', '2020-03', '2020-03-27', '2020-Q1'),\n",
       " ('2020-03-28', '2020', '2020-03', '2020-03-28', '2020-Q1'),\n",
       " ('2020-03-29', '2020', '2020-03', '2020-03-29', '2020-Q1'),\n",
       " ('2020-03-30', '2020', '2020-03', '2020-03-30', '2020-Q1'),\n",
       " ('2020-03-31', '2020', '2020-03', '2020-03-31', '2020-Q1'),\n",
       " ('2020-04-01', '2020', '2020-04', '2020-04-01', '2020-Q2'),\n",
       " ('2020-04-02', '2020', '2020-04', '2020-04-02', '2020-Q2'),\n",
       " ('2020-04-03', '2020', '2020-04', '2020-04-03', '2020-Q2'),\n",
       " ('2020-04-04', '2020', '2020-04', '2020-04-04', '2020-Q2'),\n",
       " ('2020-04-05', '2020', '2020-04', '2020-04-05', '2020-Q2'),\n",
       " ('2020-04-06', '2020', '2020-04', '2020-04-06', '2020-Q2'),\n",
       " ('2020-04-07', '2020', '2020-04', '2020-04-07', '2020-Q2'),\n",
       " ('2020-04-08', '2020', '2020-04', '2020-04-08', '2020-Q2'),\n",
       " ('2020-04-09', '2020', '2020-04', '2020-04-09', '2020-Q2'),\n",
       " ('2020-04-10', '2020', '2020-04', '2020-04-10', '2020-Q2'),\n",
       " ('2020-04-11', '2020', '2020-04', '2020-04-11', '2020-Q2'),\n",
       " ('2020-04-12', '2020', '2020-04', '2020-04-12', '2020-Q2'),\n",
       " ('2020-04-13', '2020', '2020-04', '2020-04-13', '2020-Q2'),\n",
       " ('2020-04-14', '2020', '2020-04', '2020-04-14', '2020-Q2'),\n",
       " ('2020-04-15', '2020', '2020-04', '2020-04-15', '2020-Q2'),\n",
       " ('2020-04-16', '2020', '2020-04', '2020-04-16', '2020-Q2'),\n",
       " ('2020-04-17', '2020', '2020-04', '2020-04-17', '2020-Q2'),\n",
       " ('2020-04-18', '2020', '2020-04', '2020-04-18', '2020-Q2'),\n",
       " ('2020-04-19', '2020', '2020-04', '2020-04-19', '2020-Q2'),\n",
       " ('2020-04-20', '2020', '2020-04', '2020-04-20', '2020-Q2'),\n",
       " ('2020-04-21', '2020', '2020-04', '2020-04-21', '2020-Q2'),\n",
       " ('2020-04-22', '2020', '2020-04', '2020-04-22', '2020-Q2'),\n",
       " ('2020-04-23', '2020', '2020-04', '2020-04-23', '2020-Q2'),\n",
       " ('2020-04-24', '2020', '2020-04', '2020-04-24', '2020-Q2'),\n",
       " ('2020-04-25', '2020', '2020-04', '2020-04-25', '2020-Q2'),\n",
       " ('2020-04-26', '2020', '2020-04', '2020-04-26', '2020-Q2'),\n",
       " ('2020-04-27', '2020', '2020-04', '2020-04-27', '2020-Q2'),\n",
       " ('2020-04-28', '2020', '2020-04', '2020-04-28', '2020-Q2'),\n",
       " ('2020-04-29', '2020', '2020-04', '2020-04-29', '2020-Q2')]"
      ]
     },
     "execution_count": 62,
     "metadata": {},
     "output_type": "execute_result"
    }
   ],
   "source": [
    "date_table"
   ]
  },
  {
   "cell_type": "code",
   "execution_count": 63,
   "id": "a72bc5f5",
   "metadata": {
    "scrolled": true
   },
   "outputs": [
    {
     "data": {
      "text/plain": [
       "596"
      ]
     },
     "execution_count": 63,
     "metadata": {},
     "output_type": "execute_result"
    }
   ],
   "source": [
    "len(data_date)"
   ]
  },
  {
   "cell_type": "code",
   "execution_count": 64,
   "id": "73e22b12",
   "metadata": {},
   "outputs": [
    {
     "data": {
      "text/plain": [
       "596"
      ]
     },
     "execution_count": 64,
     "metadata": {},
     "output_type": "execute_result"
    }
   ],
   "source": [
    "len(list(set(zip(date_without_header, year, month, day, quarter))))"
   ]
  },
  {
   "cell_type": "code",
   "execution_count": 65,
   "id": "f7ed3b86",
   "metadata": {},
   "outputs": [
    {
     "data": {
      "text/plain": [
       "13631"
      ]
     },
     "execution_count": 65,
     "metadata": {},
     "output_type": "execute_result"
    }
   ],
   "source": [
    "#date of birth and user Id together\n",
    "len(set(gen_table(dict_columns, 'DateOfBirth', 'UserId')))"
   ]
  },
  {
   "cell_type": "markdown",
   "id": "6375281c",
   "metadata": {},
   "source": [
    "### Saving to CSV"
   ]
  },
  {
   "cell_type": "code",
   "execution_count": 66,
   "id": "37f6fd35",
   "metadata": {},
   "outputs": [],
   "source": [
    "date_table = set_primary_key(date_table, 'DateId')\n",
    "create_csv('Date.csv', date_table)"
   ]
  },
  {
   "cell_type": "markdown",
   "id": "bcecef93",
   "metadata": {},
   "source": [
    "## Organization (quick)"
   ]
  },
  {
   "cell_type": "code",
   "execution_count": 67,
   "id": "320fefab",
   "metadata": {},
   "outputs": [
    {
     "data": {
      "text/plain": [
       "dict_keys(['QuestionId', 'UserId', 'AnswerId', 'CorrectAnswer', 'AnswerValue', 'Gender', 'DateOfBirth', 'PremiumPupil', 'DateAnswered', 'Confidence', 'GroupId', 'QuizId', 'SchemeOfWorkId', 'SubjectId', 'RegionId', 'Region', 'CountryCode', 'Continents', 'CountryName', 'IsCorrect', 'Description'])"
      ]
     },
     "execution_count": 67,
     "metadata": {},
     "output_type": "execute_result"
    }
   ],
   "source": [
    "dict_columns.keys()"
   ]
  },
  {
   "cell_type": "code",
   "execution_count": 68,
   "id": "439bf75c",
   "metadata": {},
   "outputs": [],
   "source": [
    "organization_table = gen_table_distinct(dict_columns, 'GroupId', 'QuizId', 'SchemeOfWorkId')\n",
    "organization_table = set_primary_key(organization_table, 'OrganizationId')\n",
    "create_csv('Organization.csv', organization_table)"
   ]
  },
  {
   "cell_type": "code",
   "execution_count": 69,
   "id": "eb5952dc",
   "metadata": {},
   "outputs": [
    {
     "data": {
      "text/plain": [
       "24641"
      ]
     },
     "execution_count": 69,
     "metadata": {},
     "output_type": "execute_result"
    }
   ],
   "source": [
    "len(organization_table)"
   ]
  },
  {
   "cell_type": "markdown",
   "id": "910f1fe6",
   "metadata": {},
   "source": [
    "## User (Merging Tables)"
   ]
  },
  {
   "cell_type": "code",
   "execution_count": 70,
   "id": "1130c55e",
   "metadata": {},
   "outputs": [
    {
     "data": {
      "text/plain": [
       "77"
      ]
     },
     "execution_count": 70,
     "metadata": {},
     "output_type": "execute_result"
    }
   ],
   "source": [
    "len(geography_table)"
   ]
  },
  {
   "cell_type": "code",
   "execution_count": 71,
   "id": "994ce707",
   "metadata": {
    "scrolled": true
   },
   "outputs": [
    {
     "data": {
      "text/plain": [
       "413"
      ]
     },
     "execution_count": 71,
     "metadata": {},
     "output_type": "execute_result"
    }
   ],
   "source": [
    "len(subject_table)"
   ]
  },
  {
   "cell_type": "code",
   "execution_count": 72,
   "id": "7914d96f",
   "metadata": {},
   "outputs": [
    {
     "data": {
      "text/plain": [
       "597"
      ]
     },
     "execution_count": 72,
     "metadata": {},
     "output_type": "execute_result"
    }
   ],
   "source": [
    "len(date_table)"
   ]
  },
  {
   "cell_type": "code",
   "execution_count": 73,
   "id": "7cf62203",
   "metadata": {
    "scrolled": true
   },
   "outputs": [
    {
     "data": {
      "text/plain": [
       "24641"
      ]
     },
     "execution_count": 73,
     "metadata": {},
     "output_type": "execute_result"
    }
   ],
   "source": [
    "len(organization_table)"
   ]
  },
  {
   "cell_type": "code",
   "execution_count": 74,
   "id": "100a80cb",
   "metadata": {},
   "outputs": [
    {
     "data": {
      "text/plain": [
       "dict_keys(['QuestionId', 'UserId', 'AnswerId', 'CorrectAnswer', 'AnswerValue', 'Gender', 'DateOfBirth', 'PremiumPupil', 'DateAnswered', 'Confidence', 'GroupId', 'QuizId', 'SchemeOfWorkId', 'SubjectId', 'RegionId', 'Region', 'CountryCode', 'Continents', 'CountryName', 'IsCorrect', 'Description'])"
      ]
     },
     "execution_count": 74,
     "metadata": {},
     "output_type": "execute_result"
    }
   ],
   "source": [
    "dict_columns.keys()"
   ]
  },
  {
   "cell_type": "markdown",
   "id": "15b00c52",
   "metadata": {},
   "source": [
    "### Mapping Function\n",
    "Used to map the primary keys created where the corresponding values appears in other tables"
   ]
  },
  {
   "cell_type": "code",
   "execution_count": 75,
   "id": "b3192574",
   "metadata": {},
   "outputs": [],
   "source": [
    "#function to map from a specific table's column mapping sources a destination column\n",
    "#input are: \n",
    "#            the table considered, the column to map and\n",
    "#            multiple parameters indicating the single columns to map on\n",
    "\n",
    "\n",
    "#converting the feature to map on by joining the columns into a single string per row\n",
    "def join_multi_columns(*list_of_lists):\n",
    "    #if it is a single column it returns it without alteration, otherwise it joins them with a dash in between\n",
    "    return ['-'.join(list(el)) if type(el) != str else el for el in zip(*list_of_lists)]\n",
    "\n",
    "def map_values(table, destination_column, *col_mapping_sources):\n",
    "    \n",
    "    #get the header of the table in order to have the corresponding indexes\n",
    "    header_index = header_idx(table[0])\n",
    "    #getting the list of indexes inserted in the \n",
    "    idx_source_columns = [header_index[col] for col in col_mapping_sources]\n",
    "    \n",
    "    list_id = [x[0] for x in table[1:]] #getting the ids (conveniently always at the first position)\n",
    "    \n",
    "    #getting the stuff to merge on (it must have corresponding values in the destination column)\n",
    "    #I used the extract col function which is just a loop that extract a column according to a index\n",
    "    #Then I loop across all the indexes to consider (retrieved by the parameters in col_mapping_sources)\n",
    "    list_feat_origin = [extract_col(table[1:], idx) for idx in idx_source_columns]\n",
    "    #If multiple col_mapping_sources: -> list_feat_origin is a list of lists\n",
    "    \n",
    "    #joining the features considered into a single one\n",
    "    #the same thing should be applied on multiple destination_column (only one input is accepted here though)\n",
    "    list_feat = join_multi_columns(*list_feat_origin)\n",
    "    \n",
    "    #creating the dictionary with the structure value_to_map:primary_key\n",
    "    id_dict = {feat : idx for idx, feat in zip(list_id, list_feat)}\n",
    "    \n",
    "    try:\n",
    "        #mapped column result\n",
    "        mapped_col = list(map(lambda x: id_dict[x], destination_column))\n",
    "    except:\n",
    "        #if an error is raised, probably there is no correspondence between the col_mapping_sources and destination\n",
    "        raise Exception('The columns to map must have exact correspondence to the destination column')\n",
    "    \n",
    "    return mapped_col"
   ]
  },
  {
   "cell_type": "markdown",
   "id": "2a067ef9",
   "metadata": {},
   "source": [
    "### GeoId"
   ]
  },
  {
   "cell_type": "code",
   "execution_count": 76,
   "id": "9644b01f",
   "metadata": {},
   "outputs": [
    {
     "data": {
      "text/plain": [
       "('GeoId', 'Region', 'CountryCode', 'CountryName', 'Continents')"
      ]
     },
     "execution_count": 76,
     "metadata": {},
     "output_type": "execute_result"
    }
   ],
   "source": [
    "geography_table[0]"
   ]
  },
  {
   "cell_type": "code",
   "execution_count": 77,
   "id": "2e75476a",
   "metadata": {},
   "outputs": [],
   "source": [
    "geoid = map_values(geography_table, dict_columns['Region'], 'Region')"
   ]
  },
  {
   "cell_type": "code",
   "execution_count": 78,
   "id": "2d5a1205",
   "metadata": {},
   "outputs": [
    {
     "data": {
      "text/plain": [
       "76"
      ]
     },
     "execution_count": 78,
     "metadata": {},
     "output_type": "execute_result"
    }
   ],
   "source": [
    "len(set(geoid))"
   ]
  },
  {
   "cell_type": "code",
   "execution_count": 79,
   "id": "9d08f301",
   "metadata": {},
   "outputs": [
    {
     "data": {
      "text/plain": [
       "538835"
      ]
     },
     "execution_count": 79,
     "metadata": {},
     "output_type": "execute_result"
    }
   ],
   "source": [
    "len(geoid)"
   ]
  },
  {
   "cell_type": "markdown",
   "id": "388d40c0",
   "metadata": {},
   "source": [
    "### DateId"
   ]
  },
  {
   "cell_type": "code",
   "execution_count": 80,
   "id": "15b75e89",
   "metadata": {},
   "outputs": [
    {
     "data": {
      "text/plain": [
       "13630"
      ]
     },
     "execution_count": 80,
     "metadata": {},
     "output_type": "execute_result"
    }
   ],
   "source": [
    "len(set(dict_columns['UserId']))"
   ]
  },
  {
   "cell_type": "code",
   "execution_count": 81,
   "id": "77237255",
   "metadata": {},
   "outputs": [
    {
     "data": {
      "text/plain": [
       "538835"
      ]
     },
     "execution_count": 81,
     "metadata": {},
     "output_type": "execute_result"
    }
   ],
   "source": [
    "len(dict_columns['DateOfBirth'])"
   ]
  },
  {
   "cell_type": "code",
   "execution_count": 82,
   "id": "81ea23c3",
   "metadata": {},
   "outputs": [
    {
     "data": {
      "text/plain": [
       "538835"
      ]
     },
     "execution_count": 82,
     "metadata": {},
     "output_type": "execute_result"
    }
   ],
   "source": [
    "len(date_cleaned) #date answered"
   ]
  },
  {
   "cell_type": "markdown",
   "id": "739213fb",
   "metadata": {},
   "source": [
    "### Mapping on DateOfBirth"
   ]
  },
  {
   "cell_type": "code",
   "execution_count": 83,
   "id": "17cbc74e",
   "metadata": {},
   "outputs": [],
   "source": [
    "dateid_birth = map_values(date_table, dict_columns['DateOfBirth'], 'Dates')"
   ]
  },
  {
   "cell_type": "code",
   "execution_count": 84,
   "id": "5b856a9f",
   "metadata": {
    "scrolled": true
   },
   "outputs": [
    {
     "data": {
      "text/plain": [
       "538835"
      ]
     },
     "execution_count": 84,
     "metadata": {},
     "output_type": "execute_result"
    }
   ],
   "source": [
    "len(dateid_birth)"
   ]
  },
  {
   "cell_type": "code",
   "execution_count": 85,
   "id": "13eda09a",
   "metadata": {},
   "outputs": [
    {
     "data": {
      "text/plain": [
       "597"
      ]
     },
     "execution_count": 85,
     "metadata": {},
     "output_type": "execute_result"
    }
   ],
   "source": [
    "len(date_table)"
   ]
  },
  {
   "cell_type": "code",
   "execution_count": 86,
   "id": "84121654",
   "metadata": {},
   "outputs": [
    {
     "data": {
      "text/plain": [
       "139"
      ]
     },
     "execution_count": 86,
     "metadata": {},
     "output_type": "execute_result"
    }
   ],
   "source": [
    "len(set(dateid_birth))"
   ]
  },
  {
   "cell_type": "markdown",
   "id": "5a467de5",
   "metadata": {},
   "source": [
    "### Mapping on DateAnswered"
   ]
  },
  {
   "cell_type": "code",
   "execution_count": 87,
   "id": "52664f1b",
   "metadata": {},
   "outputs": [],
   "source": [
    "dateid_answered = map_values(date_table, date_cleaned, 'Dates')"
   ]
  },
  {
   "cell_type": "code",
   "execution_count": 88,
   "id": "44fd2fe2",
   "metadata": {
    "scrolled": true
   },
   "outputs": [
    {
     "data": {
      "text/plain": [
       "538835"
      ]
     },
     "execution_count": 88,
     "metadata": {},
     "output_type": "execute_result"
    }
   ],
   "source": [
    "len(dateid_answered)"
   ]
  },
  {
   "cell_type": "code",
   "execution_count": 89,
   "id": "cf1635c8",
   "metadata": {},
   "outputs": [
    {
     "data": {
      "text/plain": [
       "597"
      ]
     },
     "execution_count": 89,
     "metadata": {},
     "output_type": "execute_result"
    }
   ],
   "source": [
    "len(date_table)"
   ]
  },
  {
   "cell_type": "code",
   "execution_count": 90,
   "id": "99a86b6a",
   "metadata": {},
   "outputs": [
    {
     "data": {
      "text/plain": [
       "457"
      ]
     },
     "execution_count": 90,
     "metadata": {},
     "output_type": "execute_result"
    }
   ],
   "source": [
    "len(set(dateid_answered))"
   ]
  },
  {
   "cell_type": "markdown",
   "id": "78d3f4e2",
   "metadata": {},
   "source": [
    "### Getting UserId Table\n",
    "\n",
    "Non torna il numero di user"
   ]
  },
  {
   "cell_type": "code",
   "execution_count": 91,
   "id": "cfc10a20",
   "metadata": {},
   "outputs": [],
   "source": [
    "user_header = ('UserId', 'DateId', 'GeoId', 'Gender')\n",
    "user_table_zip = list(zip(dict_columns['UserId'], dateid_birth, geoid, dict_columns['Gender']))\n",
    "user_table_full = [user_header] + user_table_zip\n",
    "\n",
    "#making the zip a set to remove duplicates, then again a list to sort it and add the header\n",
    "user_table_distinct = [user_header] + sorted(list(set(user_table_zip)))"
   ]
  },
  {
   "cell_type": "code",
   "execution_count": 92,
   "id": "e8cabbc1",
   "metadata": {},
   "outputs": [
    {
     "data": {
      "text/plain": [
       "538836"
      ]
     },
     "execution_count": 92,
     "metadata": {},
     "output_type": "execute_result"
    }
   ],
   "source": [
    "len(user_table_full)"
   ]
  },
  {
   "cell_type": "code",
   "execution_count": 93,
   "id": "ee467b2a",
   "metadata": {},
   "outputs": [
    {
     "data": {
      "text/plain": [
       "13631"
      ]
     },
     "execution_count": 93,
     "metadata": {},
     "output_type": "execute_result"
    }
   ],
   "source": [
    "len(user_table_distinct)"
   ]
  },
  {
   "cell_type": "code",
   "execution_count": 94,
   "id": "12ae3b1d",
   "metadata": {},
   "outputs": [
    {
     "data": {
      "text/plain": [
       "13630"
      ]
     },
     "execution_count": 94,
     "metadata": {},
     "output_type": "execute_result"
    }
   ],
   "source": [
    "len(set(dict_columns['UserId']))"
   ]
  },
  {
   "cell_type": "code",
   "execution_count": 95,
   "id": "39fe3d8c",
   "metadata": {},
   "outputs": [
    {
     "data": {
      "text/plain": [
       "13630"
      ]
     },
     "execution_count": 95,
     "metadata": {},
     "output_type": "execute_result"
    }
   ],
   "source": [
    "len(list(set(zip(dict_columns['UserId'], dateid_birth, dict_columns['Gender']))))"
   ]
  },
  {
   "cell_type": "code",
   "execution_count": 96,
   "id": "66539dee",
   "metadata": {},
   "outputs": [],
   "source": [
    "user_table = user_table_distinct\n",
    "create_csv('User.csv', user_table)"
   ]
  },
  {
   "cell_type": "code",
   "execution_count": 97,
   "id": "16043b32",
   "metadata": {},
   "outputs": [
    {
     "data": {
      "text/plain": [
       "13631"
      ]
     },
     "execution_count": 97,
     "metadata": {},
     "output_type": "execute_result"
    }
   ],
   "source": [
    "len(user_table)"
   ]
  },
  {
   "cell_type": "code",
   "execution_count": 98,
   "id": "a142d462",
   "metadata": {
    "scrolled": false
   },
   "outputs": [
    {
     "data": {
      "text/plain": [
       "[('UserId', 'DateId', 'GeoId', 'Gender'),\n",
       " ('1', '53', '14', '2'),\n",
       " ('100006', '28', '31', '2'),\n",
       " ('100010', '44', '51', '1'),\n",
       " ('10002', '31', '13', '1'),\n",
       " ('100040', '28', '36', '1'),\n",
       " ('100042', '67', '23', '2'),\n",
       " ('100059', '57', '12', '1'),\n",
       " ('100065', '29', '9', '1'),\n",
       " ('100071', '32', '33', '1')]"
      ]
     },
     "execution_count": 98,
     "metadata": {},
     "output_type": "execute_result"
    }
   ],
   "source": [
    "user_table[:10]"
   ]
  },
  {
   "cell_type": "markdown",
   "id": "8890b094",
   "metadata": {},
   "source": [
    "## Writing the Fact Table"
   ]
  },
  {
   "cell_type": "code",
   "execution_count": 99,
   "id": "6678906c",
   "metadata": {},
   "outputs": [
    {
     "data": {
      "text/plain": [
       "[('UserId', 'DateId', 'GeoId', 'Gender'), ('1', '53', '14', '2')]"
      ]
     },
     "execution_count": 99,
     "metadata": {},
     "output_type": "execute_result"
    }
   ],
   "source": [
    "user_table[:2]"
   ]
  },
  {
   "cell_type": "code",
   "execution_count": 100,
   "id": "46ce9bfe",
   "metadata": {},
   "outputs": [
    {
     "data": {
      "text/plain": [
       "[('GeoId', 'Region', 'CountryCode', 'CountryName', 'Continents'),\n",
       " ('1', 'andalucia', 'es', 'Spain', 'Europe')]"
      ]
     },
     "execution_count": 100,
     "metadata": {},
     "output_type": "execute_result"
    }
   ],
   "source": [
    "geography_table[:2]"
   ]
  },
  {
   "cell_type": "code",
   "execution_count": 101,
   "id": "5fdb2512",
   "metadata": {},
   "outputs": [
    {
     "data": {
      "text/plain": [
       "[('OrganizationId', 'GroupId', 'QuizId', 'SchemeOfWorkId'),\n",
       " ('1', '10019', '1127', '8386.0')]"
      ]
     },
     "execution_count": 101,
     "metadata": {},
     "output_type": "execute_result"
    }
   ],
   "source": [
    "organization_table[:2]"
   ]
  },
  {
   "cell_type": "code",
   "execution_count": 102,
   "id": "c2271a89",
   "metadata": {},
   "outputs": [
    {
     "data": {
      "text/plain": [
       "[('SubjectId', 'Description'),\n",
       " ('1',\n",
       "  '\"Maths (3) - Advanced Pure (119) - Functions (146) - Composite Functions (437)\"')]"
      ]
     },
     "execution_count": 102,
     "metadata": {},
     "output_type": "execute_result"
    }
   ],
   "source": [
    "subject_table[:2]"
   ]
  },
  {
   "cell_type": "code",
   "execution_count": 103,
   "id": "ca4c40ba",
   "metadata": {},
   "outputs": [
    {
     "data": {
      "text/plain": [
       "[('DateId', 'Dates', 'Year', 'Month', 'Day', 'Quarter'),\n",
       " ('1', '2000-11-01', '2000', '2000-11', '2000-11-01', '2000-Q4')]"
      ]
     },
     "execution_count": 103,
     "metadata": {},
     "output_type": "execute_result"
    }
   ],
   "source": [
    "date_table[:2]"
   ]
  },
  {
   "cell_type": "code",
   "execution_count": 104,
   "id": "d0ee43e7",
   "metadata": {},
   "outputs": [
    {
     "data": {
      "text/plain": [
       "dict_keys(['QuestionId', 'UserId', 'AnswerId', 'CorrectAnswer', 'AnswerValue', 'Gender', 'DateOfBirth', 'PremiumPupil', 'DateAnswered', 'Confidence', 'GroupId', 'QuizId', 'SchemeOfWorkId', 'SubjectId', 'RegionId', 'Region', 'CountryCode', 'Continents', 'CountryName', 'IsCorrect', 'Description'])"
      ]
     },
     "execution_count": 104,
     "metadata": {},
     "output_type": "execute_result"
    }
   ],
   "source": [
    "dict_columns.keys()"
   ]
  },
  {
   "cell_type": "markdown",
   "id": "b2f7bb7c",
   "metadata": {},
   "source": [
    "### Map organization Id"
   ]
  },
  {
   "cell_type": "code",
   "execution_count": 105,
   "id": "f24fa91b",
   "metadata": {},
   "outputs": [
    {
     "data": {
      "text/plain": [
       "[('OrganizationId', 'GroupId', 'QuizId', 'SchemeOfWorkId'),\n",
       " ('1', '10019', '1127', '8386.0')]"
      ]
     },
     "execution_count": 105,
     "metadata": {},
     "output_type": "execute_result"
    }
   ],
   "source": [
    "organization_table[:2]"
   ]
  },
  {
   "cell_type": "code",
   "execution_count": 106,
   "id": "2131515f",
   "metadata": {},
   "outputs": [],
   "source": [
    "organization_feat = [dict_columns['GroupId'], \n",
    "                     dict_columns['QuizId'], \n",
    "                     dict_columns['SchemeOfWorkId']]\n",
    "\n",
    "org_to_join_on = join_multi_columns(*organization_feat)"
   ]
  },
  {
   "cell_type": "code",
   "execution_count": 107,
   "id": "5e673c7c",
   "metadata": {},
   "outputs": [],
   "source": [
    "organizationid = map_values(organization_table, org_to_join_on, 'GroupId', 'QuizId', 'SchemeOfWorkId')"
   ]
  },
  {
   "cell_type": "code",
   "execution_count": 108,
   "id": "89d86b5c",
   "metadata": {},
   "outputs": [
    {
     "data": {
      "text/plain": [
       "538835"
      ]
     },
     "execution_count": 108,
     "metadata": {},
     "output_type": "execute_result"
    }
   ],
   "source": [
    "len(organizationid)"
   ]
  },
  {
   "cell_type": "markdown",
   "id": "0cbd8bf8",
   "metadata": {},
   "source": [
    "### Map SubjectId"
   ]
  },
  {
   "cell_type": "code",
   "execution_count": 109,
   "id": "65697400",
   "metadata": {},
   "outputs": [
    {
     "data": {
      "text/plain": [
       "413"
      ]
     },
     "execution_count": 109,
     "metadata": {},
     "output_type": "execute_result"
    }
   ],
   "source": [
    "len(subject_table)"
   ]
  },
  {
   "cell_type": "code",
   "execution_count": 110,
   "id": "d37f450a",
   "metadata": {},
   "outputs": [
    {
     "data": {
      "text/plain": [
       "dict_keys(['QuestionId', 'UserId', 'AnswerId', 'CorrectAnswer', 'AnswerValue', 'Gender', 'DateOfBirth', 'PremiumPupil', 'DateAnswered', 'Confidence', 'GroupId', 'QuizId', 'SchemeOfWorkId', 'SubjectId', 'RegionId', 'Region', 'CountryCode', 'Continents', 'CountryName', 'IsCorrect', 'Description'])"
      ]
     },
     "execution_count": 110,
     "metadata": {},
     "output_type": "execute_result"
    }
   ],
   "source": [
    "dict_columns.keys()"
   ]
  },
  {
   "cell_type": "code",
   "execution_count": 111,
   "id": "2a81b0f6",
   "metadata": {},
   "outputs": [],
   "source": [
    "subjectid = map_values(subject_table, dict_columns['Description'], 'Description')"
   ]
  },
  {
   "cell_type": "code",
   "execution_count": 112,
   "id": "10802c95",
   "metadata": {},
   "outputs": [
    {
     "data": {
      "text/plain": [
       "538835"
      ]
     },
     "execution_count": 112,
     "metadata": {},
     "output_type": "execute_result"
    }
   ],
   "source": [
    "len(subjectid)"
   ]
  },
  {
   "cell_type": "markdown",
   "id": "d5045a2b",
   "metadata": {},
   "source": [
    "### Add columns to a table"
   ]
  },
  {
   "cell_type": "code",
   "execution_count": 113,
   "id": "f49a6b80",
   "metadata": {},
   "outputs": [],
   "source": [
    "answer_table = gen_table(dict_columns, \n",
    "                         'AnswerId', \n",
    "                         'QuestionId', \n",
    "                         'AnswerValue', \n",
    "                         'CorrectAnswer', \n",
    "                         'IsCorrect', \n",
    "                         'Confidence', \n",
    "                         'UserId')"
   ]
  },
  {
   "cell_type": "code",
   "execution_count": 114,
   "id": "3ea1625d",
   "metadata": {},
   "outputs": [
    {
     "name": "stdout",
     "output_type": "stream",
     "text": [
      "['10192', '10192', '15433', '1222', '2186', '15433']\n",
      "538835\n"
     ]
    }
   ],
   "source": [
    "print(organizationid[:6])\n",
    "print(len(organizationid))"
   ]
  },
  {
   "cell_type": "code",
   "execution_count": 115,
   "id": "72359caf",
   "metadata": {},
   "outputs": [
    {
     "name": "stdout",
     "output_type": "stream",
     "text": [
      "['239', '239', '201', '262', '392', '197']\n",
      "538835\n"
     ]
    }
   ],
   "source": [
    "print(dateid_answered[:6])\n",
    "print(len(dateid_answered))"
   ]
  },
  {
   "cell_type": "code",
   "execution_count": 116,
   "id": "98ad3ebd",
   "metadata": {},
   "outputs": [
    {
     "name": "stdout",
     "output_type": "stream",
     "text": [
      "['136', '136', '136', '136', '136', '136']\n",
      "538835\n"
     ]
    }
   ],
   "source": [
    "print(subjectid[:6])\n",
    "print(len(subjectid))"
   ]
  },
  {
   "cell_type": "code",
   "execution_count": 117,
   "id": "545e9b38",
   "metadata": {},
   "outputs": [
    {
     "data": {
      "text/plain": [
       "[('AnswerId',\n",
       "  'QuestionId',\n",
       "  'AnswerValue',\n",
       "  'CorrectAnswer',\n",
       "  'IsCorrect',\n",
       "  'Confidence',\n",
       "  'UserId'),\n",
       " ('9602029', '16997', '4', '4', '1', '100.0', '17397'),\n",
       " ('9987106', '16997', '4', '4', '1', '100.0', '95904'),\n",
       " ('1185187', '16997', '4', '4', '1', '50.0', '35717'),\n",
       " ('629715', '16997', '4', '4', '1', '100.0', '67433'),\n",
       " ('14856343', '16997', '4', '4', '1', '100.0', '90547')]"
      ]
     },
     "execution_count": 117,
     "metadata": {},
     "output_type": "execute_result"
    }
   ],
   "source": [
    "answer_table[:6]"
   ]
  },
  {
   "cell_type": "code",
   "execution_count": 118,
   "id": "bf22d640",
   "metadata": {},
   "outputs": [],
   "source": [
    "#function used to add multiple columns to a table\n",
    "def add_columns(table, *columns):\n",
    "    #zip every columns to a list\n",
    "    zipped_input = list(zip(*columns))\n",
    "    \n",
    "    #get the number of columns\n",
    "    len_rows = len(table[0])\n",
    "    len_zipped = len(zipped_input[0])\n",
    "    \n",
    "    output_table = list()\n",
    "    \n",
    "    #loop across every column\n",
    "    #get the rows of that column\n",
    "    #append to table\n",
    "    #for both table and *columns to add\n",
    "    \n",
    "    #add each column of the original table to the list\n",
    "    for col in range(len_rows):\n",
    "        origin = extract_col(table, col)\n",
    "        output_table.append((origin))\n",
    "    \n",
    "    #add each column of the zipped new columns to the list\n",
    "    for col in range(len_zipped):\n",
    "        origin = extract_col(zipped_input, col)\n",
    "        output_table.append((origin))\n",
    "        \n",
    "    return list(zip(*output_table))"
   ]
  },
  {
   "cell_type": "code",
   "execution_count": 119,
   "id": "ee5e880b",
   "metadata": {},
   "outputs": [],
   "source": [
    "h_organizationid = ['OrganizationId'] + organizationid\n",
    "h_dateid = ['DateId'] + dateid_answered #mapping answer dates on the fact table\n",
    "h_subjectid = ['SubjectId'] + subjectid"
   ]
  },
  {
   "cell_type": "code",
   "execution_count": 120,
   "id": "b991d8a1",
   "metadata": {},
   "outputs": [],
   "source": [
    "answer_final = add_columns(answer_table, \n",
    "                           h_organizationid, \n",
    "                           h_dateid, \n",
    "                           h_subjectid)"
   ]
  },
  {
   "cell_type": "code",
   "execution_count": 121,
   "id": "03b7e9b0",
   "metadata": {
    "scrolled": true
   },
   "outputs": [
    {
     "data": {
      "text/plain": [
       "538836"
      ]
     },
     "execution_count": 121,
     "metadata": {},
     "output_type": "execute_result"
    }
   ],
   "source": [
    "len(answer_final)"
   ]
  },
  {
   "cell_type": "code",
   "execution_count": 122,
   "id": "e2416a51",
   "metadata": {},
   "outputs": [
    {
     "data": {
      "text/plain": [
       "538836"
      ]
     },
     "execution_count": 122,
     "metadata": {},
     "output_type": "execute_result"
    }
   ],
   "source": [
    "len(set(answer_final))"
   ]
  },
  {
   "cell_type": "code",
   "execution_count": 123,
   "id": "5c94d618",
   "metadata": {
    "scrolled": false
   },
   "outputs": [
    {
     "data": {
      "text/plain": [
       "[('AnswerId',\n",
       "  'QuestionId',\n",
       "  'AnswerValue',\n",
       "  'CorrectAnswer',\n",
       "  'IsCorrect',\n",
       "  'Confidence',\n",
       "  'UserId',\n",
       "  'OrganizationId',\n",
       "  'DateId',\n",
       "  'SubjectId'),\n",
       " ('9602029', '16997', '4', '4', '1', '100.0', '17397', '10192', '239', '136'),\n",
       " ('9987106', '16997', '4', '4', '1', '100.0', '95904', '10192', '239', '136'),\n",
       " ('1185187', '16997', '4', '4', '1', '50.0', '35717', '15433', '201', '136'),\n",
       " ('629715', '16997', '4', '4', '1', '100.0', '67433', '1222', '262', '136'),\n",
       " ('14856343', '16997', '4', '4', '1', '100.0', '90547', '2186', '392', '136')]"
      ]
     },
     "execution_count": 123,
     "metadata": {},
     "output_type": "execute_result"
    }
   ],
   "source": [
    "answer_final[:6]"
   ]
  },
  {
   "cell_type": "code",
   "execution_count": 124,
   "id": "a7958ba0",
   "metadata": {},
   "outputs": [],
   "source": [
    "create_csv('Answers.csv', answer_final)"
   ]
  },
  {
   "cell_type": "markdown",
   "id": "7e73fc36",
   "metadata": {},
   "source": [
    "# LOADING ON THE SERVER\n",
    "To manage the data we used mainly functions written in the previous step and a Class we wrote to upload to the actual server"
   ]
  },
  {
   "cell_type": "code",
   "execution_count": 125,
   "id": "7e3b2ef2",
   "metadata": {},
   "outputs": [
    {
     "name": "stdout",
     "output_type": "stream",
     "text": [
      "['Answers.csv', 'Date.csv', 'Geography.csv', 'Organization.csv', 'Subject.csv', 'User.csv']\n"
     ]
    }
   ],
   "source": [
    "import os\n",
    "\n",
    "#listing the csv files in the same folder that do not have data in the name\n",
    "csv_files = [x for x in os.listdir() if x[-4:] == '.csv' and 'data' not in x]\n",
    "print(csv_files)\n",
    "\n",
    "#add the files to a dictionary to have them ready to be uploaded by calling just the file name\n",
    "tables = dict()\n",
    "for file_name in csv_files:\n",
    "    tables[file_name] = preprocess_csv_to_dict(file_name)"
   ]
  },
  {
   "cell_type": "markdown",
   "id": "a26d5c84",
   "metadata": {},
   "source": [
    "## Max length of characters for Subject"
   ]
  },
  {
   "cell_type": "code",
   "execution_count": 126,
   "id": "55cd5da6",
   "metadata": {
    "scrolled": true
   },
   "outputs": [
    {
     "data": {
      "text/plain": [
       "285"
      ]
     },
     "execution_count": 126,
     "metadata": {},
     "output_type": "execute_result"
    }
   ],
   "source": [
    "#getting the length of the subject table to check if it corresponds in the schema\n",
    "len(max(tables['Subject.csv']['Description'], key=lambda x: len(x)))"
   ]
  },
  {
   "cell_type": "markdown",
   "id": "64a07bde",
   "metadata": {},
   "source": [
    "# Upload tables on the Data Warehouse\n",
    "\n",
    "This class enstablish a connection to the server, adjust the table according to the type required by the schema on the server, it drops previous values from the table and then it load the files on the server (committing every 100 records uploaded)"
   ]
  },
  {
   "cell_type": "code",
   "execution_count": 127,
   "id": "2d48877d",
   "metadata": {},
   "outputs": [],
   "source": [
    "from datetime import datetime\n",
    "from tqdm import tqdm\n",
    "import pyodbc\n",
    "import copy\n",
    "\n",
    "#this class will empty the remote table to load the one from a dictionary\n",
    "\n",
    "class Upload_Table():\n",
    "    \n",
    "    def __init__(self, table_dict, table_name):\n",
    "        #to avoid editing the original dictionary (if error occurs)\n",
    "        self.table = copy.deepcopy(table_dict)\n",
    "        #it removes ambiguities in the case of reserved keywords (e.g. User)\n",
    "        self.table_name = \"[\"+table_name+\"]\" \n",
    "        \n",
    "        #Create a connection and a cursor in the database\n",
    "        self.conn = self.get_connection()\n",
    "        self.cursor = self.conn.cursor()\n",
    "        \n",
    "        #adjust the table input in the class to the types in the SQL Server Schema\n",
    "        self.table = self.adjust_types()\n",
    "        \n",
    "        #try to upload the table\n",
    "        try:\n",
    "            self.insert_into_table()\n",
    "            \n",
    "        #close connection if an exception occurs\n",
    "        except Exception as e:\n",
    "            self.cursor.close()\n",
    "            self.conn.close()\n",
    "            raise e\n",
    "            \n",
    "        #close connection if it is a success\n",
    "        self.cursor.close()\n",
    "        self.conn.close()\n",
    "        \n",
    "        #delete the connection variables from the class\n",
    "        del self.cursor\n",
    "        del self.conn\n",
    "        \n",
    "    #function to get the credentials and perform the connection to the database\n",
    "    def get_connection(self):\n",
    "        \n",
    "        #a file with the ip, userid and credentials must be in the same folder\n",
    "        with open('credentials.txt', 'r') as f:\n",
    "            ip, uid, pwd = f.read().splitlines()\n",
    "            \n",
    "        driver = 'ODBC Driver 17 for SQL Server'\n",
    "        self.db = 'Group_10_DB' #the name of the database to which I am operating\n",
    "\n",
    "        conn = pyodbc.connect(f'DRIVER={driver};SERVER=tcp:{ip};DATABASE={self.db};UID={uid};PWD={pwd}')\n",
    "        \n",
    "        return conn\n",
    "    \n",
    "    def adjust_types(self):\n",
    "        self.cursor.execute(f'SELECT * FROM {self.table_name}')\n",
    "        \n",
    "        #using a dictionary to cast the correct types to the data\n",
    "        #the lambda functions is there to cast the correct types\n",
    "        cast_types = {'int': lambda x: int(float(x)), #some strings have values with a dot\n",
    "                      'float': float, \n",
    "                      'str': str, \n",
    "                      'datetime.date': lambda x: datetime.strptime(x, '%Y-%m-%d').date(), \n",
    "                      'bool': bool}\n",
    "        \n",
    "        \n",
    "        col_type = dict()\n",
    "\n",
    "        #looping across the information get by the cursor\n",
    "        for name_col, type_col, _, len_char1, len_char2, _, accept_none in self.cursor.description:\n",
    "            #getting the type from the type_col response string\n",
    "            str_type = re.findall(\"'.*'\", str(type_col))[0].strip(\"'\")\n",
    "            #saving the column with the corresponding type to cast into a dictionary\n",
    "            col_type[name_col] = cast_types[str_type]\n",
    "\n",
    "        #get the header of the local table\n",
    "        self.header_table = list(self.table.keys())\n",
    "        #check if the header of the local table corresponds to the header in the server\n",
    "        assert list(col_type.keys()) == self.header_table, f'The header ({self.header_table}) of the table and the table in the Server ({list(col_type.keys())}) do not match!'\n",
    "\n",
    "        \n",
    "        table_list = list()\n",
    "\n",
    "        #cast the correct types to the local table\n",
    "        for col in self.header_table:\n",
    "            to_type = col_type[col] #get the stored type recast function from the col_type dictionary\n",
    "            self.table[col] = [to_type(el) for el in self.table[col]] #recast each element of the column\n",
    "            table_list.append([col] + self.table[col]) #save a copy and add the header to the column\n",
    "            \n",
    "        table_list = list(zip(*table_list)) #rebuild the table from the recasted columns (list of lists)\n",
    "        \n",
    "        return table_list\n",
    "\n",
    "    def sql_query_maker(self):\n",
    "        #add the first part of the query with table name and the rest\n",
    "        sql_query = f\"INSERT INTO {self.table_name} ({', '.join(self.header_table)}) VALUES (?\"\n",
    "        \n",
    "        #for each element in the header add the parametric question mark (except for the first, thus -1)\n",
    "        for i in range(len(self.header_table)-1):\n",
    "            sql_query += \",?\"\n",
    "        sql_query += \")\" #close the row to upload\n",
    "\n",
    "        return sql_query\n",
    "\n",
    "    def delete_previous_vals_from_table(self, table_name):\n",
    "        #try to delete the values from the table considered to upload\n",
    "        try:\n",
    "            self.cursor.execute(f'DELETE FROM {table_name}')\n",
    "            \n",
    "        #Every data in the hierarchy of the table will be deleted to avoid the Integrity Error\n",
    "        except pyodbc.IntegrityError as ierr:\n",
    "            #looking for the table to DELETE FROM in the error with regex\n",
    "            table_prefix = self.db[:self.db.rfind('_')]\n",
    "            start_idx = re.search(f'The conflict occurred in database \"{self.db}\", table \"{table_prefix}\\.', str(ierr)).end()\n",
    "            end_idx = str(ierr)[start_idx:].find('\"')+start_idx\n",
    "            \n",
    "            new_table = str(ierr)[start_idx:end_idx]\n",
    "            new_table_name = \"[\"+new_table+\"]\"\n",
    "            \n",
    "            #recursively remove from the tables in the higher hierarchy\n",
    "            self.delete_previous_vals_from_table(new_table_name)\n",
    "            #retry removing from the table (it should work now)\n",
    "            self.cursor.execute(f'DELETE FROM {table_name}')\n",
    "            \n",
    "    def insert_into_table(self):\n",
    "        #getting the query\n",
    "        sql_query = self.sql_query_maker()\n",
    "        #removing all the values from table to upload it\n",
    "        self.delete_previous_vals_from_table(self.table_name)\n",
    "        \n",
    "        print(\"Query:\\n\" + sql_query)\n",
    "\n",
    "        #tqdm gives the progress bar, I looped across the rows (avoiding the header)\n",
    "        for n, row in enumerate(tqdm(self.table[1:], ascii=True, desc='Uploading Progress')):\n",
    "            tupla = tuple(el for el in row) #making the row a tuple if it is not\n",
    "            \n",
    "            # Try to reconnect at least 10 times if the execution fails\n",
    "            for attempt in range(10):\n",
    "                try:\n",
    "                    #executing the query with the values in the tuple\n",
    "                    self.cursor.execute(sql_query, (tupla))\n",
    "                    break\n",
    "                    \n",
    "                #if it reaches the 10th execution raise the error I blocked\n",
    "                except Exception as e:\n",
    "                    if attempt == 9:\n",
    "                        raise e\n",
    "                    else:\n",
    "                        continue\n",
    "            \n",
    "            #to commit every 1000 records (in case it crashes and I avoid the delete statement to finish uploading later)\n",
    "            if n == (n // 1000) * 1000:\n",
    "                self.conn.commit()\n",
    "                \n",
    "        #commit at the end\n",
    "        self.conn.commit()"
   ]
  },
  {
   "cell_type": "code",
   "execution_count": 128,
   "id": "c7c670a7",
   "metadata": {
    "scrolled": false
   },
   "outputs": [
    {
     "name": "stdout",
     "output_type": "stream",
     "text": [
      "Query:\n",
      "INSERT INTO [Geography] (GeoId, Region, CountryCode, CountryName, Continents) VALUES (?,?,?,?,?)\n"
     ]
    },
    {
     "name": "stderr",
     "output_type": "stream",
     "text": [
      "Uploading Progress: 100%|#############################################################| 76/76 [00:00<00:00, 785.16it/s]\n"
     ]
    },
    {
     "name": "stdout",
     "output_type": "stream",
     "text": [
      "Query:\n",
      "INSERT INTO [Subject] (SubjectId, Description) VALUES (?,?)\n"
     ]
    },
    {
     "name": "stderr",
     "output_type": "stream",
     "text": [
      "Uploading Progress: 100%|###########################################################| 412/412 [00:00<00:00, 867.36it/s]\n"
     ]
    },
    {
     "name": "stdout",
     "output_type": "stream",
     "text": [
      "Query:\n",
      "INSERT INTO [Organization] (OrganizationId, GroupId, QuizId, SchemeOfWorkId) VALUES (?,?,?,?)\n"
     ]
    },
    {
     "name": "stderr",
     "output_type": "stream",
     "text": [
      "Uploading Progress: 100%|#######################################################| 24640/24640 [00:37<00:00, 665.14it/s]\n"
     ]
    },
    {
     "name": "stdout",
     "output_type": "stream",
     "text": [
      "Query:\n",
      "INSERT INTO [Date] (DateId, Dates, Year, Month, Day, Quarter) VALUES (?,?,?,?,?,?)\n"
     ]
    },
    {
     "name": "stderr",
     "output_type": "stream",
     "text": [
      "Uploading Progress: 100%|###########################################################| 596/596 [00:01<00:00, 475.64it/s]\n"
     ]
    },
    {
     "name": "stdout",
     "output_type": "stream",
     "text": [
      "Query:\n",
      "INSERT INTO [User] (UserId, DateId, GeoId, Gender) VALUES (?,?,?,?)\n"
     ]
    },
    {
     "name": "stderr",
     "output_type": "stream",
     "text": [
      "Uploading Progress: 100%|#######################################################| 13630/13630 [00:20<00:00, 653.80it/s]\n"
     ]
    },
    {
     "name": "stdout",
     "output_type": "stream",
     "text": [
      "Query:\n",
      "INSERT INTO [Answers] (AnswerId, QuestionId, AnswerValue, CorrectAnswer, IsCorrect, Confidence, UserId, OrganizationId, DateId, SubjectId) VALUES (?,?,?,?,?,?,?,?,?,?)\n"
     ]
    },
    {
     "name": "stderr",
     "output_type": "stream",
     "text": [
      "Uploading Progress: 100%|#####################################################| 538835/538835 [14:07<00:00, 635.83it/s]\n"
     ]
    },
    {
     "data": {
      "text/plain": [
       "<__main__.Upload_Table at 0x17b76be5cd0>"
      ]
     },
     "execution_count": 128,
     "metadata": {},
     "output_type": "execute_result"
    }
   ],
   "source": [
    "Upload_Table(tables['Geography.csv'], 'Geography')\n",
    "Upload_Table(tables['Subject.csv'], 'Subject')\n",
    "Upload_Table(tables['Organization.csv'], 'Organization')\n",
    "Upload_Table(tables['Date.csv'], 'Date')\n",
    "Upload_Table(tables['User.csv'], 'User')\n",
    "Upload_Table(tables['Answers.csv'], 'Answers')"
   ]
  }
 ],
 "metadata": {
  "kernelspec": {
   "display_name": "Python 3 (ipykernel)",
   "language": "python",
   "name": "python3"
  },
  "language_info": {
   "codemirror_mode": {
    "name": "ipython",
    "version": 3
   },
   "file_extension": ".py",
   "mimetype": "text/x-python",
   "name": "python",
   "nbconvert_exporter": "python",
   "pygments_lexer": "ipython3",
   "version": "3.8.13"
  }
 },
 "nbformat": 4,
 "nbformat_minor": 5
}
